{
 "cells": [
  {
   "cell_type": "code",
   "execution_count": 2,
   "metadata": {},
   "outputs": [],
   "source": [
    "import pandas as pd\n",
    "from sklearn.decomposition import PCA\n",
    "\n",
    "import numpy as np\n",
    "\n",
    "from numpy import genfromtxt\n",
    "from numpy import linalg as LA\n",
    "\n",
    "import warnings\n",
    "warnings.filterwarnings('ignore')\n",
    "\n",
    "\n",
    "from mpl_toolkits import mplot3d\n",
    "\n",
    "%matplotlib inline\n",
    "import matplotlib.pyplot as plt"
   ]
  },
  {
   "cell_type": "code",
   "execution_count": 3,
   "metadata": {},
   "outputs": [],
   "source": [
    "# read pivot tables to data frames\n",
    "\n",
    "df_o = pd.read_csv('pivot_o.csv', skipinitialspace=True, sep=';', engine='python')\n",
    "df_f = pd.read_csv('pivot_f.csv', skipinitialspace=True, sep=';', engine='python')\n",
    "df_g = pd.read_csv('pivot_g.csv', skipinitialspace=True, sep=';', engine='python')"
   ]
  },
  {
   "cell_type": "code",
   "execution_count": 4,
   "metadata": {},
   "outputs": [
    {
     "data": {
      "text/html": [
       "<div>\n",
       "<style scoped>\n",
       "    .dataframe tbody tr th:only-of-type {\n",
       "        vertical-align: middle;\n",
       "    }\n",
       "\n",
       "    .dataframe tbody tr th {\n",
       "        vertical-align: top;\n",
       "    }\n",
       "\n",
       "    .dataframe thead th {\n",
       "        text-align: right;\n",
       "    }\n",
       "</style>\n",
       "<table border=\"1\" class=\"dataframe\">\n",
       "  <thead>\n",
       "    <tr style=\"text-align: right;\">\n",
       "      <th></th>\n",
       "      <th>Unnamed: 0</th>\n",
       "      <th>o__</th>\n",
       "      <th>o__Acidimicrobiales</th>\n",
       "      <th>o__Acidobacteriales</th>\n",
       "      <th>o__Actinomycetales</th>\n",
       "      <th>o__Aeromonadales</th>\n",
       "      <th>o__Alteromonadales</th>\n",
       "      <th>o__Anaeroplasmatales</th>\n",
       "      <th>o__Aquificales</th>\n",
       "      <th>o__Bacillales</th>\n",
       "      <th>...</th>\n",
       "      <th>o__SBla14</th>\n",
       "      <th>o__Sphaerochaetales</th>\n",
       "      <th>o__Spirobacillales</th>\n",
       "      <th>o__Sva0725</th>\n",
       "      <th>o__Thermoanaerobacterales</th>\n",
       "      <th>o__Thermogemmatisporales</th>\n",
       "      <th>o__Thiohalorhabdales</th>\n",
       "      <th>o__YLA114</th>\n",
       "      <th>o__Z20</th>\n",
       "      <th>o__mle1-48</th>\n",
       "    </tr>\n",
       "  </thead>\n",
       "  <tbody>\n",
       "    <tr>\n",
       "      <th>0</th>\n",
       "      <td>10317.000052344</td>\n",
       "      <td>0.0</td>\n",
       "      <td>0.0</td>\n",
       "      <td>0.0</td>\n",
       "      <td>0.001334</td>\n",
       "      <td>0.0</td>\n",
       "      <td>0.0</td>\n",
       "      <td>0.0</td>\n",
       "      <td>0.0</td>\n",
       "      <td>0.000140</td>\n",
       "      <td>...</td>\n",
       "      <td>0.0</td>\n",
       "      <td>0.0</td>\n",
       "      <td>0.0</td>\n",
       "      <td>0.0</td>\n",
       "      <td>0.0</td>\n",
       "      <td>0.0</td>\n",
       "      <td>0.0</td>\n",
       "      <td>0.0</td>\n",
       "      <td>0.0</td>\n",
       "      <td>0.0</td>\n",
       "    </tr>\n",
       "    <tr>\n",
       "      <th>1</th>\n",
       "      <td>10317.000052366</td>\n",
       "      <td>0.0</td>\n",
       "      <td>0.0</td>\n",
       "      <td>0.0</td>\n",
       "      <td>0.007542</td>\n",
       "      <td>0.0</td>\n",
       "      <td>0.0</td>\n",
       "      <td>0.0</td>\n",
       "      <td>0.0</td>\n",
       "      <td>0.001019</td>\n",
       "      <td>...</td>\n",
       "      <td>0.0</td>\n",
       "      <td>0.0</td>\n",
       "      <td>0.0</td>\n",
       "      <td>0.0</td>\n",
       "      <td>0.0</td>\n",
       "      <td>0.0</td>\n",
       "      <td>0.0</td>\n",
       "      <td>0.0</td>\n",
       "      <td>0.0</td>\n",
       "      <td>0.0</td>\n",
       "    </tr>\n",
       "    <tr>\n",
       "      <th>2</th>\n",
       "      <td>10317.000052369</td>\n",
       "      <td>0.0</td>\n",
       "      <td>0.0</td>\n",
       "      <td>0.0</td>\n",
       "      <td>0.000838</td>\n",
       "      <td>0.0</td>\n",
       "      <td>0.0</td>\n",
       "      <td>0.0</td>\n",
       "      <td>0.0</td>\n",
       "      <td>0.000000</td>\n",
       "      <td>...</td>\n",
       "      <td>0.0</td>\n",
       "      <td>0.0</td>\n",
       "      <td>0.0</td>\n",
       "      <td>0.0</td>\n",
       "      <td>0.0</td>\n",
       "      <td>0.0</td>\n",
       "      <td>0.0</td>\n",
       "      <td>0.0</td>\n",
       "      <td>0.0</td>\n",
       "      <td>0.0</td>\n",
       "    </tr>\n",
       "    <tr>\n",
       "      <th>3</th>\n",
       "      <td>10317.00005237</td>\n",
       "      <td>0.0</td>\n",
       "      <td>0.0</td>\n",
       "      <td>0.0</td>\n",
       "      <td>0.000000</td>\n",
       "      <td>0.0</td>\n",
       "      <td>0.0</td>\n",
       "      <td>0.0</td>\n",
       "      <td>0.0</td>\n",
       "      <td>0.000000</td>\n",
       "      <td>...</td>\n",
       "      <td>0.0</td>\n",
       "      <td>0.0</td>\n",
       "      <td>0.0</td>\n",
       "      <td>0.0</td>\n",
       "      <td>0.0</td>\n",
       "      <td>0.0</td>\n",
       "      <td>0.0</td>\n",
       "      <td>0.0</td>\n",
       "      <td>0.0</td>\n",
       "      <td>0.0</td>\n",
       "    </tr>\n",
       "    <tr>\n",
       "      <th>4</th>\n",
       "      <td>10317.000052372</td>\n",
       "      <td>0.0</td>\n",
       "      <td>0.0</td>\n",
       "      <td>0.0</td>\n",
       "      <td>0.000693</td>\n",
       "      <td>0.0</td>\n",
       "      <td>0.0</td>\n",
       "      <td>0.0</td>\n",
       "      <td>0.0</td>\n",
       "      <td>0.000000</td>\n",
       "      <td>...</td>\n",
       "      <td>0.0</td>\n",
       "      <td>0.0</td>\n",
       "      <td>0.0</td>\n",
       "      <td>0.0</td>\n",
       "      <td>0.0</td>\n",
       "      <td>0.0</td>\n",
       "      <td>0.0</td>\n",
       "      <td>0.0</td>\n",
       "      <td>0.0</td>\n",
       "      <td>0.0</td>\n",
       "    </tr>\n",
       "    <tr>\n",
       "      <th>...</th>\n",
       "      <td>...</td>\n",
       "      <td>...</td>\n",
       "      <td>...</td>\n",
       "      <td>...</td>\n",
       "      <td>...</td>\n",
       "      <td>...</td>\n",
       "      <td>...</td>\n",
       "      <td>...</td>\n",
       "      <td>...</td>\n",
       "      <td>...</td>\n",
       "      <td>...</td>\n",
       "      <td>...</td>\n",
       "      <td>...</td>\n",
       "      <td>...</td>\n",
       "      <td>...</td>\n",
       "      <td>...</td>\n",
       "      <td>...</td>\n",
       "      <td>...</td>\n",
       "      <td>...</td>\n",
       "      <td>...</td>\n",
       "      <td>...</td>\n",
       "    </tr>\n",
       "    <tr>\n",
       "      <th>14093</th>\n",
       "      <td>MSM5LLIO</td>\n",
       "      <td>0.0</td>\n",
       "      <td>0.0</td>\n",
       "      <td>0.0</td>\n",
       "      <td>0.000000</td>\n",
       "      <td>0.0</td>\n",
       "      <td>0.0</td>\n",
       "      <td>0.0</td>\n",
       "      <td>0.0</td>\n",
       "      <td>0.000000</td>\n",
       "      <td>...</td>\n",
       "      <td>0.0</td>\n",
       "      <td>0.0</td>\n",
       "      <td>0.0</td>\n",
       "      <td>0.0</td>\n",
       "      <td>0.0</td>\n",
       "      <td>0.0</td>\n",
       "      <td>0.0</td>\n",
       "      <td>0.0</td>\n",
       "      <td>0.0</td>\n",
       "      <td>0.0</td>\n",
       "    </tr>\n",
       "    <tr>\n",
       "      <th>14094</th>\n",
       "      <td>MSM5LLIQ</td>\n",
       "      <td>0.0</td>\n",
       "      <td>0.0</td>\n",
       "      <td>0.0</td>\n",
       "      <td>0.000000</td>\n",
       "      <td>0.0</td>\n",
       "      <td>0.0</td>\n",
       "      <td>0.0</td>\n",
       "      <td>0.0</td>\n",
       "      <td>0.000286</td>\n",
       "      <td>...</td>\n",
       "      <td>0.0</td>\n",
       "      <td>0.0</td>\n",
       "      <td>0.0</td>\n",
       "      <td>0.0</td>\n",
       "      <td>0.0</td>\n",
       "      <td>0.0</td>\n",
       "      <td>0.0</td>\n",
       "      <td>0.0</td>\n",
       "      <td>0.0</td>\n",
       "      <td>0.0</td>\n",
       "    </tr>\n",
       "    <tr>\n",
       "      <th>14095</th>\n",
       "      <td>MSM5ZOJY</td>\n",
       "      <td>0.0</td>\n",
       "      <td>0.0</td>\n",
       "      <td>0.0</td>\n",
       "      <td>0.000000</td>\n",
       "      <td>0.0</td>\n",
       "      <td>0.0</td>\n",
       "      <td>0.0</td>\n",
       "      <td>0.0</td>\n",
       "      <td>0.000000</td>\n",
       "      <td>...</td>\n",
       "      <td>0.0</td>\n",
       "      <td>0.0</td>\n",
       "      <td>0.0</td>\n",
       "      <td>0.0</td>\n",
       "      <td>0.0</td>\n",
       "      <td>0.0</td>\n",
       "      <td>0.0</td>\n",
       "      <td>0.0</td>\n",
       "      <td>0.0</td>\n",
       "      <td>0.0</td>\n",
       "    </tr>\n",
       "    <tr>\n",
       "      <th>14096</th>\n",
       "      <td>MSM633FF</td>\n",
       "      <td>0.0</td>\n",
       "      <td>0.0</td>\n",
       "      <td>0.0</td>\n",
       "      <td>0.000930</td>\n",
       "      <td>0.0</td>\n",
       "      <td>0.0</td>\n",
       "      <td>0.0</td>\n",
       "      <td>0.0</td>\n",
       "      <td>0.000000</td>\n",
       "      <td>...</td>\n",
       "      <td>0.0</td>\n",
       "      <td>0.0</td>\n",
       "      <td>0.0</td>\n",
       "      <td>0.0</td>\n",
       "      <td>0.0</td>\n",
       "      <td>0.0</td>\n",
       "      <td>0.0</td>\n",
       "      <td>0.0</td>\n",
       "      <td>0.0</td>\n",
       "      <td>0.0</td>\n",
       "    </tr>\n",
       "    <tr>\n",
       "      <th>14097</th>\n",
       "      <td>otu_table</td>\n",
       "      <td>0.0</td>\n",
       "      <td>0.0</td>\n",
       "      <td>0.0</td>\n",
       "      <td>0.000023</td>\n",
       "      <td>0.0</td>\n",
       "      <td>0.0</td>\n",
       "      <td>0.0</td>\n",
       "      <td>0.0</td>\n",
       "      <td>0.000000</td>\n",
       "      <td>...</td>\n",
       "      <td>0.0</td>\n",
       "      <td>0.0</td>\n",
       "      <td>0.0</td>\n",
       "      <td>0.0</td>\n",
       "      <td>0.0</td>\n",
       "      <td>0.0</td>\n",
       "      <td>0.0</td>\n",
       "      <td>0.0</td>\n",
       "      <td>0.0</td>\n",
       "      <td>0.0</td>\n",
       "    </tr>\n",
       "  </tbody>\n",
       "</table>\n",
       "<p>14098 rows × 180 columns</p>\n",
       "</div>"
      ],
      "text/plain": [
       "            Unnamed: 0  o__  o__Acidimicrobiales  o__Acidobacteriales  \\\n",
       "0      10317.000052344  0.0                  0.0                  0.0   \n",
       "1      10317.000052366  0.0                  0.0                  0.0   \n",
       "2      10317.000052369  0.0                  0.0                  0.0   \n",
       "3       10317.00005237  0.0                  0.0                  0.0   \n",
       "4      10317.000052372  0.0                  0.0                  0.0   \n",
       "...                ...  ...                  ...                  ...   \n",
       "14093         MSM5LLIO  0.0                  0.0                  0.0   \n",
       "14094         MSM5LLIQ  0.0                  0.0                  0.0   \n",
       "14095         MSM5ZOJY  0.0                  0.0                  0.0   \n",
       "14096         MSM633FF  0.0                  0.0                  0.0   \n",
       "14097        otu_table  0.0                  0.0                  0.0   \n",
       "\n",
       "       o__Actinomycetales  o__Aeromonadales  o__Alteromonadales  \\\n",
       "0                0.001334               0.0                 0.0   \n",
       "1                0.007542               0.0                 0.0   \n",
       "2                0.000838               0.0                 0.0   \n",
       "3                0.000000               0.0                 0.0   \n",
       "4                0.000693               0.0                 0.0   \n",
       "...                   ...               ...                 ...   \n",
       "14093            0.000000               0.0                 0.0   \n",
       "14094            0.000000               0.0                 0.0   \n",
       "14095            0.000000               0.0                 0.0   \n",
       "14096            0.000930               0.0                 0.0   \n",
       "14097            0.000023               0.0                 0.0   \n",
       "\n",
       "       o__Anaeroplasmatales  o__Aquificales  o__Bacillales  ...  o__SBla14  \\\n",
       "0                       0.0             0.0       0.000140  ...        0.0   \n",
       "1                       0.0             0.0       0.001019  ...        0.0   \n",
       "2                       0.0             0.0       0.000000  ...        0.0   \n",
       "3                       0.0             0.0       0.000000  ...        0.0   \n",
       "4                       0.0             0.0       0.000000  ...        0.0   \n",
       "...                     ...             ...            ...  ...        ...   \n",
       "14093                   0.0             0.0       0.000000  ...        0.0   \n",
       "14094                   0.0             0.0       0.000286  ...        0.0   \n",
       "14095                   0.0             0.0       0.000000  ...        0.0   \n",
       "14096                   0.0             0.0       0.000000  ...        0.0   \n",
       "14097                   0.0             0.0       0.000000  ...        0.0   \n",
       "\n",
       "       o__Sphaerochaetales  o__Spirobacillales  o__Sva0725  \\\n",
       "0                      0.0                 0.0         0.0   \n",
       "1                      0.0                 0.0         0.0   \n",
       "2                      0.0                 0.0         0.0   \n",
       "3                      0.0                 0.0         0.0   \n",
       "4                      0.0                 0.0         0.0   \n",
       "...                    ...                 ...         ...   \n",
       "14093                  0.0                 0.0         0.0   \n",
       "14094                  0.0                 0.0         0.0   \n",
       "14095                  0.0                 0.0         0.0   \n",
       "14096                  0.0                 0.0         0.0   \n",
       "14097                  0.0                 0.0         0.0   \n",
       "\n",
       "       o__Thermoanaerobacterales  o__Thermogemmatisporales  \\\n",
       "0                            0.0                       0.0   \n",
       "1                            0.0                       0.0   \n",
       "2                            0.0                       0.0   \n",
       "3                            0.0                       0.0   \n",
       "4                            0.0                       0.0   \n",
       "...                          ...                       ...   \n",
       "14093                        0.0                       0.0   \n",
       "14094                        0.0                       0.0   \n",
       "14095                        0.0                       0.0   \n",
       "14096                        0.0                       0.0   \n",
       "14097                        0.0                       0.0   \n",
       "\n",
       "       o__Thiohalorhabdales  o__YLA114  o__Z20  o__mle1-48  \n",
       "0                       0.0        0.0     0.0         0.0  \n",
       "1                       0.0        0.0     0.0         0.0  \n",
       "2                       0.0        0.0     0.0         0.0  \n",
       "3                       0.0        0.0     0.0         0.0  \n",
       "4                       0.0        0.0     0.0         0.0  \n",
       "...                     ...        ...     ...         ...  \n",
       "14093                   0.0        0.0     0.0         0.0  \n",
       "14094                   0.0        0.0     0.0         0.0  \n",
       "14095                   0.0        0.0     0.0         0.0  \n",
       "14096                   0.0        0.0     0.0         0.0  \n",
       "14097                   0.0        0.0     0.0         0.0  \n",
       "\n",
       "[14098 rows x 180 columns]"
      ]
     },
     "execution_count": 4,
     "metadata": {},
     "output_type": "execute_result"
    }
   ],
   "source": [
    "df_o"
   ]
  },
  {
   "cell_type": "code",
   "execution_count": 5,
   "metadata": {},
   "outputs": [],
   "source": [
    "# dropping column with names\n",
    "\n",
    "data_o = df_o.drop('Unnamed: 0', axis = 1)\n",
    "data_f = df_f.drop('Unnamed: 0', axis = 1)\n",
    "data_g = df_g.drop('Unnamed: 0', axis = 1)"
   ]
  },
  {
   "cell_type": "code",
   "execution_count": 6,
   "metadata": {},
   "outputs": [
    {
     "data": {
      "text/plain": [
       "(14098, 179)"
      ]
     },
     "execution_count": 6,
     "metadata": {},
     "output_type": "execute_result"
    }
   ],
   "source": [
    "data_o.shape"
   ]
  },
  {
   "cell_type": "code",
   "execution_count": 7,
   "metadata": {},
   "outputs": [],
   "source": [
    "# Applying standard PCA procedure from sklearn\n",
    "\n",
    "pca = PCA()\n",
    "pca.fit(data_o)\n",
    "\n",
    "eigenvectors_o = pca.components_\n",
    "eigenvalues_o = pca.explained_variance_\n",
    "\n",
    "#print(\"Eigenvalues:\\n\", eigenvalues_o)\n",
    "#print(\"\\nEigenvectors:\\n\", eigenvectors_o)"
   ]
  },
  {
   "cell_type": "code",
   "execution_count": 8,
   "metadata": {},
   "outputs": [],
   "source": [
    "# define the i-th normalized eigenvalue - expected variance\n",
    "\n",
    "def EV_i(i, eigenvalues):\n",
    "    return eigenvalues[i] / np.sum(eigenvalues)"
   ]
  },
  {
   "cell_type": "code",
   "execution_count": 9,
   "metadata": {},
   "outputs": [],
   "source": [
    "# define the sum of the eigenvalues from 1st to ith normalized - cumulative expected variance\n",
    "\n",
    "def CEV_d(d, eigenvalues):\n",
    "    eigenvalues_d_sum = 0\n",
    "    for i in range(d):\n",
    "        eigenvalues_d_sum += eigenvalues_o[i]\n",
    "    return eigenvalues_d_sum / np.sum(eigenvalues)"
   ]
  },
  {
   "cell_type": "code",
   "execution_count": 10,
   "metadata": {},
   "outputs": [],
   "source": [
    "# calculating the list of the EVs and CEVs\n",
    "# evnum is the first eigenvalue having CEV more or equal to 0.99\n",
    "\n",
    "EV = []\n",
    "CEV = []\n",
    "ev_num = -1\n",
    "\n",
    "for i in range(data_o.shape[1]):\n",
    "    EV.append(EV_i(i, pca.explained_variance_))\n",
    "    CEV.append(CEV_d(i, pca.explained_variance_))\n",
    "    if (ev_num == -1 and CEV[i] >= 0.99) :\n",
    "        ev_num = i"
   ]
  },
  {
   "cell_type": "code",
   "execution_count": 11,
   "metadata": {},
   "outputs": [
    {
     "name": "stdout",
     "output_type": "stream",
     "text": [
      "20\n",
      "0.00028376061789103124\n"
     ]
    }
   ],
   "source": [
    "print(ev_num)\n",
    "print(eigenvalues_o[ev_num])"
   ]
  },
  {
   "cell_type": "code",
   "execution_count": 38,
   "metadata": {},
   "outputs": [
    {
     "data": {
      "text/plain": [
       "[<matplotlib.lines.Line2D at 0x7f8de01ec1d0>]"
      ]
     },
     "execution_count": 38,
     "metadata": {},
     "output_type": "execute_result"
    },
    {
     "data": {
      "image/png": "[encoded data removed]",
      "text/plain": [
       "<Figure size 864x378 with 2 Axes>"
      ]
     },
     "metadata": {
      "needs_background": "light"
     },
     "output_type": "display_data"
    }
   ],
   "source": [
    "# plot EV/CEVs\n",
    "\n",
    "fig = plt.figure(figsize=(12,5.25))\n",
    "\n",
    "plt.subplot(121)\n",
    "plt.title(\"Explained variance\")\n",
    "plt.xlabel(\"# PCs\")\n",
    "plt.grid(linestyle=\"dotted\")\n",
    "plt.plot(EV, \"o-\",linestyle = \"-\", markersize= 3.0)\n",
    "\n",
    "plt.subplot(122)\n",
    "plt.title(\"Cumulative explained variance\")\n",
    "plt.axhline(linewidth=1, y=0.99, color='r')\n",
    "plt.axhline(linewidth=1, y=0.95, color='r')\n",
    "plt.axhline(linewidth=1, y=0.9, color='r')\n",
    "plt.axhline(linewidth=1, y=0.8, color='r')\n",
    "plt.xlabel(\"# PCs\")\n",
    "plt.grid(linestyle=\"dotted\")\n",
    "plt.plot(CEV, \"o-\",markersize= 3.0)"
   ]
  },
  {
   "cell_type": "code",
   "execution_count": 39,
   "metadata": {},
   "outputs": [
    {
     "data": {
      "text/plain": [
       "0.9910493187129852"
      ]
     },
     "execution_count": 39,
     "metadata": {},
     "output_type": "execute_result"
    }
   ],
   "source": [
    "sum(pca.explained_variance_ratio_[0:ev_num])"
   ]
  },
  {
   "cell_type": "code",
   "execution_count": null,
   "metadata": {},
   "outputs": [],
   "source": []
  },
  {
   "cell_type": "code",
   "execution_count": null,
   "metadata": {},
   "outputs": [],
   "source": []
  },
  {
   "cell_type": "markdown",
   "metadata": {},
   "source": [
    "## Fragment here is for testing . Ignore this."
   ]
  },
  {
   "cell_type": "code",
   "execution_count": 744,
   "metadata": {},
   "outputs": [],
   "source": [
    "# manual projection formula\n",
    "# This would be needed for the inverse manual transform after the manifold learning\n",
    "# and inverse kernel regression reconstruction\n",
    "proj1 = np.dot(data_centered_np_o, chosen_ev.T)"
   ]
  },
  {
   "cell_type": "code",
   "execution_count": 745,
   "metadata": {},
   "outputs": [
    {
     "data": {
      "text/plain": [
       "array([[-0.15233025,  0.2125124 , -0.00612836, ...,  0.00287836,\n",
       "        -0.00215817, -0.00415035],\n",
       "       [-0.16197173, -0.08758274, -0.01822054, ..., -0.00951803,\n",
       "        -0.00061325, -0.00421621],\n",
       "       [-0.15970531, -0.22186946, -0.01824396, ...,  0.00350775,\n",
       "        -0.00393539, -0.00741864],\n",
       "       ...,\n",
       "       [-0.07531961, -0.5441434 , -0.11227014, ..., -0.01949599,\n",
       "        -0.00116305, -0.00619755],\n",
       "       [-0.03387491,  0.18981409,  0.01463004, ...,  0.01733272,\n",
       "        -0.00830437, -0.00217051],\n",
       "       [-0.08965747, -0.14413832, -0.00702615, ...,  0.00310124,\n",
       "         0.00564794,  0.00631433]])"
      ]
     },
     "execution_count": 745,
     "metadata": {},
     "output_type": "execute_result"
    }
   ],
   "source": [
    "proj1"
   ]
  },
  {
   "cell_type": "code",
   "execution_count": 746,
   "metadata": {},
   "outputs": [
    {
     "data": {
      "text/plain": [
       "(14098, 20)"
      ]
     },
     "execution_count": 746,
     "metadata": {},
     "output_type": "execute_result"
    }
   ],
   "source": [
    "proj1.shape"
   ]
  },
  {
   "cell_type": "code",
   "execution_count": 747,
   "metadata": {},
   "outputs": [],
   "source": [
    "pca2 = PCA(n_components=ev_num)"
   ]
  },
  {
   "cell_type": "code",
   "execution_count": 752,
   "metadata": {},
   "outputs": [],
   "source": [
    "# automatic projection formula\n",
    "proj2 = pca2.fit_transform(numpy_o)"
   ]
  },
  {
   "cell_type": "code",
   "execution_count": 753,
   "metadata": {},
   "outputs": [
    {
     "data": {
      "text/plain": [
       "array([[-0.15233025,  0.2125124 , -0.00612836, ...,  0.00287846,\n",
       "        -0.00215819, -0.0041502 ],\n",
       "       [-0.16197173, -0.08758274, -0.01822054, ..., -0.00951806,\n",
       "        -0.00061324, -0.00421625],\n",
       "       [-0.15970531, -0.22186946, -0.01824396, ...,  0.00350786,\n",
       "        -0.00393542, -0.00741849],\n",
       "       ...,\n",
       "       [-0.07531961, -0.5441434 , -0.11227014, ..., -0.01949591,\n",
       "        -0.00116307, -0.00619744],\n",
       "       [-0.03387491,  0.18981409,  0.01463004, ...,  0.01733271,\n",
       "        -0.00830436, -0.00217052],\n",
       "       [-0.08965747, -0.14413832, -0.00702615, ...,  0.00310236,\n",
       "         0.00564791,  0.00631619]])"
      ]
     },
     "execution_count": 753,
     "metadata": {},
     "output_type": "execute_result"
    }
   ],
   "source": [
    "proj2"
   ]
  },
  {
   "cell_type": "code",
   "execution_count": 754,
   "metadata": {},
   "outputs": [
    {
     "data": {
      "text/plain": [
       "7.880332922538535e-06"
      ]
     },
     "execution_count": 754,
     "metadata": {},
     "output_type": "execute_result"
    }
   ],
   "source": [
    "# check that the difference between the projections is close to zero,\n",
    "# so the methods are performing the same transformation\n",
    "np.max(proj1-proj2)"
   ]
  },
  {
   "cell_type": "code",
   "execution_count": 758,
   "metadata": {},
   "outputs": [
    {
     "data": {
      "text/plain": [
       "2.220446049250313e-16"
      ]
     },
     "execution_count": 758,
     "metadata": {},
     "output_type": "execute_result"
    }
   ],
   "source": [
    "np.max(proj1-proj)"
   ]
  },
  {
   "cell_type": "code",
   "execution_count": 759,
   "metadata": {},
   "outputs": [
    {
     "data": {
      "text/plain": [
       "2.3431703683227112e-05"
      ]
     },
     "execution_count": 759,
     "metadata": {},
     "output_type": "execute_result"
    }
   ],
   "source": [
    "np.max(proj2-proj)"
   ]
  },
  {
   "cell_type": "code",
   "execution_count": 723,
   "metadata": {},
   "outputs": [],
   "source": [
    "inverse = pca2.inverse_transform(proj2)"
   ]
  },
  {
   "cell_type": "code",
   "execution_count": 594,
   "metadata": {},
   "outputs": [
    {
     "data": {
      "text/plain": [
       "array([[-5.35260525e-04, -2.77528709e-05, -8.53441484e-06, ...,\n",
       "         1.79742626e-08,  2.77493627e-06,  2.94364414e-08],\n",
       "       [-8.65241630e-04, -3.80368265e-05, -1.48170350e-05, ...,\n",
       "         9.24768014e-08,  1.20447808e-06,  1.64776244e-09],\n",
       "       [-4.44127913e-04, -3.13742149e-05, -1.01716792e-05, ...,\n",
       "         1.79024074e-07,  3.25570541e-06,  9.61141227e-08],\n",
       "       ...,\n",
       "       [-7.91354991e-04, -6.03205079e-05, -1.90413771e-05, ...,\n",
       "         2.06664769e-07,  3.44433206e-07, -7.19510567e-08],\n",
       "       [-5.88899120e-04, -6.53055816e-05,  3.44341351e-05, ...,\n",
       "        -4.11169953e-08,  8.61318981e-06,  3.15872820e-08],\n",
       "       [ 1.94010562e-03,  1.02586719e-04,  1.94194556e-05, ...,\n",
       "         5.53911700e-08,  3.92806494e-06, -2.29643713e-08]])"
      ]
     },
     "execution_count": 594,
     "metadata": {},
     "output_type": "execute_result"
    }
   ],
   "source": [
    "inverse"
   ]
  },
  {
   "cell_type": "code",
   "execution_count": 739,
   "metadata": {},
   "outputs": [],
   "source": [
    "numpy_o = genfromtxt('pivot_o.csv', delimiter=';', skip_header=1, usecols=range(1, dimension+1))"
   ]
  },
  {
   "cell_type": "code",
   "execution_count": 740,
   "metadata": {},
   "outputs": [
    {
     "data": {
      "text/plain": [
       "1.1102230246251565e-16"
      ]
     },
     "execution_count": 740,
     "metadata": {},
     "output_type": "execute_result"
    }
   ],
   "source": [
    "# check that numpy and pandas formats do not differ significantly\n",
    "# numpy format is more suitable for computations, pandas for visual representation and formatting\n",
    "# Also pandas format contains the bacteria marks of the data\n",
    "np.max(np.max(numpy_o - data_o))"
   ]
  },
  {
   "cell_type": "code",
   "execution_count": null,
   "metadata": {},
   "outputs": [],
   "source": []
  },
  {
   "cell_type": "code",
   "execution_count": 599,
   "metadata": {},
   "outputs": [],
   "source": [
    "# manual inverse PCA transformation from chosen 99% variance principal components \n",
    "\n",
    "inverse2 = np.dot(proj1, chosen_ev) + mean_np_o"
   ]
  },
  {
   "cell_type": "code",
   "execution_count": 600,
   "metadata": {},
   "outputs": [
    {
     "data": {
      "text/plain": [
       "array([[-5.35243384e-04, -2.77493798e-05, -8.53434986e-06, ...,\n",
       "         1.79742141e-08,  2.77492061e-06,  2.94362922e-08],\n",
       "       [-8.65249247e-04, -3.80376231e-05, -1.48170941e-05, ...,\n",
       "         9.24768285e-08,  1.20448476e-06,  1.64783768e-09],\n",
       "       [-4.44111759e-04, -3.13692600e-05, -1.01716369e-05, ...,\n",
       "         1.79023989e-07,  3.25569262e-06,  9.61139478e-08],\n",
       "       ...,\n",
       "       [-7.91343672e-04, -6.03202660e-05, -1.90413084e-05, ...,\n",
       "         2.06664772e-07,  3.44422435e-07, -7.19510977e-08],\n",
       "       [-5.88903357e-04, -6.52988344e-05,  3.44341356e-05, ...,\n",
       "        -4.11171749e-08,  8.61319753e-06,  3.15870694e-08],\n",
       "       [ 1.94050886e-03,  1.02612299e-04,  1.94218269e-05, ...,\n",
       "         5.53908566e-08,  3.92767243e-06, -2.29668138e-08]])"
      ]
     },
     "execution_count": 600,
     "metadata": {},
     "output_type": "execute_result"
    }
   ],
   "source": [
    "inverse2"
   ]
  },
  {
   "cell_type": "code",
   "execution_count": 601,
   "metadata": {},
   "outputs": [
    {
     "data": {
      "text/plain": [
       "4.080435808200347e-05"
      ]
     },
     "execution_count": 601,
     "metadata": {},
     "output_type": "execute_result"
    }
   ],
   "source": [
    "# Check that two variants of the inverse transformations are close and don't vary significantly\n",
    "# That would be crucial for performing the inverse transform for the data reconstructed\n",
    "# after manifold learning algorithms\n",
    "\n",
    "np.max(inverse2 - inverse)"
   ]
  },
  {
   "cell_type": "code",
   "execution_count": null,
   "metadata": {},
   "outputs": [],
   "source": []
  },
  {
   "cell_type": "code",
   "execution_count": 741,
   "metadata": {},
   "outputs": [],
   "source": [
    "# center the data\n",
    "mean_np_o = np.mean(numpy_o, axis=0)\n",
    "data_centered_np_o = numpy_o - mean_np_o"
   ]
  },
  {
   "cell_type": "code",
   "execution_count": 742,
   "metadata": {},
   "outputs": [
    {
     "data": {
      "text/plain": [
       "array([5.10968270e-04, 2.71302020e-05, 1.16056038e-05, 1.87561094e-02,\n",
       "       7.04880802e-04, 1.20600037e-05, 2.77426815e-04, 1.05884531e-08,\n",
       "       9.28428793e-03, 3.63049274e-01, 1.50258333e-02, 4.65452240e-06,\n",
       "       1.64618340e-02, 7.47548924e-06, 6.51684235e-03, 2.77572336e-06,\n",
       "       1.75164158e-03, 7.58326892e-05, 6.84700613e-07, 3.84700596e-01,\n",
       "       7.52334649e-03, 1.13634935e-05, 7.07057096e-06, 2.82593202e-03,\n",
       "       4.93760858e-08, 4.64971903e-02, 1.03201038e-02, 1.16238484e-03,\n",
       "       6.02968302e-03, 1.06447266e-03, 9.20992360e-05, 3.22916797e-04,\n",
       "       2.11195281e-09, 4.54708401e-02, 5.24693456e-04, 2.01724437e-05,\n",
       "       1.93418110e-03, 1.87839318e-06, 3.49375607e-05, 3.38816610e-03,\n",
       "       1.19811220e-02, 4.91748589e-05, 3.43985844e-03, 5.43842117e-03,\n",
       "       6.82289368e-03, 1.69261147e-04, 4.54066688e-05, 1.31334194e-04,\n",
       "       5.95187443e-05, 4.18692058e-07, 4.13276195e-05, 6.60691955e-05,\n",
       "       3.99960812e-04, 1.59370433e-03, 5.10360082e-05, 8.02275231e-04,\n",
       "       2.98893362e-04, 6.82652985e-04, 1.61916788e-02, 2.95767931e-04,\n",
       "       2.23642000e-06, 5.32252256e-03, 1.04897157e-03, 5.34818949e-06,\n",
       "       3.34463434e-04, 2.48376857e-08, 3.66763429e-07, 1.23705645e-06,\n",
       "       2.81021512e-06, 3.55792907e-06, 5.16012978e-06, 3.45341435e-06,\n",
       "       3.33677038e-07, 1.12496635e-06, 8.75895482e-07, 1.80040132e-06,\n",
       "       2.17066545e-06, 5.61061209e-06, 3.29621760e-06, 1.34875470e-06,\n",
       "       3.82115289e-06, 1.48393404e-06, 1.60384497e-06, 6.05337762e-06,\n",
       "       1.04841943e-05, 1.04660846e-05, 2.90077694e-06, 1.91833212e-05,\n",
       "       2.72646409e-07, 7.46746486e-06, 6.13835444e-06, 1.49016906e-06,\n",
       "       8.07981559e-06, 1.00362206e-06, 1.14125584e-06, 2.86075474e-06,\n",
       "       4.09091293e-08, 2.07750766e-06, 2.88169101e-06, 1.35343362e-05,\n",
       "       1.90490522e-06, 2.20364458e-07, 7.22689990e-06, 7.10979475e-06,\n",
       "       1.12551768e-05, 5.02552848e-06, 3.70198560e-06, 1.19720328e-06,\n",
       "       8.97558885e-06, 2.12990865e-06, 8.55427486e-09, 1.00942148e-08,\n",
       "       1.60009229e-06, 4.27370687e-07, 1.34372772e-07, 5.90936244e-08,\n",
       "       6.30297476e-08, 3.37390564e-07, 6.00758060e-06, 8.55427486e-09,\n",
       "       1.07557385e-07, 5.19363332e-08, 9.68700727e-08, 7.53213007e-06,\n",
       "       3.48151128e-07, 1.75248260e-06, 5.59565138e-07, 7.87416074e-06,\n",
       "       4.72172056e-09, 4.09330434e-05, 2.61838491e-08, 2.46701776e-08,\n",
       "       1.93814938e-05, 2.15608056e-06, 1.05029784e-07, 3.33873640e-07,\n",
       "       1.62324741e-07, 5.84679759e-08, 4.45026955e-07, 1.13044290e-07,\n",
       "       1.19765846e-06, 2.45563220e-06, 4.76471075e-07, 5.02909089e-07,\n",
       "       1.69154325e-08, 2.91802730e-07, 3.63319347e-08, 9.92716099e-08,\n",
       "       1.46836358e-07, 4.18884567e-07, 1.86275611e-06, 3.63199831e-07,\n",
       "       1.25611966e-07, 3.86888006e-09, 1.55568676e-06, 1.03716987e-08,\n",
       "       5.73383282e-07, 6.26648343e-08, 4.07267984e-07, 7.59164614e-07,\n",
       "       4.93996811e-06, 2.71667053e-07, 3.08779893e-07, 1.74225892e-07,\n",
       "       1.77488558e-07, 5.92394723e-07, 2.49493962e-06, 1.38289315e-08,\n",
       "       1.12772299e-06, 3.95999731e-08, 3.18380749e-08, 7.43068264e-07,\n",
       "       4.88549094e-08, 8.43829800e-07, 3.55248750e-07, 1.05524753e-05,\n",
       "       5.77836930e-08, 2.46109415e-06, 4.55458264e-08])"
      ]
     },
     "execution_count": 742,
     "metadata": {},
     "output_type": "execute_result"
    }
   ],
   "source": [
    "mean_np_o"
   ]
  },
  {
   "cell_type": "code",
   "execution_count": 762,
   "metadata": {},
   "outputs": [
    {
     "data": {
      "text/plain": [
       "1.6653345369377348e-16"
      ]
     },
     "execution_count": 762,
     "metadata": {},
     "output_type": "execute_result"
    }
   ],
   "source": [
    "np.max(pca.mean_ - mean_np_o)"
   ]
  },
  {
   "cell_type": "code",
   "execution_count": 743,
   "metadata": {},
   "outputs": [
    {
     "data": {
      "text/plain": [
       "array([[-5.10968270e-04, -2.71302020e-05, -1.16056038e-05, ...,\n",
       "        -5.77836930e-08, -2.46109415e-06, -4.55458264e-08],\n",
       "       [-5.10968270e-04, -2.71302020e-05, -1.16056038e-05, ...,\n",
       "        -5.77836930e-08, -2.46109415e-06, -4.55458264e-08],\n",
       "       [-5.10968270e-04, -2.71302020e-05, -1.16056038e-05, ...,\n",
       "        -5.77836930e-08, -2.46109415e-06, -4.55458264e-08],\n",
       "       ...,\n",
       "       [-5.10968270e-04, -2.71302020e-05, -1.16056038e-05, ...,\n",
       "        -5.77836930e-08, -2.46109415e-06, -4.55458264e-08],\n",
       "       [-5.10968270e-04, -2.71302020e-05, -1.16056038e-05, ...,\n",
       "        -5.77836930e-08, -2.46109415e-06, -4.55458264e-08],\n",
       "       [-5.10968270e-04, -2.71302020e-05, -1.16056038e-05, ...,\n",
       "        -5.77836930e-08, -2.46109415e-06, -4.55458264e-08]])"
      ]
     },
     "execution_count": 743,
     "metadata": {},
     "output_type": "execute_result"
    }
   ],
   "source": [
    "data_centered_np_o"
   ]
  },
  {
   "cell_type": "code",
   "execution_count": null,
   "metadata": {},
   "outputs": [],
   "source": []
  },
  {
   "cell_type": "code",
   "execution_count": 611,
   "metadata": {},
   "outputs": [
    {
     "data": {
      "text/plain": [
       "63.65674099404679"
      ]
     },
     "execution_count": 611,
     "metadata": {},
     "output_type": "execute_result"
    }
   ],
   "source": [
    "np.linalg.norm(inverse2 - data_centered_np_o)"
   ]
  },
  {
   "cell_type": "markdown",
   "metadata": {},
   "source": [
    "## Fragment ended. Code below is a part of the working version of the Notebook"
   ]
  },
  {
   "cell_type": "code",
   "execution_count": 40,
   "metadata": {},
   "outputs": [],
   "source": [
    "# reduce the dimensionality of the data\n",
    "\n",
    "pca = PCA(n_components = ev_num)\n",
    "proj = pca.fit_transform(data_o)"
   ]
  },
  {
   "cell_type": "code",
   "execution_count": 41,
   "metadata": {},
   "outputs": [
    {
     "data": {
      "text/plain": [
       "array([[-0.15233025,  0.2125124 , -0.00612836, ...,  0.00287845,\n",
       "        -0.00215841, -0.00415001],\n",
       "       [-0.16197173, -0.08758274, -0.01822054, ..., -0.00951807,\n",
       "        -0.00061319, -0.00421628],\n",
       "       [-0.15970531, -0.22186946, -0.01824396, ...,  0.00350786,\n",
       "        -0.00393567, -0.00741826],\n",
       "       ...,\n",
       "       [-0.07531961, -0.5441434 , -0.11227014, ..., -0.01949591,\n",
       "        -0.00116324, -0.00619727],\n",
       "       [-0.03387491,  0.18981409,  0.01463004, ...,  0.01733272,\n",
       "        -0.00830439, -0.00217048],\n",
       "       [-0.08965747, -0.14413832, -0.00702615, ...,  0.00310199,\n",
       "         0.00564757,  0.00631374]])"
      ]
     },
     "execution_count": 41,
     "metadata": {},
     "output_type": "execute_result"
    }
   ],
   "source": [
    "# display the projected data\n",
    "\n",
    "proj"
   ]
  },
  {
   "cell_type": "code",
   "execution_count": 42,
   "metadata": {},
   "outputs": [
    {
     "data": {
      "text/plain": [
       "(14098, 20)"
      ]
     },
     "execution_count": 42,
     "metadata": {},
     "output_type": "execute_result"
    }
   ],
   "source": [
    "proj.shape"
   ]
  },
  {
   "cell_type": "markdown",
   "metadata": {},
   "source": [
    "### Piece of the code below is to calculate inverse transform and check the error"
   ]
  },
  {
   "cell_type": "code",
   "execution_count": 44,
   "metadata": {},
   "outputs": [],
   "source": [
    "# inverse transform calculation\n",
    "inv = pca.inverse_transform(proj)"
   ]
  },
  {
   "cell_type": "code",
   "execution_count": 45,
   "metadata": {},
   "outputs": [
    {
     "data": {
      "text/plain": [
       "(14098, 179)"
      ]
     },
     "execution_count": 45,
     "metadata": {},
     "output_type": "execute_result"
    }
   ],
   "source": [
    "inv.shape"
   ]
  },
  {
   "cell_type": "code",
   "execution_count": 52,
   "metadata": {},
   "outputs": [],
   "source": [
    "# error shows how much of the vector length is estimated by the PCA projection\n",
    "errors = np.linalg.norm(data_o - inv, axis=1) / np.linalg.norm(data_o)"
   ]
  },
  {
   "cell_type": "code",
   "execution_count": 64,
   "metadata": {},
   "outputs": [
    {
     "data": {
      "text/plain": [
       "array([0.01186782, 0.01090075, 0.01013285, 0.00978029, 0.00963578])"
      ]
     },
     "execution_count": 64,
     "metadata": {},
     "output_type": "execute_result"
    }
   ],
   "source": [
    "# display 5 maximal errors\n",
    "errors[errors.argsort()][::-1][0:5]"
   ]
  },
  {
   "cell_type": "markdown",
   "metadata": {},
   "source": [
    "#### We see that the maximal 3 errors are 1.2%, 1.1%, 1%. All the next errors are less than 1%\n",
    "#### So the number of eigenvalues is chosen right"
   ]
  },
  {
   "cell_type": "markdown",
   "metadata": {},
   "source": [
    " ### Piece ended"
   ]
  },
  {
   "cell_type": "code",
   "execution_count": null,
   "metadata": {},
   "outputs": [],
   "source": []
  },
  {
   "cell_type": "code",
   "execution_count": 807,
   "metadata": {},
   "outputs": [],
   "source": [
    "# store projected data for the O level\n",
    "\n",
    "np.savetxt('proj_o.csv', proj, delimiter = ';')"
   ]
  },
  {
   "cell_type": "markdown",
   "metadata": {},
   "source": [
    "# Now we would repeat all the steps for the F taxonomic level"
   ]
  },
  {
   "cell_type": "code",
   "execution_count": 808,
   "metadata": {},
   "outputs": [],
   "source": [
    "# Applying standard PCA procedure from sklearn\n",
    "\n",
    "pca = PCA()\n",
    "pca.fit(data_f)\n",
    "\n",
    "eigenvectors_f = pca.components_\n",
    "eigenvalues_f = pca.explained_variance_"
   ]
  },
  {
   "cell_type": "code",
   "execution_count": 809,
   "metadata": {},
   "outputs": [],
   "source": [
    "# define the sum of the eigenvalues from 1st to ith normalized - cumulative expected variance\n",
    "\n",
    "def CEV_d(d, eigenvalues):\n",
    "    eigenvalues_d_sum = 0\n",
    "    for i in range(d):\n",
    "        eigenvalues_d_sum += eigenvalues_f[i]\n",
    "    return eigenvalues_d_sum / np.sum(eigenvalues)"
   ]
  },
  {
   "cell_type": "code",
   "execution_count": 811,
   "metadata": {},
   "outputs": [],
   "source": [
    "# calculating the list of the EVs and CEVs\n",
    "# evnum is the first eigenvalue having CEV more or equal to 0.99\n",
    "\n",
    "EV = []\n",
    "CEV = []\n",
    "ev_num = -1\n",
    "\n",
    "for i in range(data_f.shape[1]):\n",
    "    EV.append(EV_i(i, pca.explained_variance_))\n",
    "    CEV.append(CEV_d(i, pca.explained_variance_))\n",
    "    if (ev_num == -1 and CEV[i] >= 0.99) :\n",
    "        ev_num = i"
   ]
  },
  {
   "cell_type": "code",
   "execution_count": 812,
   "metadata": {},
   "outputs": [
    {
     "name": "stdout",
     "output_type": "stream",
     "text": [
      "42\n",
      "0.00014294268263355598\n"
     ]
    }
   ],
   "source": [
    "print(ev_num)\n",
    "print(eigenvalues_f[ev_num])"
   ]
  },
  {
   "cell_type": "code",
   "execution_count": 813,
   "metadata": {},
   "outputs": [
    {
     "data": {
      "text/plain": [
       "[<matplotlib.lines.Line2D at 0x7f93f39fad68>]"
      ]
     },
     "execution_count": 813,
     "metadata": {},
     "output_type": "execute_result"
    },
    {
     "data": {
      "image/png": "[encoded data removed]",
      "text/plain": [
       "<Figure size 864x378 with 2 Axes>"
      ]
     },
     "metadata": {
      "needs_background": "light"
     },
     "output_type": "display_data"
    }
   ],
   "source": [
    "#plot EV/CEVs\n",
    "\n",
    "fig = plt.figure(figsize=(12,5.25))\n",
    "\n",
    "plt.subplot(121)\n",
    "plt.title(\"Explained variance\")\n",
    "plt.xlabel(\"# PCs\")\n",
    "plt.grid(linestyle=\"dotted\")\n",
    "plt.plot(EV, \"o-\")\n",
    "\n",
    "plt.subplot(122)\n",
    "plt.title(\"Cumulative explained variance\")\n",
    "plt.axhline(linewidth=1, y=0.99, color='r')\n",
    "plt.axhline(linewidth=1, y=0.95, color='r')\n",
    "plt.axhline(linewidth=1, y=0.9, color='r')\n",
    "plt.axhline(linewidth=1, y=0.8, color='r')\n",
    "plt.xlabel(\"# PCs\")\n",
    "plt.grid(linestyle=\"dotted\")\n",
    "plt.plot(CEV, \"o-\")"
   ]
  },
  {
   "cell_type": "code",
   "execution_count": 814,
   "metadata": {},
   "outputs": [],
   "source": [
    "# reduce the dimensionality of the data\n",
    "\n",
    "pca = PCA(n_components = ev_num)\n",
    "proj = pca.fit_transform(data_f)"
   ]
  },
  {
   "cell_type": "code",
   "execution_count": 815,
   "metadata": {},
   "outputs": [
    {
     "data": {
      "text/plain": [
       "array([[-5.52306200e-03, -2.21734034e-01, -3.65004573e-01, ...,\n",
       "        -2.18877109e-03,  3.74378849e-04, -5.41398740e-04],\n",
       "       [-8.80305866e-03, -1.59531720e-01, -2.67906383e-01, ...,\n",
       "        -6.87772382e-03,  1.77548640e-03,  5.89458567e-03],\n",
       "       [ 2.84424470e-01,  9.24015537e-02,  9.55367337e-02, ...,\n",
       "         4.00920175e-04,  7.79741662e-04,  3.46817389e-03],\n",
       "       ...,\n",
       "       [-7.93059284e-02, -9.38510332e-02, -3.22381404e-01, ...,\n",
       "        -3.83110743e-03,  2.11017375e-03,  6.93915131e-04],\n",
       "       [ 2.44292876e-01,  1.07541471e-01,  1.14370174e-01, ...,\n",
       "        -8.79108733e-03, -2.42248595e-03, -5.16567946e-03],\n",
       "       [ 5.73109748e-02, -6.51060592e-02, -1.26680948e-01, ...,\n",
       "        -4.15069637e-03,  3.46864525e-05,  9.42597991e-04]])"
      ]
     },
     "execution_count": 815,
     "metadata": {},
     "output_type": "execute_result"
    }
   ],
   "source": [
    "# display the projected data\n",
    "\n",
    "proj"
   ]
  },
  {
   "cell_type": "code",
   "execution_count": 816,
   "metadata": {},
   "outputs": [
    {
     "data": {
      "text/plain": [
       "(14098, 42)"
      ]
     },
     "execution_count": 816,
     "metadata": {},
     "output_type": "execute_result"
    }
   ],
   "source": [
    "proj.shape"
   ]
  },
  {
   "cell_type": "code",
   "execution_count": 817,
   "metadata": {},
   "outputs": [],
   "source": [
    "# store projected data for the F level\n",
    "\n",
    "np.savetxt('proj_f.csv', proj, delimiter = ';')"
   ]
  },
  {
   "cell_type": "markdown",
   "metadata": {},
   "source": [
    "# Now we would repeat all the steps for the G taxonomic level"
   ]
  },
  {
   "cell_type": "code",
   "execution_count": 818,
   "metadata": {},
   "outputs": [],
   "source": [
    "# Applying standard PCA procedure from sklearn\n",
    "\n",
    "pca = PCA()\n",
    "pca.fit(data_g)\n",
    "\n",
    "eigenvectors_g = pca.components_\n",
    "eigenvalues_g = pca.explained_variance_"
   ]
  },
  {
   "cell_type": "code",
   "execution_count": 819,
   "metadata": {},
   "outputs": [],
   "source": [
    "# define the sum of the eigenvalues from 1st to ith normalized - cumulative expected variance\n",
    "\n",
    "def CEV_d(d, eigenvalues):\n",
    "    eigenvalues_d_sum = 0\n",
    "    for i in range(d):\n",
    "        eigenvalues_d_sum += eigenvalues_g[i]\n",
    "    return eigenvalues_d_sum / np.sum(eigenvalues)"
   ]
  },
  {
   "cell_type": "code",
   "execution_count": 820,
   "metadata": {},
   "outputs": [],
   "source": [
    "# calculating the list of the EVs and CEVs\n",
    "# evnum is the first eigenvalue having CEV more or equal to 0.99\n",
    "\n",
    "EV = []\n",
    "CEV = []\n",
    "ev_num = -1\n",
    "\n",
    "for i in range(data_g.shape[1]):\n",
    "    EV.append(EV_i(i, pca.explained_variance_))\n",
    "    CEV.append(CEV_d(i, pca.explained_variance_))\n",
    "    if (ev_num == -1 and CEV[i] >= 0.99) :\n",
    "        ev_num = i"
   ]
  },
  {
   "cell_type": "code",
   "execution_count": 821,
   "metadata": {},
   "outputs": [
    {
     "name": "stdout",
     "output_type": "stream",
     "text": [
      "68\n",
      "5.737187072326544e-05\n"
     ]
    }
   ],
   "source": [
    "print(ev_num)\n",
    "print(eigenvalues_g[ev_num])"
   ]
  },
  {
   "cell_type": "code",
   "execution_count": 822,
   "metadata": {},
   "outputs": [
    {
     "data": {
      "text/plain": [
       "[<matplotlib.lines.Line2D at 0x7f93d7c7cc50>]"
      ]
     },
     "execution_count": 822,
     "metadata": {},
     "output_type": "execute_result"
    },
    {
     "data": {
      "image/png": "[encoded data removed]",
      "text/plain": [
       "<Figure size 864x378 with 2 Axes>"
      ]
     },
     "metadata": {
      "needs_background": "light"
     },
     "output_type": "display_data"
    }
   ],
   "source": [
    "#plot EV/CEVs\n",
    "\n",
    "fig = plt.figure(figsize=(12,5.25))\n",
    "\n",
    "plt.subplot(121)\n",
    "plt.title(\"Explained variance\")\n",
    "plt.xlabel(\"# PCs\")\n",
    "plt.grid(linestyle=\"dotted\")\n",
    "plt.plot(EV, \"o-\")\n",
    "\n",
    "plt.subplot(122)\n",
    "plt.title(\"Cumulative explained variance\")\n",
    "plt.axhline(linewidth=1, y=0.99, color='r')\n",
    "plt.axhline(linewidth=1, y=0.95, color='r')\n",
    "plt.axhline(linewidth=1, y=0.9, color='r')\n",
    "plt.axhline(linewidth=1, y=0.8, color='r')\n",
    "plt.xlabel(\"# PCs\")\n",
    "plt.grid(linestyle=\"dotted\")\n",
    "plt.plot(CEV, \"o-\")"
   ]
  },
  {
   "cell_type": "code",
   "execution_count": 823,
   "metadata": {},
   "outputs": [],
   "source": [
    "# reduce the dimensionality of the data\n",
    "\n",
    "pca = PCA(n_components = ev_num)\n",
    "proj = pca.fit_transform(data_g)"
   ]
  },
  {
   "cell_type": "code",
   "execution_count": 824,
   "metadata": {},
   "outputs": [
    {
     "data": {
      "text/plain": [
       "(14098, 68)"
      ]
     },
     "execution_count": 824,
     "metadata": {},
     "output_type": "execute_result"
    }
   ],
   "source": [
    "proj.shape"
   ]
  },
  {
   "cell_type": "code",
   "execution_count": 825,
   "metadata": {},
   "outputs": [
    {
     "data": {
      "text/plain": [
       "array([[ 1.14195206e-01, -1.91648205e-02,  5.74712980e-02, ...,\n",
       "         1.88520027e-04, -9.38123015e-05, -2.67311031e-04],\n",
       "       [-4.67752138e-02,  4.70265412e-02,  1.11285613e-01, ...,\n",
       "         1.01232710e-04, -3.00220635e-04,  2.46054021e-04],\n",
       "       [ 1.66294728e-01, -1.84971514e-01, -5.93443976e-02, ...,\n",
       "        -3.85754321e-04,  4.05959914e-04,  8.20427399e-05],\n",
       "       ...,\n",
       "       [-3.32869690e-01, -9.30243331e-02,  2.66369407e-02, ...,\n",
       "        -1.21452978e-03, -1.07363496e-04, -5.30612711e-04],\n",
       "       [ 2.71519704e-01, -1.10532497e-01, -2.18727884e-02, ...,\n",
       "        -5.80977021e-04, -3.42292515e-04, -6.19184462e-04],\n",
       "       [-1.19797392e-01, -1.42222114e-01, -1.83370169e-02, ...,\n",
       "        -3.67985718e-04, -3.57928802e-04,  3.54831383e-04]])"
      ]
     },
     "execution_count": 825,
     "metadata": {},
     "output_type": "execute_result"
    }
   ],
   "source": [
    "# display the projected data\n",
    "\n",
    "proj"
   ]
  },
  {
   "cell_type": "code",
   "execution_count": 829,
   "metadata": {},
   "outputs": [],
   "source": [
    "# store projected data for the G level\n",
    "\n",
    "np.savetxt('proj_g.csv', proj, delimiter = ';')"
   ]
  },
  {
   "cell_type": "code",
   "execution_count": null,
   "metadata": {},
   "outputs": [],
   "source": []
  },
  {
   "cell_type": "markdown",
   "metadata": {},
   "source": [
    "# End of the Notebook. Ignore the pieces below"
   ]
  },
  {
   "cell_type": "code",
   "execution_count": null,
   "metadata": {},
   "outputs": [],
   "source": []
  },
  {
   "cell_type": "markdown",
   "metadata": {},
   "source": [
    "## The code below checks which of the variants for interpretation of the  sci-kit PCA is correct. \n",
    "## Either PCA eigenvectors matrix with rows containing the eigenvectors or the variant with the same matrix containing columns as the eigenvectors (mathematical standard notation).\n",
    "## Code below would check which transformation is spanning the desired projection.\n",
    "\n",
    "## Spolier: natural variant with rows is correct (as documented in sci-kit code). So the eigenvectors matrix should be transposed to perform the correct transformation manually."
   ]
  },
  {
   "cell_type": "code",
   "execution_count": 353,
   "metadata": {},
   "outputs": [],
   "source": [
    "# two points are chosen as the rows of the 2 by 2 matrix: (1;-1) and (3;3)\n",
    "\n",
    "example = np.array([[1,-1], [3,3]])"
   ]
  },
  {
   "cell_type": "code",
   "execution_count": 354,
   "metadata": {},
   "outputs": [
    {
     "data": {
      "text/plain": [
       "array([[ 1, -1],\n",
       "       [ 3,  3]])"
      ]
     },
     "execution_count": 354,
     "metadata": {},
     "output_type": "execute_result"
    }
   ],
   "source": [
    "example"
   ]
  },
  {
   "cell_type": "code",
   "execution_count": 355,
   "metadata": {},
   "outputs": [],
   "source": [
    "# centering the data\n",
    "mean_example = np.mean(example, axis=0)\n",
    "centered_example = example - mean_example"
   ]
  },
  {
   "cell_type": "code",
   "execution_count": 356,
   "metadata": {},
   "outputs": [
    {
     "data": {
      "text/plain": [
       "array([[-1., -2.],\n",
       "       [ 1.,  2.]])"
      ]
     },
     "execution_count": 356,
     "metadata": {},
     "output_type": "execute_result"
    }
   ],
   "source": [
    "centered_example"
   ]
  },
  {
   "cell_type": "code",
   "execution_count": 358,
   "metadata": {},
   "outputs": [
    {
     "data": {
      "text/plain": [
       "array([[ 0.4472136 ,  0.89442719],\n",
       "       [-0.89442719,  0.4472136 ]])"
      ]
     },
     "execution_count": 358,
     "metadata": {},
     "output_type": "execute_result"
    }
   ],
   "source": [
    "# performing PCA and showing the components\n",
    "\n",
    "pca_ex=PCA()\n",
    "pca_ex.fit(example)\n",
    "#pca_ex.components_"
   ]
  },
  {
   "cell_type": "code",
   "execution_count": 436,
   "metadata": {},
   "outputs": [
    {
     "data": {
      "image/png": "[encoded data removed]",
      "text/plain": [
       "<Figure size 432x288 with 1 Axes>"
      ]
     },
     "metadata": {
      "needs_background": "light"
     },
     "output_type": "display_data"
    }
   ],
   "source": [
    "# red are the example poins\n",
    "# magenta points are centered example points\n",
    "# blue are the principal components as the rows of the matrix (natural variant, that is correct)\n",
    "# green are the principal components as the columns of the matrix\n",
    "# in two dimensions, centered points are always lying on the same line, incident with the 1st principal component\n",
    "# note that you need to transpose matrix to plot the vectors correctly\n",
    "\n",
    "plt.quiver([0, 0], [0, 0], example.T[0], example.T[1], angles='xy', scale_units='xy', scale=1, color='r')\n",
    "plt.quiver([0, 0], [0, 0], centered_example.T[0], centered_example.T[1], angles='xy', scale_units='xy', scale=1, color='m')\n",
    "plt.quiver([0, 0], [0, 0], pca_ex.components_[0], pca_ex.components_[1], angles='xy', scale_units='xy', scale=1, color='g')\n",
    "plt.quiver([0, 0], [0, 0], pca_ex.components_.T[0], pca_ex.components_.T[1], angles='xy', scale_units='xy', scale=1, color='b')\n",
    "\n",
    "plt.xlim(-4, 4)\n",
    "plt.ylim(-4, 4)\n",
    "plt.show()"
   ]
  },
  {
   "cell_type": "markdown",
   "metadata": {},
   "source": [
    "#### We see that the first component of the blue vector is lying on the same line as the centered vectors\n",
    "#### So the natural variant, when the components_ matrix is enterpreted as the rows containing eigenvectors is correct"
   ]
  },
  {
   "cell_type": "code",
   "execution_count": 393,
   "metadata": {},
   "outputs": [],
   "source": [
    "# the variant of the transformation, when the principal vectors are the columns\n",
    "\n",
    "pr1 = np.dot(centered_example, pca_ex.components_[:,0])"
   ]
  },
  {
   "cell_type": "code",
   "execution_count": 378,
   "metadata": {},
   "outputs": [
    {
     "data": {
      "text/plain": [
       "array([[ 0.4472136 ,  0.89442719],\n",
       "       [-0.89442719,  0.4472136 ]])"
      ]
     },
     "execution_count": 378,
     "metadata": {},
     "output_type": "execute_result"
    }
   ],
   "source": [
    "pca_ex.components_"
   ]
  },
  {
   "cell_type": "code",
   "execution_count": 392,
   "metadata": {},
   "outputs": [
    {
     "data": {
      "text/plain": [
       "array([ 0.4472136 , -0.89442719])"
      ]
     },
     "execution_count": 392,
     "metadata": {},
     "output_type": "execute_result"
    }
   ],
   "source": [
    "pca_ex.components_[:,0]"
   ]
  },
  {
   "cell_type": "code",
   "execution_count": 389,
   "metadata": {},
   "outputs": [
    {
     "data": {
      "text/plain": [
       "array([0.4472136 , 0.89442719])"
      ]
     },
     "execution_count": 389,
     "metadata": {},
     "output_type": "execute_result"
    }
   ],
   "source": [
    "pca_ex.components_[0]"
   ]
  },
  {
   "cell_type": "code",
   "execution_count": 408,
   "metadata": {},
   "outputs": [],
   "source": [
    "# the variant of the transformation, when the principal vectors are the rows (correct one)\n",
    "\n",
    "pr2 = np.dot(centered_example, pca_ex.components_[0].T)"
   ]
  },
  {
   "cell_type": "code",
   "execution_count": 394,
   "metadata": {},
   "outputs": [
    {
     "data": {
      "text/plain": [
       "array([ 1.34164079, -1.34164079])"
      ]
     },
     "execution_count": 394,
     "metadata": {},
     "output_type": "execute_result"
    }
   ],
   "source": [
    "pr1"
   ]
  },
  {
   "cell_type": "code",
   "execution_count": 409,
   "metadata": {},
   "outputs": [
    {
     "data": {
      "text/plain": [
       "array([-2.23606798,  2.23606798])"
      ]
     },
     "execution_count": 409,
     "metadata": {},
     "output_type": "execute_result"
    }
   ],
   "source": [
    "pr2"
   ]
  },
  {
   "cell_type": "code",
   "execution_count": 360,
   "metadata": {},
   "outputs": [
    {
     "data": {
      "text/plain": [
       "array([[-2.23606798e+00, -1.11022302e-16],\n",
       "       [ 2.23606798e+00,  1.11022302e-16]])"
      ]
     },
     "execution_count": 360,
     "metadata": {},
     "output_type": "execute_result"
    }
   ],
   "source": [
    "pca_ex.transform(example)"
   ]
  },
  {
   "cell_type": "code",
   "execution_count": 405,
   "metadata": {},
   "outputs": [
    {
     "data": {
      "text/plain": [
       "array([[ 1., -1.],\n",
       "       [ 3.,  3.]])"
      ]
     },
     "execution_count": 405,
     "metadata": {},
     "output_type": "execute_result"
    }
   ],
   "source": [
    "np.outer(pr2, pca_ex.components_[0])  + mean_example"
   ]
  },
  {
   "cell_type": "code",
   "execution_count": 412,
   "metadata": {},
   "outputs": [
    {
     "data": {
      "text/plain": [
       "array([[ 2.6, -0.2],\n",
       "       [ 1.4,  2.2]])"
      ]
     },
     "execution_count": 412,
     "metadata": {},
     "output_type": "execute_result"
    }
   ],
   "source": [
    "np.outer(pr1, pca_ex.components_[:,0]) + mean_example"
   ]
  },
  {
   "cell_type": "code",
   "execution_count": 400,
   "metadata": {},
   "outputs": [
    {
     "data": {
      "text/plain": [
       "PCA(copy=True, iterated_power='auto', n_components=1, random_state=None,\n",
       "    svd_solver='auto', tol=0.0, whiten=False)"
      ]
     },
     "execution_count": 400,
     "metadata": {},
     "output_type": "execute_result"
    }
   ],
   "source": [
    "pca_ex2=PCA(n_components=1)\n",
    "pca_ex2.fit(example)"
   ]
  },
  {
   "cell_type": "code",
   "execution_count": 402,
   "metadata": {},
   "outputs": [],
   "source": [
    "out = pca_ex2.transform(example)"
   ]
  },
  {
   "cell_type": "code",
   "execution_count": 403,
   "metadata": {},
   "outputs": [
    {
     "data": {
      "text/plain": [
       "array([[ 1., -1.],\n",
       "       [ 3.,  3.]])"
      ]
     },
     "execution_count": 403,
     "metadata": {},
     "output_type": "execute_result"
    }
   ],
   "source": [
    "pca_ex2.inverse_transform(out)"
   ]
  },
  {
   "cell_type": "code",
   "execution_count": null,
   "metadata": {},
   "outputs": [],
   "source": []
  },
  {
   "cell_type": "code",
   "execution_count": 507,
   "metadata": {},
   "outputs": [],
   "source": [
    "example2 = np.array([[1,0, 0], [2,2, 2], [0, 0, 3]])"
   ]
  },
  {
   "cell_type": "code",
   "execution_count": 508,
   "metadata": {},
   "outputs": [],
   "source": [
    "# centering the data\n",
    "mean_example2 = np.mean(example2, axis=0)\n",
    "centered_example2 = example2 - mean_example2"
   ]
  },
  {
   "cell_type": "code",
   "execution_count": 509,
   "metadata": {},
   "outputs": [
    {
     "data": {
      "text/plain": [
       "array([[ 0.        , -0.66666667, -1.66666667],\n",
       "       [ 1.        ,  1.33333333,  0.33333333],\n",
       "       [-1.        , -0.66666667,  1.33333333]])"
      ]
     },
     "execution_count": 509,
     "metadata": {},
     "output_type": "execute_result"
    }
   ],
   "source": [
    "centered_example2"
   ]
  },
  {
   "cell_type": "code",
   "execution_count": 510,
   "metadata": {},
   "outputs": [
    {
     "data": {
      "text/plain": [
       "PCA(copy=True, iterated_power='auto', n_components=None, random_state=None,\n",
       "    svd_solver='auto', tol=0.0, whiten=False)"
      ]
     },
     "execution_count": 510,
     "metadata": {},
     "output_type": "execute_result"
    }
   ],
   "source": [
    "pca_ex2=PCA()\n",
    "pca_ex2.fit(example2)"
   ]
  },
  {
   "cell_type": "code",
   "execution_count": 511,
   "metadata": {},
   "outputs": [
    {
     "data": {
      "text/plain": [
       "array([[-3.16227766e-01, -7.77156117e-16,  9.48683298e-01],\n",
       "       [ 5.88348405e-01,  7.84464541e-01,  1.96116135e-01],\n",
       "       [-7.44208408e-01,  6.20173673e-01, -2.48069469e-01]])"
      ]
     },
     "execution_count": 511,
     "metadata": {},
     "output_type": "execute_result"
    }
   ],
   "source": [
    "pca_ex2.components_"
   ]
  },
  {
   "cell_type": "code",
   "execution_count": 512,
   "metadata": {},
   "outputs": [
    {
     "data": {
      "text/plain": [
       "array([[1, 0, 0],\n",
       "       [2, 2, 2],\n",
       "       [0, 0, 3]])"
      ]
     },
     "execution_count": 512,
     "metadata": {},
     "output_type": "execute_result"
    }
   ],
   "source": [
    "example2"
   ]
  },
  {
   "cell_type": "code",
   "execution_count": 513,
   "metadata": {},
   "outputs": [
    {
     "data": {
      "image/png": "[encoded data removed]",
      "text/plain": [
       "<Figure size 432x288 with 1 Axes>"
      ]
     },
     "metadata": {
      "needs_background": "light"
     },
     "output_type": "display_data"
    }
   ],
   "source": [
    "import matplotlib.pyplot as plt\n",
    "from mpl_toolkits.mplot3d import Axes3D\n",
    "\n",
    "fig = plt.figure()\n",
    "ax = fig.gca(projection='3d')\n",
    "ax.set_xlim3d(-0.5, 0.5)\n",
    "ax.set_ylim3d(-0.5, 0.5)\n",
    "ax.set_zlim3d(-0.5, 0.5)\n",
    "ax.quiver(0, 0, 0, example2.T[0], example2.T[1], example2.T[2], length = 1, color='r')\n",
    "ax.quiver(0, 0, 0, centered_example2.T[0], centered_example2.T[1], centered_example2.T[2], length = 1, color='m')\n",
    "ax.quiver(0, 0, 0, pca_ex2.components_.T[0], pca_ex2.components_.T[1], pca_ex2.components_.T[2], length = 1, color='b')\n",
    "ax.quiver(0, 0, 0, pca_ex2.components_[0], pca_ex2.components_[1], pca_ex2.components_[2], length = 1, color='g')\n",
    "\n",
    "plt.show()"
   ]
  },
  {
   "cell_type": "code",
   "execution_count": 520,
   "metadata": {},
   "outputs": [],
   "source": [
    "pr2_ex3 = np.dot(centered_example2, pca_ex2.components_[0:2].T)"
   ]
  },
  {
   "cell_type": "code",
   "execution_count": 521,
   "metadata": {},
   "outputs": [
    {
     "data": {
      "text/plain": [
       "array([[-3.16227766e-01, -7.77156117e-16,  9.48683298e-01],\n",
       "       [ 5.88348405e-01,  7.84464541e-01,  1.96116135e-01]])"
      ]
     },
     "execution_count": 521,
     "metadata": {},
     "output_type": "execute_result"
    }
   ],
   "source": [
    "pca_ex2.components_[0:2]"
   ]
  },
  {
   "cell_type": "code",
   "execution_count": 522,
   "metadata": {},
   "outputs": [
    {
     "data": {
      "text/plain": [
       "(3, 2)"
      ]
     },
     "execution_count": 522,
     "metadata": {},
     "output_type": "execute_result"
    }
   ],
   "source": [
    "pr2_ex3.shape"
   ]
  },
  {
   "cell_type": "code",
   "execution_count": 523,
   "metadata": {},
   "outputs": [
    {
     "data": {
      "text/plain": [
       "array([[ 1.00000000e+00, -1.11022302e-16, -2.22044605e-16],\n",
       "       [ 2.00000000e+00,  2.00000000e+00,  2.00000000e+00],\n",
       "       [-2.22044605e-16,  0.00000000e+00,  3.00000000e+00]])"
      ]
     },
     "execution_count": 523,
     "metadata": {},
     "output_type": "execute_result"
    }
   ],
   "source": [
    "np.dot(pr2_ex3, pca_ex2.components_[0:2]) + mean_example2"
   ]
  },
  {
   "cell_type": "code",
   "execution_count": 527,
   "metadata": {},
   "outputs": [],
   "source": [
    "pr1_ex3 = np.dot(centered_example2, pca_ex2.components_[:,0:2])"
   ]
  },
  {
   "cell_type": "code",
   "execution_count": 526,
   "metadata": {},
   "outputs": [
    {
     "data": {
      "text/plain": [
       "array([[-3.16227766e-01, -7.77156117e-16],\n",
       "       [ 5.88348405e-01,  7.84464541e-01],\n",
       "       [-7.44208408e-01,  6.20173673e-01]])"
      ]
     },
     "execution_count": 526,
     "metadata": {},
     "output_type": "execute_result"
    }
   ],
   "source": [
    "pca_ex2.components_[:,0:2]"
   ]
  },
  {
   "cell_type": "code",
   "execution_count": 529,
   "metadata": {},
   "outputs": [
    {
     "data": {
      "text/plain": [
       "array([[ 0.73180246, -0.05544302,  0.07013049],\n",
       "       [ 0.93037698,  1.77888266,  2.27969378],\n",
       "       [ 1.33782055,  0.27656036,  2.65017574]])"
      ]
     },
     "execution_count": 529,
     "metadata": {},
     "output_type": "execute_result"
    }
   ],
   "source": [
    "np.dot(pr1_ex3, pca_ex2.components_[:,0:2].T) + mean_example2"
   ]
  },
  {
   "cell_type": "code",
   "execution_count": null,
   "metadata": {},
   "outputs": [],
   "source": []
  },
  {
   "cell_type": "code",
   "execution_count": null,
   "metadata": {},
   "outputs": [],
   "source": []
  },
  {
   "cell_type": "code",
   "execution_count": null,
   "metadata": {},
   "outputs": [],
   "source": []
  },
  {
   "cell_type": "code",
   "execution_count": 497,
   "metadata": {},
   "outputs": [
    {
     "data": {
      "text/plain": [
       "PCA(copy=True, iterated_power='auto', n_components=2, random_state=None,\n",
       "    svd_solver='auto', tol=0.0, whiten=False)"
      ]
     },
     "execution_count": 497,
     "metadata": {},
     "output_type": "execute_result"
    }
   ],
   "source": [
    "pca_ex3 = PCA(n_components=2)\n",
    "pca_ex3.fit(example2)"
   ]
  },
  {
   "cell_type": "code",
   "execution_count": 498,
   "metadata": {},
   "outputs": [],
   "source": [
    "out = pca_ex3.transform(example2)"
   ]
  },
  {
   "cell_type": "code",
   "execution_count": 499,
   "metadata": {},
   "outputs": [
    {
     "data": {
      "text/plain": [
       "array([[-1.58113883e+00, -8.49836586e-01],\n",
       "       [-1.84657351e-15,  1.69967317e+00],\n",
       "       [ 1.58113883e+00, -8.49836586e-01]])"
      ]
     },
     "execution_count": 499,
     "metadata": {},
     "output_type": "execute_result"
    }
   ],
   "source": [
    "out"
   ]
  },
  {
   "cell_type": "code",
   "execution_count": 500,
   "metadata": {},
   "outputs": [
    {
     "data": {
      "text/plain": [
       "array([[ 1.00000000e+00, -1.11022302e-16, -2.22044605e-16],\n",
       "       [ 2.00000000e+00,  2.00000000e+00,  2.00000000e+00],\n",
       "       [-2.22044605e-16,  0.00000000e+00,  3.00000000e+00]])"
      ]
     },
     "execution_count": 500,
     "metadata": {},
     "output_type": "execute_result"
    }
   ],
   "source": [
    "pca_ex3.inverse_transform(out)"
   ]
  }
 ],
 "metadata": {
  "kernelspec": {
   "display_name": "Python 3",
   "language": "python",
   "name": "python3"
  },
  "language_info": {
   "codemirror_mode": {
    "name": "ipython",
    "version": 3
   },
   "file_extension": ".py",
   "mimetype": "text/x-python",
   "name": "python",
   "nbconvert_exporter": "python",
   "pygments_lexer": "ipython3",
   "version": "3.7.3"
  }
 },
 "nbformat": 4,
 "nbformat_minor": 4
}
