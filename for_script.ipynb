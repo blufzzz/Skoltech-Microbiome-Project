{
 "cells": [
  {
   "cell_type": "code",
   "execution_count": 1,
   "metadata": {},
   "outputs": [],
   "source": [
    "import glob\n",
    "import os\n",
    "import pandas as pd"
   ]
  },
  {
   "cell_type": "code",
   "execution_count": 2,
   "metadata": {},
   "outputs": [],
   "source": [
    "file = glob.glob('*.txt')"
   ]
  },
  {
   "cell_type": "code",
   "execution_count": 3,
   "metadata": {},
   "outputs": [
    {
     "data": {
      "text/plain": [
       "['10317.000001000.from_biom.txt']"
      ]
     },
     "execution_count": 3,
     "metadata": {},
     "output_type": "execute_result"
    }
   ],
   "source": [
    "#file"
   ]
  },
  {
   "cell_type": "code",
   "execution_count": 4,
   "metadata": {},
   "outputs": [],
   "source": [
    "file_id = os.path.splitext(file[0])[0]"
   ]
  },
  {
   "cell_type": "code",
   "execution_count": 5,
   "metadata": {},
   "outputs": [],
   "source": [
    "name = os.path.splitext(file_id)[0]"
   ]
  },
  {
   "cell_type": "code",
   "execution_count": 6,
   "metadata": {},
   "outputs": [],
   "source": [
    "#name = os.path.splitext(name)[0]"
   ]
  },
  {
   "cell_type": "code",
   "execution_count": 7,
   "metadata": {},
   "outputs": [
    {
     "data": {
      "text/plain": [
       "'10317.000001000'"
      ]
     },
     "execution_count": 7,
     "metadata": {},
     "output_type": "execute_result"
    }
   ],
   "source": [
    "#name"
   ]
  },
  {
   "cell_type": "code",
   "execution_count": 8,
   "metadata": {},
   "outputs": [],
   "source": [
    "df = pd.read_csv(file[0], header=None, index_col=False, names=list(range(9)), usecols=[1,5, 6,7], skipinitialspace=True, skiprows=[0,1], sep=';', engine='python')"
   ]
  },
  {
   "cell_type": "code",
   "execution_count": 9,
   "metadata": {},
   "outputs": [
    {
     "data": {
      "text/html": [
       "<div>\n",
       "<style scoped>\n",
       "    .dataframe tbody tr th:only-of-type {\n",
       "        vertical-align: middle;\n",
       "    }\n",
       "\n",
       "    .dataframe tbody tr th {\n",
       "        vertical-align: top;\n",
       "    }\n",
       "\n",
       "    .dataframe thead th {\n",
       "        text-align: right;\n",
       "    }\n",
       "</style>\n",
       "<table border=\"1\" class=\"dataframe\">\n",
       "  <thead>\n",
       "    <tr style=\"text-align: right;\">\n",
       "      <th></th>\n",
       "      <th>1</th>\n",
       "      <th>5</th>\n",
       "      <th>6</th>\n",
       "      <th>7</th>\n",
       "    </tr>\n",
       "  </thead>\n",
       "  <tbody>\n",
       "    <tr>\n",
       "      <th>0</th>\n",
       "      <td>0.343816</td>\n",
       "      <td>o__Bacteroidales</td>\n",
       "      <td>f__Bacteroidaceae</td>\n",
       "      <td>g__Bacteroides</td>\n",
       "    </tr>\n",
       "    <tr>\n",
       "      <th>1</th>\n",
       "      <td>0.003825</td>\n",
       "      <td>o__Clostridiales</td>\n",
       "      <td>f__Ruminococcaceae</td>\n",
       "      <td>g__Faecalibacterium</td>\n",
       "    </tr>\n",
       "    <tr>\n",
       "      <th>2</th>\n",
       "      <td>0.018275</td>\n",
       "      <td>o__Bacteroidales</td>\n",
       "      <td>f__Porphyromonadaceae</td>\n",
       "      <td>g__Parabacteroides</td>\n",
       "    </tr>\n",
       "    <tr>\n",
       "      <th>3</th>\n",
       "      <td>0.019550</td>\n",
       "      <td>o__Bacteroidales</td>\n",
       "      <td>f__Bacteroidaceae</td>\n",
       "      <td>g__Bacteroides</td>\n",
       "    </tr>\n",
       "    <tr>\n",
       "      <th>4</th>\n",
       "      <td>0.053124</td>\n",
       "      <td>o__Bacteroidales</td>\n",
       "      <td>f__Porphyromonadaceae</td>\n",
       "      <td>g__Parabacteroides</td>\n",
       "    </tr>\n",
       "    <tr>\n",
       "      <th>...</th>\n",
       "      <td>...</td>\n",
       "      <td>...</td>\n",
       "      <td>...</td>\n",
       "      <td>...</td>\n",
       "    </tr>\n",
       "    <tr>\n",
       "      <th>80</th>\n",
       "      <td>0.000850</td>\n",
       "      <td>o__Clostridiales</td>\n",
       "      <td>f__Lachnospiraceae</td>\n",
       "      <td>g__</td>\n",
       "    </tr>\n",
       "    <tr>\n",
       "      <th>81</th>\n",
       "      <td>0.000850</td>\n",
       "      <td>o__Clostridiales</td>\n",
       "      <td>f__Lachnospiraceae</td>\n",
       "      <td>g__</td>\n",
       "    </tr>\n",
       "    <tr>\n",
       "      <th>82</th>\n",
       "      <td>0.001700</td>\n",
       "      <td>o__Coriobacteriales</td>\n",
       "      <td>f__Coriobacteriaceae</td>\n",
       "      <td>g__Eggerthella</td>\n",
       "    </tr>\n",
       "    <tr>\n",
       "      <th>83</th>\n",
       "      <td>0.000850</td>\n",
       "      <td>o__Clostridiales</td>\n",
       "      <td>f__Lachnospiraceae</td>\n",
       "      <td>g__Coprococcus</td>\n",
       "    </tr>\n",
       "    <tr>\n",
       "      <th>84</th>\n",
       "      <td>0.000425</td>\n",
       "      <td>o__Clostridiales</td>\n",
       "      <td>f__Ruminococcaceae</td>\n",
       "      <td>g__Faecalibacterium</td>\n",
       "    </tr>\n",
       "  </tbody>\n",
       "</table>\n",
       "<p>85 rows × 4 columns</p>\n",
       "</div>"
      ],
      "text/plain": [
       "           1                    5                      6                    7\n",
       "0   0.343816     o__Bacteroidales      f__Bacteroidaceae       g__Bacteroides\n",
       "1   0.003825     o__Clostridiales     f__Ruminococcaceae  g__Faecalibacterium\n",
       "2   0.018275     o__Bacteroidales  f__Porphyromonadaceae   g__Parabacteroides\n",
       "3   0.019550     o__Bacteroidales      f__Bacteroidaceae       g__Bacteroides\n",
       "4   0.053124     o__Bacteroidales  f__Porphyromonadaceae   g__Parabacteroides\n",
       "..       ...                  ...                    ...                  ...\n",
       "80  0.000850     o__Clostridiales     f__Lachnospiraceae                  g__\n",
       "81  0.000850     o__Clostridiales     f__Lachnospiraceae                  g__\n",
       "82  0.001700  o__Coriobacteriales   f__Coriobacteriaceae       g__Eggerthella\n",
       "83  0.000850     o__Clostridiales     f__Lachnospiraceae       g__Coprococcus\n",
       "84  0.000425     o__Clostridiales     f__Ruminococcaceae  g__Faecalibacterium\n",
       "\n",
       "[85 rows x 4 columns]"
      ]
     },
     "execution_count": 9,
     "metadata": {},
     "output_type": "execute_result"
    }
   ],
   "source": [
    "#df"
   ]
  },
  {
   "cell_type": "code",
   "execution_count": 10,
   "metadata": {},
   "outputs": [],
   "source": [
    "df.columns=[name, 'o', 'f', 'g']"
   ]
  },
  {
   "cell_type": "code",
   "execution_count": 11,
   "metadata": {},
   "outputs": [],
   "source": [
    "#df"
   ]
  },
  {
   "cell_type": "code",
   "execution_count": 12,
   "metadata": {},
   "outputs": [],
   "source": [
    "controlsum=df[name].sum(axis=0)"
   ]
  },
  {
   "cell_type": "code",
   "execution_count": 13,
   "metadata": {},
   "outputs": [],
   "source": [
    "#controlsum"
   ]
  },
  {
   "cell_type": "code",
   "execution_count": 14,
   "metadata": {},
   "outputs": [],
   "source": [
    "df['o'].fillna('o__', inplace = True)\n",
    "df['f'].fillna('f__', inplace = True)\n",
    "df['g'].fillna('g__', inplace = True)"
   ]
  },
  {
   "cell_type": "code",
   "execution_count": 15,
   "metadata": {},
   "outputs": [],
   "source": [
    "#df"
   ]
  },
  {
   "cell_type": "code",
   "execution_count": 16,
   "metadata": {},
   "outputs": [],
   "source": [
    "df_o=df[[name, 'o']]\n",
    "df_f=df[[name, 'f']]\n",
    "df_g=df[[name, 'g']]"
   ]
  },
  {
   "cell_type": "code",
   "execution_count": 17,
   "metadata": {},
   "outputs": [],
   "source": [
    "#print(df_o)\n",
    "#print(df_f)\n",
    "#print(df_g)"
   ]
  },
  {
   "cell_type": "code",
   "execution_count": 18,
   "metadata": {},
   "outputs": [],
   "source": [
    "df_o_gp = df_o.groupby('o', as_index=True).agg({name: \"sum\"})\n",
    "df_f_gp = df_f.groupby('f', as_index=True).agg({name: \"sum\"})\n",
    "df_g_gp = df_g.groupby('g', as_index=True).agg({name: \"sum\"})"
   ]
  },
  {
   "cell_type": "code",
   "execution_count": 19,
   "metadata": {},
   "outputs": [],
   "source": [
    "#print(df_o_gp, '\\n')\n",
    "#print(df_f_gp, '\\n')\n",
    "#print(df_g_gp, '\\n')"
   ]
  },
  {
   "cell_type": "code",
   "execution_count": 20,
   "metadata": {},
   "outputs": [],
   "source": [
    "df_o_t = df_o_gp.T\n",
    "df_f_t = df_f_gp.T\n",
    "df_g_t = df_g_gp.T"
   ]
  },
  {
   "cell_type": "code",
   "execution_count": 21,
   "metadata": {},
   "outputs": [],
   "source": [
    "#df_o_t"
   ]
  },
  {
   "cell_type": "code",
   "execution_count": 22,
   "metadata": {},
   "outputs": [],
   "source": [
    "#df_f_t"
   ]
  },
  {
   "cell_type": "code",
   "execution_count": 23,
   "metadata": {},
   "outputs": [],
   "source": [
    "#df_g_t"
   ]
  },
  {
   "cell_type": "code",
   "execution_count": 24,
   "metadata": {},
   "outputs": [],
   "source": [
    "#print(\"Check sum of the o row: \", df_o_t.sum(axis=1), '\\n')\n",
    "#print(\"Check sum of the f row: \", df_f_t.sum(axis=1), '\\n')\n",
    "#print(\"Check sum of the g row: \", df_g_t.sum(axis=1), '\\n')"
   ]
  },
  {
   "cell_type": "code",
   "execution_count": 25,
   "metadata": {},
   "outputs": [],
   "source": [
    "o_sum = df_o_t.sum(axis=1)\n",
    "f_sum = df_f_t.sum(axis=1)\n",
    "g_sum = df_g_t.sum(axis=1)"
   ]
  },
  {
   "cell_type": "code",
   "execution_count": 26,
   "metadata": {},
   "outputs": [],
   "source": [
    "if not controlsum == o_sum[name] == f_sum[name] == g_sum[name] :\n",
    "    print(\"Sum over the \" + name + \" file does not match!\")"
   ]
  },
  {
   "cell_type": "code",
   "execution_count": 27,
   "metadata": {},
   "outputs": [],
   "source": [
    "table_name = \"=\\\"\" + name + \"\\\"\""
   ]
  },
  {
   "cell_type": "code",
   "execution_count": 28,
   "metadata": {},
   "outputs": [
    {
     "data": {
      "text/plain": [
       "'=\"10317.000001000\"'"
      ]
     },
     "execution_count": 28,
     "metadata": {},
     "output_type": "execute_result"
    }
   ],
   "source": [
    "#table_name"
   ]
  },
  {
   "cell_type": "code",
   "execution_count": 29,
   "metadata": {},
   "outputs": [],
   "source": [
    "df_o_t = df_o_t.rename(index={name:table_name})\n",
    "df_f_t = df_f_t.rename(index={name:table_name})\n",
    "df_g_t = df_g_t.rename(index={name:table_name})"
   ]
  },
  {
   "cell_type": "code",
   "execution_count": 30,
   "metadata": {},
   "outputs": [
    {
     "data": {
      "text/html": [
       "<div>\n",
       "<style scoped>\n",
       "    .dataframe tbody tr th:only-of-type {\n",
       "        vertical-align: middle;\n",
       "    }\n",
       "\n",
       "    .dataframe tbody tr th {\n",
       "        vertical-align: top;\n",
       "    }\n",
       "\n",
       "    .dataframe thead th {\n",
       "        text-align: right;\n",
       "    }\n",
       "</style>\n",
       "<table border=\"1\" class=\"dataframe\">\n",
       "  <thead>\n",
       "    <tr style=\"text-align: right;\">\n",
       "      <th>f</th>\n",
       "      <th>f__</th>\n",
       "      <th>f__Alcaligenaceae</th>\n",
       "      <th>f__Bacteroidaceae</th>\n",
       "      <th>f__Bifidobacteriaceae</th>\n",
       "      <th>f__Clostridiaceae</th>\n",
       "      <th>f__Coriobacteriaceae</th>\n",
       "      <th>f__Desulfovibrionaceae</th>\n",
       "      <th>f__Erysipelotrichaceae</th>\n",
       "      <th>f__Lachnospiraceae</th>\n",
       "      <th>f__Porphyromonadaceae</th>\n",
       "      <th>f__Prevotellaceae</th>\n",
       "      <th>f__Rikenellaceae</th>\n",
       "      <th>f__Ruminococcaceae</th>\n",
       "      <th>f__Streptococcaceae</th>\n",
       "      <th>f__Veillonellaceae</th>\n",
       "      <th>f__Verrucomicrobiaceae</th>\n",
       "      <th>f__[Odoribacteraceae]</th>\n",
       "    </tr>\n",
       "  </thead>\n",
       "  <tbody>\n",
       "    <tr>\n",
       "      <th>=\"10317.000001000\"</th>\n",
       "      <td>0.031024</td>\n",
       "      <td>0.0017</td>\n",
       "      <td>0.40119</td>\n",
       "      <td>0.001275</td>\n",
       "      <td>0.0017</td>\n",
       "      <td>0.00255</td>\n",
       "      <td>0.0017</td>\n",
       "      <td>0.019125</td>\n",
       "      <td>0.135147</td>\n",
       "      <td>0.082448</td>\n",
       "      <td>0.00085</td>\n",
       "      <td>0.031874</td>\n",
       "      <td>0.077773</td>\n",
       "      <td>0.0017</td>\n",
       "      <td>0.008075</td>\n",
       "      <td>0.19932</td>\n",
       "      <td>0.00255</td>\n",
       "    </tr>\n",
       "  </tbody>\n",
       "</table>\n",
       "</div>"
      ],
      "text/plain": [
       "f                        f__  f__Alcaligenaceae  f__Bacteroidaceae  \\\n",
       "=\"10317.000001000\"  0.031024             0.0017            0.40119   \n",
       "\n",
       "f                   f__Bifidobacteriaceae  f__Clostridiaceae  \\\n",
       "=\"10317.000001000\"               0.001275             0.0017   \n",
       "\n",
       "f                   f__Coriobacteriaceae  f__Desulfovibrionaceae  \\\n",
       "=\"10317.000001000\"               0.00255                  0.0017   \n",
       "\n",
       "f                   f__Erysipelotrichaceae  f__Lachnospiraceae  \\\n",
       "=\"10317.000001000\"                0.019125            0.135147   \n",
       "\n",
       "f                   f__Porphyromonadaceae  f__Prevotellaceae  \\\n",
       "=\"10317.000001000\"               0.082448            0.00085   \n",
       "\n",
       "f                   f__Rikenellaceae  f__Ruminococcaceae  f__Streptococcaceae  \\\n",
       "=\"10317.000001000\"          0.031874            0.077773               0.0017   \n",
       "\n",
       "f                   f__Veillonellaceae  f__Verrucomicrobiaceae  \\\n",
       "=\"10317.000001000\"            0.008075                 0.19932   \n",
       "\n",
       "f                   f__[Odoribacteraceae]  \n",
       "=\"10317.000001000\"                0.00255  "
      ]
     },
     "execution_count": 30,
     "metadata": {},
     "output_type": "execute_result"
    }
   ],
   "source": [
    "#df_f_t"
   ]
  },
  {
   "cell_type": "code",
   "execution_count": 31,
   "metadata": {},
   "outputs": [],
   "source": [
    "df_o_t.to_csv(name + '_o.csv')\n",
    "df_f_t.to_csv(name + '_f.csv')\n",
    "df_g_t.to_csv(name + '_g.csv')"
   ]
  }
 ],
 "metadata": {
  "kernelspec": {
   "display_name": "Python 3",
   "language": "python",
   "name": "python3"
  },
  "language_info": {
   "codemirror_mode": {
    "name": "ipython",
    "version": 3
   },
   "file_extension": ".py",
   "mimetype": "text/x-python",
   "name": "python",
   "nbconvert_exporter": "python",
   "pygments_lexer": "ipython3",
   "version": "3.7.3"
  }
 },
 "nbformat": 4,
 "nbformat_minor": 4
}
