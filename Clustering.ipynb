{
 "cells": [
  {
   "cell_type": "code",
   "execution_count": 1,
   "metadata": {},
   "outputs": [],
   "source": [
    "import numpy as np\n",
    "import tqdm\n",
    "import pandas as pd\n",
    "import matplotlib\n",
    "import matplotlib.pyplot as plt\n",
    "\n",
    "from scipy.spatial import distance\n",
    "from sklearn.metrics import calinski_harabaz_score, silhouette_score\n",
    "from sklearn.cluster import DBSCAN, KMeans, SpectralClustering\n",
    "from scipy.spatial import distance"
   ]
  },
  {
   "cell_type": "code",
   "execution_count": 2,
   "metadata": {},
   "outputs": [],
   "source": [
    "# paths to the databases containing the PCA and Isomap projections \n",
    "\n",
    "paths = [\n",
    "    #\"./pivot_o.csv\", \n",
    "    #\"./pivot_f.csv\", \n",
    "    #\"./pivot_g.csv\", \n",
    "    \"./proj_o.csv\",\n",
    "    \"./proj_f.csv\", \n",
    "    \"./proj_g.csv\",\n",
    "    \"./isomap_o_dim5.csv\"\n",
    "]"
   ]
  },
  {
   "cell_type": "code",
   "execution_count": 3,
   "metadata": {},
   "outputs": [],
   "source": [
    "datasets = [np.genfromtxt(path, delimiter=';') for path in paths]"
   ]
  },
  {
   "cell_type": "code",
   "execution_count": 4,
   "metadata": {},
   "outputs": [
    {
     "data": {
      "text/plain": [
       "array([[-0.0538136 ,  0.33322081,  0.03994823, -0.00802298,  0.02154262],\n",
       "       [-0.18348114, -0.07652568, -0.00610664,  0.03397499,  0.00138245],\n",
       "       [-0.2844246 , -0.26008137, -0.00803431,  0.00938736, -0.01818483],\n",
       "       ...,\n",
       "       [-0.30795715, -0.67117225, -0.27031599, -0.26169485, -0.19179656],\n",
       "       [-0.1270504 ,  0.33897461,  0.06275514,  0.13345009, -0.0737062 ],\n",
       "       [-0.19206462, -0.18906588, -0.01211015,  0.05938444,  0.01226094]])"
      ]
     },
     "execution_count": 4,
     "metadata": {},
     "output_type": "execute_result"
    }
   ],
   "source": [
    "datasets[3]"
   ]
  },
  {
   "cell_type": "code",
   "execution_count": 5,
   "metadata": {},
   "outputs": [],
   "source": [
    "# Davies Bouldin Index\n",
    "\n",
    "def DB_index(X, clusters_centers, labels):\n",
    "    if -1 in labels:\n",
    "        X = X[labels != -1]\n",
    "        labels = labels[labels != -1]\n",
    "        \n",
    "        #print(len(labels), X.shape)\n",
    "        \n",
    "        \n",
    "    n_clusters = len(clusters_centers)\n",
    "    \n",
    "    d = np.array([distance.euclidean(X[i], clusters_centers[labels[i]]) for i in range(len(X))])\n",
    "    \n",
    "    mean_dist = np.zeros(n_clusters)\n",
    "    for i in range(n_clusters):\n",
    "        mean_dist[i] = d[labels == i].mean()\n",
    "    \n",
    "    return sum([max([(mean_dist[i] + mean_dist[j]) / distance.euclidean(clusters_centers[i], clusters_centers[j]) \n",
    "         for i in range(n_clusters) if i != j]) for j in range(n_clusters)]) / n_clusters"
   ]
  },
  {
   "cell_type": "code",
   "execution_count": 6,
   "metadata": {},
   "outputs": [],
   "source": [
    "# Clusters centers\n",
    "\n",
    "def cl_centers(X, pred, n_cl=None):\n",
    "    if n_cl is None:\n",
    "        n_cl = len(set(pred))\n",
    "        if -1 in pred:\n",
    "            n_cl -= 1\n",
    "        \n",
    "    centers = np.zeros((n_cl, X.shape[1]))\n",
    "    \n",
    "    for i in range(n_cl):\n",
    "        centers[i] = X[pred == i].mean(0)\n",
    "        \n",
    "    return centers"
   ]
  },
  {
   "cell_type": "code",
   "execution_count": 51,
   "metadata": {},
   "outputs": [
    {
     "name": "stdout",
     "output_type": "stream",
     "text": [
      "proj_o\n"
     ]
    },
    {
     "name": "stderr",
     "output_type": "stream",
     "text": [
      "/usr/local/lib/python3.7/dist-packages/ipykernel_launcher.py:5: TqdmDeprecationWarning: This function will be removed in tqdm==5.0.0\n",
      "Please use `tqdm.notebook.tqdm` instead of `tqdm.tqdm_notebook`\n",
      "  \"\"\"\n"
     ]
    },
    {
     "data": {
      "application/vnd.jupyter.widget-view+json": {
       "model_id": "0bcd194183bd4436ad82a6f341bbb6b8",
       "version_major": 2,
       "version_minor": 0
      },
      "text/plain": [
       "HBox(children=(FloatProgress(value=0.0, max=10.0), HTML(value='')))"
      ]
     },
     "metadata": {},
     "output_type": "display_data"
    },
    {
     "name": "stdout",
     "output_type": "stream",
     "text": [
      "shape:  (14098, 20)\n",
      "dbscan eps:  0.1\n",
      "Davies-Bouldin index, silhouette_score:  0.6385646271052686 -0.05323252643545829\n",
      "Classified_samples, classes:  12156 30\n",
      "shape:  (14098, 20)\n",
      "dbscan eps:  0.12222222222222223\n",
      "Davies-Bouldin index, silhouette_score:  0.6580493454759826 0.023923358841361327\n",
      "Classified_samples, classes:  12701 26\n",
      "shape:  (14098, 20)\n",
      "dbscan eps:  0.14444444444444443\n",
      "Davies-Bouldin index, silhouette_score:  0.6908177651473465 0.2075797072679897\n",
      "Classified_samples, classes:  13089 19\n",
      "shape:  (14098, 20)\n",
      "dbscan eps:  0.16666666666666666\n",
      "Davies-Bouldin index, silhouette_score:  0.714442807129645 0.0482264330433327\n",
      "Classified_samples, classes:  13439 14\n",
      "shape:  (14098, 20)\n",
      "dbscan eps:  0.18888888888888888\n",
      "Davies-Bouldin index, silhouette_score:  0.6702224370809263 0.19615549213496314\n",
      "Classified_samples, classes:  13689 10\n",
      "shape:  (14098, 20)\n",
      "dbscan eps:  0.2111111111111111\n",
      "Davies-Bouldin index, silhouette_score:  0.6101183131760897 0.30889995602752857\n",
      "Classified_samples, classes:  13845 7\n",
      "shape:  (14098, 20)\n",
      "dbscan eps:  0.2333333333333333\n",
      "Davies-Bouldin index, silhouette_score:  0.7999044043611052 0.10429582465049977\n",
      "Classified_samples, classes:  13953 5\n",
      "shape:  (14098, 20)\n",
      "dbscan eps:  0.25555555555555554\n",
      "Davies-Bouldin index, silhouette_score:  0.35770207907243 0.3852585570471384\n",
      "Classified_samples, classes:  14012 1\n",
      "shape:  (14098, 20)\n",
      "dbscan eps:  0.2777777777777778\n",
      "Davies-Bouldin index, silhouette_score:  0.35900253458696135 0.39812552036101667\n",
      "Classified_samples, classes:  14049 1\n",
      "shape:  (14098, 20)\n",
      "dbscan eps:  0.3\n",
      "Davies-Bouldin index, silhouette_score:  0.35979353533918057 0.43564453511083234\n",
      "Classified_samples, classes:  14073 1\n",
      "\n",
      "proj_f\n"
     ]
    },
    {
     "name": "stderr",
     "output_type": "stream",
     "text": [
      "/usr/local/lib/python3.7/dist-packages/ipykernel_launcher.py:5: TqdmDeprecationWarning: This function will be removed in tqdm==5.0.0\n",
      "Please use `tqdm.notebook.tqdm` instead of `tqdm.tqdm_notebook`\n",
      "  \"\"\"\n"
     ]
    },
    {
     "data": {
      "application/vnd.jupyter.widget-view+json": {
       "model_id": "9e1d019706894131b4f2451fe93099d8",
       "version_major": 2,
       "version_minor": 0
      },
      "text/plain": [
       "HBox(children=(FloatProgress(value=0.0, max=10.0), HTML(value='')))"
      ]
     },
     "metadata": {},
     "output_type": "display_data"
    },
    {
     "name": "stdout",
     "output_type": "stream",
     "text": [
      "shape:  (14098, 42)\n",
      "dbscan eps:  0.1\n",
      "Davies-Bouldin index, silhouette_score:  0.6017818479901288 -0.27999734615154304\n",
      "Classified_samples, classes:  9535 25\n",
      "shape:  (14098, 42)\n",
      "dbscan eps:  0.12222222222222223\n",
      "Davies-Bouldin index, silhouette_score:  0.702307613236765 -0.097339492957586\n",
      "Classified_samples, classes:  10921 39\n",
      "shape:  (14098, 42)\n",
      "dbscan eps:  0.14444444444444443\n",
      "Davies-Bouldin index, silhouette_score:  0.7248581112104361 -0.0837214702346404\n",
      "Classified_samples, classes:  11840 31\n",
      "shape:  (14098, 42)\n",
      "dbscan eps:  0.16666666666666666\n",
      "Davies-Bouldin index, silhouette_score:  0.7757901199380006 -0.012046668725196436\n",
      "Classified_samples, classes:  12497 22\n",
      "shape:  (14098, 42)\n",
      "dbscan eps:  0.18888888888888888\n",
      "Davies-Bouldin index, silhouette_score:  0.6737063404754113 0.06300218628914092\n",
      "Classified_samples, classes:  13010 14\n",
      "shape:  (14098, 42)\n",
      "dbscan eps:  0.2111111111111111\n",
      "Davies-Bouldin index, silhouette_score:  0.7128968729102277 0.1345189293147622\n",
      "Classified_samples, classes:  13379 17\n",
      "shape:  (14098, 42)\n",
      "dbscan eps:  0.2333333333333333\n",
      "Davies-Bouldin index, silhouette_score:  0.7153817034231859 0.19298554517802774\n",
      "Classified_samples, classes:  13639 15\n",
      "shape:  (14098, 42)\n",
      "dbscan eps:  0.25555555555555554\n",
      "Davies-Bouldin index, silhouette_score:  0.6203949403295722 0.2695001761134036\n",
      "Classified_samples, classes:  13811 10\n",
      "shape:  (14098, 42)\n",
      "dbscan eps:  0.2777777777777778\n",
      "Davies-Bouldin index, silhouette_score:  0.6303323171687883 0.2983702321562003\n",
      "Classified_samples, classes:  13910 7\n",
      "shape:  (14098, 42)\n",
      "dbscan eps:  0.3\n",
      "Davies-Bouldin index, silhouette_score:  0.6329549979587237 0.31434278371991964\n",
      "Classified_samples, classes:  13986 4\n",
      "\n",
      "proj_g\n"
     ]
    },
    {
     "name": "stderr",
     "output_type": "stream",
     "text": [
      "/usr/local/lib/python3.7/dist-packages/ipykernel_launcher.py:5: TqdmDeprecationWarning: This function will be removed in tqdm==5.0.0\n",
      "Please use `tqdm.notebook.tqdm` instead of `tqdm.tqdm_notebook`\n",
      "  \"\"\"\n"
     ]
    },
    {
     "data": {
      "application/vnd.jupyter.widget-view+json": {
       "model_id": "fe6c0335b863486d8b62b9cdca77c452",
       "version_major": 2,
       "version_minor": 0
      },
      "text/plain": [
       "HBox(children=(FloatProgress(value=0.0, max=10.0), HTML(value='')))"
      ]
     },
     "metadata": {},
     "output_type": "display_data"
    },
    {
     "name": "stdout",
     "output_type": "stream",
     "text": [
      "shape:  (14098, 68)\n",
      "dbscan eps:  0.1\n",
      "Davies-Bouldin index, silhouette_score:  0.679761163333121 -0.15189634200252147\n",
      "Classified_samples, classes:  9640 25\n",
      "shape:  (14098, 68)\n",
      "dbscan eps:  0.12222222222222223\n",
      "Davies-Bouldin index, silhouette_score:  0.7918349079270048 -0.22119342494983674\n",
      "Classified_samples, classes:  11119 31\n",
      "shape:  (14098, 68)\n",
      "dbscan eps:  0.14444444444444443\n",
      "Davies-Bouldin index, silhouette_score:  0.8618204565588556 -0.08792303692191383\n",
      "Classified_samples, classes:  12118 32\n",
      "shape:  (14098, 68)\n",
      "dbscan eps:  0.16666666666666666\n",
      "Davies-Bouldin index, silhouette_score:  0.8426488684826633 -0.19177487433421705\n",
      "Classified_samples, classes:  12833 20\n",
      "shape:  (14098, 68)\n",
      "dbscan eps:  0.18888888888888888\n",
      "Davies-Bouldin index, silhouette_score:  0.7694188411303694 0.03441402782267471\n",
      "Classified_samples, classes:  13311 16\n",
      "shape:  (14098, 68)\n",
      "dbscan eps:  0.2111111111111111\n",
      "Davies-Bouldin index, silhouette_score:  0.7029007245718443 0.11509466463817093\n",
      "Classified_samples, classes:  13613 11\n",
      "shape:  (14098, 68)\n",
      "dbscan eps:  0.2333333333333333\n",
      "Davies-Bouldin index, silhouette_score:  0.6489860254445149 0.26323268756350016\n",
      "Classified_samples, classes:  13806 9\n",
      "shape:  (14098, 68)\n",
      "dbscan eps:  0.25555555555555554\n",
      "Davies-Bouldin index, silhouette_score:  0.6328497979824258 0.31618451223850674\n",
      "Classified_samples, classes:  13907 5\n",
      "shape:  (14098, 68)\n",
      "dbscan eps:  0.2777777777777778\n",
      "Davies-Bouldin index, silhouette_score:  0.6351197653695301 0.3533535971526652\n",
      "Classified_samples, classes:  13967 4\n",
      "shape:  (14098, 68)\n",
      "dbscan eps:  0.3\n",
      "Davies-Bouldin index, silhouette_score:  0.7255234699694474 0.3335579909262861\n",
      "Classified_samples, classes:  14000 5\n",
      "\n",
      "isomap_o_dim5\n"
     ]
    },
    {
     "name": "stderr",
     "output_type": "stream",
     "text": [
      "/usr/local/lib/python3.7/dist-packages/ipykernel_launcher.py:5: TqdmDeprecationWarning: This function will be removed in tqdm==5.0.0\n",
      "Please use `tqdm.notebook.tqdm` instead of `tqdm.tqdm_notebook`\n",
      "  \"\"\"\n"
     ]
    },
    {
     "data": {
      "application/vnd.jupyter.widget-view+json": {
       "model_id": "19061b9cd29a4e9cb795b3937c55ef70",
       "version_major": 2,
       "version_minor": 0
      },
      "text/plain": [
       "HBox(children=(FloatProgress(value=0.0, max=10.0), HTML(value='')))"
      ]
     },
     "metadata": {},
     "output_type": "display_data"
    },
    {
     "name": "stdout",
     "output_type": "stream",
     "text": [
      "shape:  (14098, 5)\n",
      "dbscan eps:  0.1\n",
      "Davies-Bouldin index, silhouette_score:  0.6445277247365103 -0.20158852344259823\n",
      "Classified_samples, classes:  12257 58\n",
      "shape:  (14098, 5)\n",
      "dbscan eps:  0.12222222222222223\n",
      "Davies-Bouldin index, silhouette_score:  0.6170100464141619 -0.11985124646913771\n",
      "Classified_samples, classes:  12774 50\n",
      "shape:  (14098, 5)\n",
      "dbscan eps:  0.14444444444444443\n",
      "Davies-Bouldin index, silhouette_score:  0.7019386245204154 -0.19509818564044729\n",
      "Classified_samples, classes:  13119 41\n",
      "shape:  (14098, 5)\n",
      "dbscan eps:  0.16666666666666666\n",
      "Davies-Bouldin index, silhouette_score:  0.6125524042090291 0.040214633735199866\n",
      "Classified_samples, classes:  13429 32\n",
      "shape:  (14098, 5)\n",
      "dbscan eps:  0.18888888888888888\n",
      "Davies-Bouldin index, silhouette_score:  0.7581312249975146 -0.1342639355184623\n",
      "Classified_samples, classes:  13658 21\n",
      "shape:  (14098, 5)\n",
      "dbscan eps:  0.2111111111111111\n",
      "Davies-Bouldin index, silhouette_score:  0.7191675252328518 -0.1023527109128879\n",
      "Classified_samples, classes:  13823 12\n",
      "shape:  (14098, 5)\n",
      "dbscan eps:  0.2333333333333333\n",
      "Davies-Bouldin index, silhouette_score:  0.5562676339690165 0.27826384196415754\n",
      "Classified_samples, classes:  13932 8\n",
      "shape:  (14098, 5)\n",
      "dbscan eps:  0.25555555555555554\n",
      "Davies-Bouldin index, silhouette_score:  0.5904952471611684 0.26540978877761257\n",
      "Classified_samples, classes:  13990 4\n",
      "shape:  (14098, 5)\n",
      "dbscan eps:  0.2777777777777778\n",
      "Davies-Bouldin index, silhouette_score:  0.5030080895650895 0.35107216439985695\n",
      "Classified_samples, classes:  14035 2\n",
      "\n"
     ]
    }
   ],
   "source": [
    "# Performing DBScan clustering\n",
    "\n",
    "all_dbscan_indexes = []\n",
    "for dataset, label in zip(datasets, paths):\n",
    "    print(label.split(\"/\")[-1].split(\".\")[0])\n",
    "    indexes = []\n",
    "    for eps in tqdm.tqdm_notebook(np.linspace(0.1, 0.3, 10)):\n",
    "        dbscan = DBSCAN(eps)\n",
    "        #dbscan.fit(dataset)\n",
    "        pred = dbscan.fit_predict(dataset)\n",
    "        if max(pred) > 0:\n",
    "            centers = cl_centers(dataset, pred)\n",
    "\n",
    "            ind = DB_index(dataset, centers, pred)\n",
    "            print(\"shape: \", dataset.shape)\n",
    "            print(\"dbscan eps: \", eps)\n",
    "            print(\"Davies-Bouldin index, silhouette_score: \", ind, silhouette_score(dataset, pred))\n",
    "            print(\"Classified_samples, classes: \", (pred != -1).sum(), max(pred))\n",
    "            indexes.append(ind)\n",
    "        else:\n",
    "            indexes.append(-1)\n",
    "    \n",
    "    all_dbscan_indexes.append(indexes)"
   ]
  },
  {
   "cell_type": "code",
   "execution_count": 2,
   "metadata": {},
   "outputs": [],
   "source": [
    "# Fill the frame below manually from the output above for O level PCA (DBI, silhouette)\n",
    "\n",
    "DBScan_PCA = pd.DataFrame(data={'30': [0.6385646271052686, -0.05323252643545829], \n",
    "                                         '26': [0.6580493454759826, 0.023923358841361327],\n",
    "                                         '19': [0.6908177651473465, 0.2075797072679897],\n",
    "                                         '14': [0.714442807129645, 0.0482264330433327],\n",
    "                                         '10': [0.6702224370809263, 0.19615549213496314],\n",
    "                                         '7': [0.6101183131760897, 0.30889995602752857],\n",
    "                                         '5': [0.7999044043611052, 0.10429582465049977],\n",
    "                                         '1': [0.35979353533918057, 0.43564453511083234]\n",
    "                                        })"
   ]
  },
  {
   "cell_type": "code",
   "execution_count": 3,
   "metadata": {},
   "outputs": [],
   "source": [
    "# transpose the indexes matrix\n",
    "\n",
    "DBScan_PCA = DBScan_PCA.T"
   ]
  },
  {
   "cell_type": "code",
   "execution_count": 4,
   "metadata": {},
   "outputs": [],
   "source": [
    "# rename the columns\n",
    "\n",
    "DBScan_PCA.columns = ['Davies-Bouldin index', 'silhouette_score']"
   ]
  },
  {
   "cell_type": "code",
   "execution_count": 5,
   "metadata": {},
   "outputs": [
    {
     "data": {
      "text/html": [
       "<div>\n",
       "<style scoped>\n",
       "    .dataframe tbody tr th:only-of-type {\n",
       "        vertical-align: middle;\n",
       "    }\n",
       "\n",
       "    .dataframe tbody tr th {\n",
       "        vertical-align: top;\n",
       "    }\n",
       "\n",
       "    .dataframe thead th {\n",
       "        text-align: right;\n",
       "    }\n",
       "</style>\n",
       "<table border=\"1\" class=\"dataframe\">\n",
       "  <thead>\n",
       "    <tr style=\"text-align: right;\">\n",
       "      <th></th>\n",
       "      <th>Davies-Bouldin index</th>\n",
       "      <th>silhouette_score</th>\n",
       "    </tr>\n",
       "  </thead>\n",
       "  <tbody>\n",
       "    <tr>\n",
       "      <th>30</th>\n",
       "      <td>0.638565</td>\n",
       "      <td>-0.053233</td>\n",
       "    </tr>\n",
       "    <tr>\n",
       "      <th>26</th>\n",
       "      <td>0.658049</td>\n",
       "      <td>0.023923</td>\n",
       "    </tr>\n",
       "    <tr>\n",
       "      <th>19</th>\n",
       "      <td>0.690818</td>\n",
       "      <td>0.207580</td>\n",
       "    </tr>\n",
       "    <tr>\n",
       "      <th>14</th>\n",
       "      <td>0.714443</td>\n",
       "      <td>0.048226</td>\n",
       "    </tr>\n",
       "    <tr>\n",
       "      <th>10</th>\n",
       "      <td>0.670222</td>\n",
       "      <td>0.196155</td>\n",
       "    </tr>\n",
       "    <tr>\n",
       "      <th>7</th>\n",
       "      <td>0.610118</td>\n",
       "      <td>0.308900</td>\n",
       "    </tr>\n",
       "    <tr>\n",
       "      <th>5</th>\n",
       "      <td>0.799904</td>\n",
       "      <td>0.104296</td>\n",
       "    </tr>\n",
       "    <tr>\n",
       "      <th>1</th>\n",
       "      <td>0.359794</td>\n",
       "      <td>0.435645</td>\n",
       "    </tr>\n",
       "  </tbody>\n",
       "</table>\n",
       "</div>"
      ],
      "text/plain": [
       "    Davies-Bouldin index  silhouette_score\n",
       "30              0.638565         -0.053233\n",
       "26              0.658049          0.023923\n",
       "19              0.690818          0.207580\n",
       "14              0.714443          0.048226\n",
       "10              0.670222          0.196155\n",
       "7               0.610118          0.308900\n",
       "5               0.799904          0.104296\n",
       "1               0.359794          0.435645"
      ]
     },
     "execution_count": 5,
     "metadata": {},
     "output_type": "execute_result"
    }
   ],
   "source": [
    "DBScan_PCA"
   ]
  },
  {
   "cell_type": "code",
   "execution_count": 56,
   "metadata": {},
   "outputs": [
    {
     "data": {
      "text/plain": [
       "<matplotlib.axes._subplots.AxesSubplot at 0x7fcaceec7898>"
      ]
     },
     "execution_count": 56,
     "metadata": {},
     "output_type": "execute_result"
    },
    {
     "data": {
      "image/png": "[encoded data removed]",
      "text/plain": [
       "<Figure size 432x288 with 1 Axes>"
      ]
     },
     "metadata": {
      "needs_background": "light"
     },
     "output_type": "display_data"
    }
   ],
   "source": [
    "# plot the double histogram\n",
    "\n",
    "DBScan_PCA.plot.bar()"
   ]
  },
  {
   "cell_type": "code",
   "execution_count": 9,
   "metadata": {},
   "outputs": [
    {
     "name": "stdout",
     "output_type": "stream",
     "text": [
      "proj_o\n"
     ]
    },
    {
     "name": "stderr",
     "output_type": "stream",
     "text": [
      "/usr/local/lib/python3.7/dist-packages/ipykernel_launcher.py:5: TqdmDeprecationWarning: This function will be removed in tqdm==5.0.0\n",
      "Please use `tqdm.notebook.tqdm` instead of `tqdm.tqdm_notebook`\n",
      "  \"\"\"\n"
     ]
    },
    {
     "data": {
      "application/vnd.jupyter.widget-view+json": {
       "model_id": "5b02e58dc9bc49da9b3d20319e0ba042",
       "version_major": 2,
       "version_minor": 0
      },
      "text/plain": [
       "HBox(children=(FloatProgress(value=0.0, max=5.0), HTML(value='')))"
      ]
     },
     "metadata": {},
     "output_type": "display_data"
    },
    {
     "name": "stdout",
     "output_type": "stream",
     "text": [
      "shape:  (14098, 20)\n",
      "n_clusters:  3\n",
      "Davies-Bouldin index, silhouette_score:  1.1699301842870309 0.3718085844728106\n",
      "Classified_samples, classes:  14098 2\n",
      "shape:  (14098, 20)\n",
      "n_clusters:  5\n",
      "Davies-Bouldin index, silhouette_score:  1.208239207816748 0.4091370967679173\n",
      "Classified_samples, classes:  14098 4\n",
      "shape:  (14098, 20)\n",
      "n_clusters:  7\n",
      "Davies-Bouldin index, silhouette_score:  1.2202171414858125 0.35177527621939825\n",
      "Classified_samples, classes:  14098 6\n",
      "shape:  (14098, 20)\n",
      "n_clusters:  9\n",
      "Davies-Bouldin index, silhouette_score:  1.4403952127037434 0.31644338160092383\n",
      "Classified_samples, classes:  14098 8\n",
      "shape:  (14098, 20)\n",
      "n_clusters:  11\n",
      "Davies-Bouldin index, silhouette_score:  1.2865848262489616 0.3267571450524798\n",
      "Classified_samples, classes:  14098 10\n",
      "\n",
      "proj_f\n"
     ]
    },
    {
     "name": "stderr",
     "output_type": "stream",
     "text": [
      "/usr/local/lib/python3.7/dist-packages/ipykernel_launcher.py:5: TqdmDeprecationWarning: This function will be removed in tqdm==5.0.0\n",
      "Please use `tqdm.notebook.tqdm` instead of `tqdm.tqdm_notebook`\n",
      "  \"\"\"\n"
     ]
    },
    {
     "data": {
      "application/vnd.jupyter.widget-view+json": {
       "model_id": "20042598012f4ee1a5aa9cbc5fd0954a",
       "version_major": 2,
       "version_minor": 0
      },
      "text/plain": [
       "HBox(children=(FloatProgress(value=0.0, max=5.0), HTML(value='')))"
      ]
     },
     "metadata": {},
     "output_type": "display_data"
    },
    {
     "name": "stdout",
     "output_type": "stream",
     "text": [
      "shape:  (14098, 42)\n",
      "n_clusters:  3\n",
      "Davies-Bouldin index, silhouette_score:  1.5310950213213614 0.3417703842700596\n",
      "Classified_samples, classes:  14098 2\n",
      "shape:  (14098, 42)\n",
      "n_clusters:  5\n",
      "Davies-Bouldin index, silhouette_score:  1.589227586796829 0.258428631891099\n",
      "Classified_samples, classes:  14098 4\n",
      "shape:  (14098, 42)\n",
      "n_clusters:  7\n",
      "Davies-Bouldin index, silhouette_score:  1.57092859835891 0.2010998045502895\n",
      "Classified_samples, classes:  14098 6\n",
      "shape:  (14098, 42)\n",
      "n_clusters:  9\n",
      "Davies-Bouldin index, silhouette_score:  1.6636453755790466 0.21287658116054062\n",
      "Classified_samples, classes:  14098 8\n",
      "shape:  (14098, 42)\n",
      "n_clusters:  11\n",
      "Davies-Bouldin index, silhouette_score:  1.6459147679198687 0.20497898259187636\n",
      "Classified_samples, classes:  14098 10\n",
      "\n",
      "proj_g\n"
     ]
    },
    {
     "name": "stderr",
     "output_type": "stream",
     "text": [
      "/usr/local/lib/python3.7/dist-packages/ipykernel_launcher.py:5: TqdmDeprecationWarning: This function will be removed in tqdm==5.0.0\n",
      "Please use `tqdm.notebook.tqdm` instead of `tqdm.tqdm_notebook`\n",
      "  \"\"\"\n"
     ]
    },
    {
     "data": {
      "application/vnd.jupyter.widget-view+json": {
       "model_id": "447a7ceae98c4d63933442f770582e8b",
       "version_major": 2,
       "version_minor": 0
      },
      "text/plain": [
       "HBox(children=(FloatProgress(value=0.0, max=5.0), HTML(value='')))"
      ]
     },
     "metadata": {},
     "output_type": "display_data"
    },
    {
     "name": "stdout",
     "output_type": "stream",
     "text": [
      "shape:  (14098, 68)\n",
      "n_clusters:  3\n",
      "Davies-Bouldin index, silhouette_score:  1.5620427870529408 0.25750998799137387\n",
      "Classified_samples, classes:  14098 2\n",
      "shape:  (14098, 68)\n",
      "n_clusters:  5\n",
      "Davies-Bouldin index, silhouette_score:  1.655903599993901 0.2529646916892946\n",
      "Classified_samples, classes:  14098 4\n",
      "shape:  (14098, 68)\n",
      "n_clusters:  7\n",
      "Davies-Bouldin index, silhouette_score:  1.5959541412674352 0.22186108993855733\n",
      "Classified_samples, classes:  14098 6\n",
      "shape:  (14098, 68)\n",
      "n_clusters:  9\n",
      "Davies-Bouldin index, silhouette_score:  1.6120313095923235 0.21178895436509398\n",
      "Classified_samples, classes:  14098 8\n",
      "shape:  (14098, 68)\n",
      "n_clusters:  11\n",
      "Davies-Bouldin index, silhouette_score:  1.6479862459733328 0.2097456133334908\n",
      "Classified_samples, classes:  14098 10\n",
      "\n",
      "isomap_o_dim5\n"
     ]
    },
    {
     "name": "stderr",
     "output_type": "stream",
     "text": [
      "/usr/local/lib/python3.7/dist-packages/ipykernel_launcher.py:5: TqdmDeprecationWarning: This function will be removed in tqdm==5.0.0\n",
      "Please use `tqdm.notebook.tqdm` instead of `tqdm.tqdm_notebook`\n",
      "  \"\"\"\n"
     ]
    },
    {
     "data": {
      "application/vnd.jupyter.widget-view+json": {
       "model_id": "7d88e4d6f3854304aab38812018ce140",
       "version_major": 2,
       "version_minor": 0
      },
      "text/plain": [
       "HBox(children=(FloatProgress(value=0.0, max=5.0), HTML(value='')))"
      ]
     },
     "metadata": {},
     "output_type": "display_data"
    },
    {
     "name": "stdout",
     "output_type": "stream",
     "text": [
      "shape:  (14098, 5)\n",
      "n_clusters:  3\n",
      "Davies-Bouldin index, silhouette_score:  1.0760627025316147 0.3796760718454059\n",
      "Classified_samples, classes:  14098 2\n",
      "shape:  (14098, 5)\n",
      "n_clusters:  5\n",
      "Davies-Bouldin index, silhouette_score:  0.846401356061618 0.43587536141438255\n",
      "Classified_samples, classes:  14098 4\n",
      "shape:  (14098, 5)\n",
      "n_clusters:  7\n",
      "Davies-Bouldin index, silhouette_score:  0.8768921527049354 0.38764136972742463\n",
      "Classified_samples, classes:  14098 6\n",
      "shape:  (14098, 5)\n",
      "n_clusters:  9\n",
      "Davies-Bouldin index, silhouette_score:  0.9263907781396805 0.3666311924176351\n",
      "Classified_samples, classes:  14098 8\n",
      "shape:  (14098, 5)\n",
      "n_clusters:  11\n",
      "Davies-Bouldin index, silhouette_score:  0.9669355912734052 0.34341887748100075\n",
      "Classified_samples, classes:  14098 10\n",
      "\n"
     ]
    }
   ],
   "source": [
    "# performing K-Means Clustering\n",
    "\n",
    "all_kmeans_indexes = []\n",
    "for dataset, label in zip(datasets, paths):\n",
    "    print(label.split(\"/\")[-1].split(\".\")[0])\n",
    "    indexes = []\n",
    "    for n in tqdm.tqdm_notebook(np.arange(3, 12, 2)):\n",
    "        kmeans = KMeans(int(n))\n",
    "        #dbscan.fit(dataset)\n",
    "        pred = kmeans.fit_predict(dataset)\n",
    "        if max(pred) > 0:\n",
    "            centers = cl_centers(dataset, pred)\n",
    "\n",
    "            ind = DB_index(dataset, centers, pred)\n",
    "            print(\"shape: \", dataset.shape)\n",
    "            print(\"n_clusters: \", n)\n",
    "            print(\"Davies-Bouldin index, silhouette_score: \", ind, silhouette_score(dataset, pred))\n",
    "            print(\"Classified_samples, classes: \", (pred != -1).sum(), max(pred))\n",
    "            indexes.append(ind)\n",
    "        else:\n",
    "            indexes.append(-1)\n",
    "    \n",
    "    all_kmeans_indexes.append(indexes)"
   ]
  },
  {
   "cell_type": "code",
   "execution_count": 39,
   "metadata": {},
   "outputs": [],
   "source": [
    "# Fill the frame below manually from the output above for O level PCA (DBI, silhouette)\n",
    "\n",
    "kmeans_pca = pd.DataFrame(data={'2': [1.1699301842870309, 0.3718085844728106], \n",
    "                                         '4': [1.208239207816748, 0.4091370967679173],\n",
    "                                         '6': [1.2202171414858125, 0.35177527621939825],\n",
    "                                         '8': [1.4403952127037434, 0.31644338160092383],\n",
    "                                         '10': [1.2865848262489616, 0.3267571450524798]\n",
    "                                        })"
   ]
  },
  {
   "cell_type": "code",
   "execution_count": 40,
   "metadata": {},
   "outputs": [],
   "source": [
    "# transpose the indexes matrix\n",
    "\n",
    "kmeans_pca = kmeans_pca.T"
   ]
  },
  {
   "cell_type": "code",
   "execution_count": 41,
   "metadata": {},
   "outputs": [],
   "source": [
    "# rename the columns\n",
    "\n",
    "kmeans_pca.columns = ['Davies-Bouldin index', 'silhouette_score']"
   ]
  },
  {
   "cell_type": "code",
   "execution_count": 42,
   "metadata": {},
   "outputs": [
    {
     "data": {
      "text/html": [
       "<div>\n",
       "<style scoped>\n",
       "    .dataframe tbody tr th:only-of-type {\n",
       "        vertical-align: middle;\n",
       "    }\n",
       "\n",
       "    .dataframe tbody tr th {\n",
       "        vertical-align: top;\n",
       "    }\n",
       "\n",
       "    .dataframe thead th {\n",
       "        text-align: right;\n",
       "    }\n",
       "</style>\n",
       "<table border=\"1\" class=\"dataframe\">\n",
       "  <thead>\n",
       "    <tr style=\"text-align: right;\">\n",
       "      <th></th>\n",
       "      <th>Davies-Bouldin index</th>\n",
       "      <th>silhouette_score</th>\n",
       "    </tr>\n",
       "  </thead>\n",
       "  <tbody>\n",
       "    <tr>\n",
       "      <th>2</th>\n",
       "      <td>1.169930</td>\n",
       "      <td>0.371809</td>\n",
       "    </tr>\n",
       "    <tr>\n",
       "      <th>4</th>\n",
       "      <td>1.208239</td>\n",
       "      <td>0.409137</td>\n",
       "    </tr>\n",
       "    <tr>\n",
       "      <th>6</th>\n",
       "      <td>1.220217</td>\n",
       "      <td>0.351775</td>\n",
       "    </tr>\n",
       "    <tr>\n",
       "      <th>8</th>\n",
       "      <td>1.440395</td>\n",
       "      <td>0.316443</td>\n",
       "    </tr>\n",
       "    <tr>\n",
       "      <th>10</th>\n",
       "      <td>1.286585</td>\n",
       "      <td>0.326757</td>\n",
       "    </tr>\n",
       "  </tbody>\n",
       "</table>\n",
       "</div>"
      ],
      "text/plain": [
       "    Davies-Bouldin index  silhouette_score\n",
       "2               1.169930          0.371809\n",
       "4               1.208239          0.409137\n",
       "6               1.220217          0.351775\n",
       "8               1.440395          0.316443\n",
       "10              1.286585          0.326757"
      ]
     },
     "execution_count": 42,
     "metadata": {},
     "output_type": "execute_result"
    }
   ],
   "source": [
    "kmeans_pca"
   ]
  },
  {
   "cell_type": "code",
   "execution_count": 43,
   "metadata": {},
   "outputs": [
    {
     "data": {
      "text/plain": [
       "<matplotlib.axes._subplots.AxesSubplot at 0x7fcaceec0748>"
      ]
     },
     "execution_count": 43,
     "metadata": {},
     "output_type": "execute_result"
    },
    {
     "data": {
      "image/png": "[encoded data removed]",
      "text/plain": [
       "<Figure size 432x288 with 1 Axes>"
      ]
     },
     "metadata": {
      "needs_background": "light"
     },
     "output_type": "display_data"
    }
   ],
   "source": [
    "# plot the double histogram\n",
    "\n",
    "kmeans_pca.plot.bar()"
   ]
  },
  {
   "cell_type": "code",
   "execution_count": 10,
   "metadata": {},
   "outputs": [],
   "source": [
    "# sample the data via binomial mask\n",
    "\n",
    "def sample_data(data, fraction):\n",
    "    mask = np.random.binomial(1, fraction, data.shape[0]).astype(bool)\n",
    "    return data[mask]"
   ]
  },
  {
   "cell_type": "code",
   "execution_count": 11,
   "metadata": {},
   "outputs": [
    {
     "name": "stdout",
     "output_type": "stream",
     "text": [
      "proj_o\n"
     ]
    },
    {
     "name": "stderr",
     "output_type": "stream",
     "text": [
      "/usr/local/lib/python3.7/dist-packages/ipykernel_launcher.py:6: TqdmDeprecationWarning: This function will be removed in tqdm==5.0.0\n",
      "Please use `tqdm.notebook.tqdm` instead of `tqdm.tqdm_notebook`\n",
      "  \n"
     ]
    },
    {
     "data": {
      "application/vnd.jupyter.widget-view+json": {
       "model_id": "020a459e8d84466b877196bfa62da3e7",
       "version_major": 2,
       "version_minor": 0
      },
      "text/plain": [
       "HBox(children=(FloatProgress(value=0.0, max=5.0), HTML(value='')))"
      ]
     },
     "metadata": {},
     "output_type": "display_data"
    },
    {
     "name": "stdout",
     "output_type": "stream",
     "text": [
      "shape:  (4163, 20)\n",
      "n_clusters:  3\n",
      "Davies-Bouldin index, silhouette_score:  1.1662268817735546 0.36507448646833685\n",
      "Classified_samples, classes:  4163 2\n",
      "shape:  (4163, 20)\n",
      "n_clusters:  5\n",
      "Davies-Bouldin index, silhouette_score:  1.100072229457588 0.39035725962363443\n",
      "Classified_samples, classes:  4163 4\n",
      "shape:  (4163, 20)\n",
      "n_clusters:  7\n",
      "Davies-Bouldin index, silhouette_score:  1.1106222987519723 0.3910102519079554\n",
      "Classified_samples, classes:  4163 6\n",
      "shape:  (4163, 20)\n",
      "n_clusters:  9\n",
      "Davies-Bouldin index, silhouette_score:  1.0489991772868632 0.2774640828725896\n",
      "Classified_samples, classes:  4163 8\n",
      "shape:  (4163, 20)\n",
      "n_clusters:  11\n",
      "Davies-Bouldin index, silhouette_score:  0.8210877595661912 0.25239588365815774\n",
      "Classified_samples, classes:  4163 10\n",
      "\n",
      "proj_f\n"
     ]
    },
    {
     "name": "stderr",
     "output_type": "stream",
     "text": [
      "/usr/local/lib/python3.7/dist-packages/ipykernel_launcher.py:6: TqdmDeprecationWarning: This function will be removed in tqdm==5.0.0\n",
      "Please use `tqdm.notebook.tqdm` instead of `tqdm.tqdm_notebook`\n",
      "  \n"
     ]
    },
    {
     "data": {
      "application/vnd.jupyter.widget-view+json": {
       "model_id": "13aaec26d33c4dc69751174ab50a4d01",
       "version_major": 2,
       "version_minor": 0
      },
      "text/plain": [
       "HBox(children=(FloatProgress(value=0.0, max=5.0), HTML(value='')))"
      ]
     },
     "metadata": {},
     "output_type": "display_data"
    },
    {
     "name": "stdout",
     "output_type": "stream",
     "text": [
      "shape:  (4284, 42)\n",
      "n_clusters:  3\n",
      "Davies-Bouldin index, silhouette_score:  1.4382973561973567 0.25113313537799636\n",
      "Classified_samples, classes:  4284 2\n",
      "shape:  (4284, 42)\n",
      "n_clusters:  5\n",
      "Davies-Bouldin index, silhouette_score:  1.5410161492570957 0.2536133208572419\n",
      "Classified_samples, classes:  4284 4\n",
      "shape:  (4284, 42)\n",
      "n_clusters:  7\n",
      "Davies-Bouldin index, silhouette_score:  1.5669354377114277 0.20162267367351602\n",
      "Classified_samples, classes:  4284 6\n",
      "shape:  (4284, 42)\n",
      "n_clusters:  9\n",
      "Davies-Bouldin index, silhouette_score:  1.4240190911829178 0.21295458890521288\n",
      "Classified_samples, classes:  4284 8\n",
      "shape:  (4284, 42)\n",
      "n_clusters:  11\n",
      "Davies-Bouldin index, silhouette_score:  1.52459492761175 0.20316752738169175\n",
      "Classified_samples, classes:  4284 10\n",
      "\n",
      "proj_g\n"
     ]
    },
    {
     "name": "stderr",
     "output_type": "stream",
     "text": [
      "/usr/local/lib/python3.7/dist-packages/ipykernel_launcher.py:6: TqdmDeprecationWarning: This function will be removed in tqdm==5.0.0\n",
      "Please use `tqdm.notebook.tqdm` instead of `tqdm.tqdm_notebook`\n",
      "  \n"
     ]
    },
    {
     "data": {
      "application/vnd.jupyter.widget-view+json": {
       "model_id": "58ec93fc3a7f40b39fa0716f4c4a5197",
       "version_major": 2,
       "version_minor": 0
      },
      "text/plain": [
       "HBox(children=(FloatProgress(value=0.0, max=5.0), HTML(value='')))"
      ]
     },
     "metadata": {},
     "output_type": "display_data"
    },
    {
     "name": "stdout",
     "output_type": "stream",
     "text": [
      "shape:  (4238, 68)\n",
      "n_clusters:  3\n",
      "Davies-Bouldin index, silhouette_score:  1.51824497134336 0.26035876356120746\n",
      "Classified_samples, classes:  4238 2\n",
      "shape:  (4238, 68)\n",
      "n_clusters:  5\n",
      "Davies-Bouldin index, silhouette_score:  1.0908594189740313 0.23947067421859466\n",
      "Classified_samples, classes:  4238 4\n",
      "shape:  (4238, 68)\n",
      "n_clusters:  7\n",
      "Davies-Bouldin index, silhouette_score:  1.5338181518343947 0.24314589244058413\n",
      "Classified_samples, classes:  4238 6\n",
      "shape:  (4238, 68)\n",
      "n_clusters:  9\n",
      "Davies-Bouldin index, silhouette_score:  1.5177533539138766 0.1978744656922402\n",
      "Classified_samples, classes:  4238 8\n",
      "shape:  (4238, 68)\n",
      "n_clusters:  11\n",
      "Davies-Bouldin index, silhouette_score:  1.4545746955218264 0.20514515537418657\n",
      "Classified_samples, classes:  4238 10\n",
      "\n",
      "isomap_o_dim5\n"
     ]
    },
    {
     "name": "stderr",
     "output_type": "stream",
     "text": [
      "/usr/local/lib/python3.7/dist-packages/ipykernel_launcher.py:6: TqdmDeprecationWarning: This function will be removed in tqdm==5.0.0\n",
      "Please use `tqdm.notebook.tqdm` instead of `tqdm.tqdm_notebook`\n",
      "  \n"
     ]
    },
    {
     "data": {
      "application/vnd.jupyter.widget-view+json": {
       "model_id": "b7d9a7a676c04f3ba38eae26361be2ea",
       "version_major": 2,
       "version_minor": 0
      },
      "text/plain": [
       "HBox(children=(FloatProgress(value=0.0, max=5.0), HTML(value='')))"
      ]
     },
     "metadata": {},
     "output_type": "display_data"
    },
    {
     "name": "stdout",
     "output_type": "stream",
     "text": [
      "shape:  (4235, 5)\n",
      "n_clusters:  3\n",
      "Davies-Bouldin index, silhouette_score:  1.0659165362377403 0.3524410689900278\n",
      "Classified_samples, classes:  4235 2\n",
      "shape:  (4235, 5)\n",
      "n_clusters:  5\n",
      "Davies-Bouldin index, silhouette_score:  0.8965892430705111 0.37786945329085303\n",
      "Classified_samples, classes:  4235 4\n",
      "shape:  (4235, 5)\n",
      "n_clusters:  7\n",
      "Davies-Bouldin index, silhouette_score:  1.8896144575742349 0.33679499125029205\n",
      "Classified_samples, classes:  4235 6\n",
      "shape:  (4235, 5)\n",
      "n_clusters:  9\n",
      "Davies-Bouldin index, silhouette_score:  0.9379148540956107 0.304506625828845\n",
      "Classified_samples, classes:  4235 8\n",
      "shape:  (4235, 5)\n",
      "n_clusters:  11\n",
      "Davies-Bouldin index, silhouette_score:  1.0269801052929095 0.3663782987960501\n",
      "Classified_samples, classes:  4235 10\n",
      "\n"
     ]
    }
   ],
   "source": [
    "# performing Spectral Clustering\n",
    "\n",
    "all_spectral_indexes = []\n",
    "for dataset, label in zip(datasets, paths):\n",
    "    dataset = sample_data(dataset, 0.3)\n",
    "    print(label.split(\"/\")[-1].split(\".\")[0])\n",
    "    indexes = []\n",
    "    for n in tqdm.tqdm_notebook(np.arange(3, 12, 2)):\n",
    "        sp = SpectralClustering(int(n))\n",
    "        #dbscan.fit(dataset)\n",
    "        pred = sp.fit_predict(dataset)\n",
    "        if max(pred) > 0:\n",
    "            centers = cl_centers(dataset, pred)\n",
    "\n",
    "            ind = DB_index(dataset, centers, pred)\n",
    "            print(\"shape: \", dataset.shape)\n",
    "            print(\"n_clusters: \", n)\n",
    "            print(\"Davies-Bouldin index, silhouette_score: \", ind, silhouette_score(dataset, pred))\n",
    "            print(\"Classified_samples, classes: \", (pred != -1).sum(), max(pred))\n",
    "            indexes.append(ind)\n",
    "        else:\n",
    "            indexes.append(-1)\n",
    "    \n",
    "    all_spectral_indexes.append(indexes)"
   ]
  },
  {
   "cell_type": "code",
   "execution_count": 44,
   "metadata": {},
   "outputs": [],
   "source": [
    "# Fill the frame below manually from the output above for O level PCA (DBI, silhouette)\n",
    "\n",
    "spectral_pca = pd.DataFrame(data={'2': [1.1662268817735546, 0.36507448646833685], \n",
    "                                         '4': [1.100072229457588, 0.39035725962363443],\n",
    "                                         '6': [1.1106222987519723, 0.3910102519079554],\n",
    "                                         '8': [1.0489991772868632, 0.2774640828725896],\n",
    "                                         '10': [0.8210877595661912, 0.25239588365815774]\n",
    "                                        })"
   ]
  },
  {
   "cell_type": "code",
   "execution_count": 45,
   "metadata": {},
   "outputs": [],
   "source": [
    "# transpose the indexes matrix\n",
    "\n",
    "spectral_pca = spectral_pca.T"
   ]
  },
  {
   "cell_type": "code",
   "execution_count": 46,
   "metadata": {},
   "outputs": [],
   "source": [
    "# rename the columns\n",
    "\n",
    "spectral_pca.columns = ['Davies-Bouldin index', 'silhouette_score']"
   ]
  },
  {
   "cell_type": "code",
   "execution_count": 47,
   "metadata": {},
   "outputs": [
    {
     "data": {
      "text/html": [
       "<div>\n",
       "<style scoped>\n",
       "    .dataframe tbody tr th:only-of-type {\n",
       "        vertical-align: middle;\n",
       "    }\n",
       "\n",
       "    .dataframe tbody tr th {\n",
       "        vertical-align: top;\n",
       "    }\n",
       "\n",
       "    .dataframe thead th {\n",
       "        text-align: right;\n",
       "    }\n",
       "</style>\n",
       "<table border=\"1\" class=\"dataframe\">\n",
       "  <thead>\n",
       "    <tr style=\"text-align: right;\">\n",
       "      <th></th>\n",
       "      <th>Davies-Bouldin index</th>\n",
       "      <th>silhouette_score</th>\n",
       "    </tr>\n",
       "  </thead>\n",
       "  <tbody>\n",
       "    <tr>\n",
       "      <th>2</th>\n",
       "      <td>1.166227</td>\n",
       "      <td>0.365074</td>\n",
       "    </tr>\n",
       "    <tr>\n",
       "      <th>4</th>\n",
       "      <td>1.100072</td>\n",
       "      <td>0.390357</td>\n",
       "    </tr>\n",
       "    <tr>\n",
       "      <th>6</th>\n",
       "      <td>1.110622</td>\n",
       "      <td>0.391010</td>\n",
       "    </tr>\n",
       "    <tr>\n",
       "      <th>8</th>\n",
       "      <td>1.048999</td>\n",
       "      <td>0.277464</td>\n",
       "    </tr>\n",
       "    <tr>\n",
       "      <th>10</th>\n",
       "      <td>0.821088</td>\n",
       "      <td>0.252396</td>\n",
       "    </tr>\n",
       "  </tbody>\n",
       "</table>\n",
       "</div>"
      ],
      "text/plain": [
       "    Davies-Bouldin index  silhouette_score\n",
       "2               1.166227          0.365074\n",
       "4               1.100072          0.390357\n",
       "6               1.110622          0.391010\n",
       "8               1.048999          0.277464\n",
       "10              0.821088          0.252396"
      ]
     },
     "execution_count": 47,
     "metadata": {},
     "output_type": "execute_result"
    }
   ],
   "source": [
    "spectral_pca"
   ]
  },
  {
   "cell_type": "code",
   "execution_count": 48,
   "metadata": {},
   "outputs": [
    {
     "data": {
      "text/plain": [
       "<matplotlib.axes._subplots.AxesSubplot at 0x7fcacee95a90>"
      ]
     },
     "execution_count": 48,
     "metadata": {},
     "output_type": "execute_result"
    },
    {
     "data": {
      "image/png": "[encoded data removed]",
      "text/plain": [
       "<Figure size 432x288 with 1 Axes>"
      ]
     },
     "metadata": {
      "needs_background": "light"
     },
     "output_type": "display_data"
    }
   ],
   "source": [
    "# plot the double histogram\n",
    "\n",
    "spectral_pca.plot.bar()"
   ]
  },
  {
   "cell_type": "code",
   "execution_count": 58,
   "metadata": {},
   "outputs": [
    {
     "name": "stdout",
     "output_type": "stream",
     "text": [
      "isomap_o_dim5\n"
     ]
    },
    {
     "name": "stderr",
     "output_type": "stream",
     "text": [
      "/usr/local/lib/python3.7/dist-packages/ipykernel_launcher.py:6: TqdmDeprecationWarning: This function will be removed in tqdm==5.0.0\n",
      "Please use `tqdm.notebook.tqdm` instead of `tqdm.tqdm_notebook`\n",
      "  \n"
     ]
    },
    {
     "data": {
      "application/vnd.jupyter.widget-view+json": {
       "model_id": "11dfa445543c4c5395d2a24dc1755e80",
       "version_major": 2,
       "version_minor": 0
      },
      "text/plain": [
       "HBox(children=(FloatProgress(value=0.0, max=10.0), HTML(value='')))"
      ]
     },
     "metadata": {},
     "output_type": "display_data"
    },
    {
     "name": "stdout",
     "output_type": "stream",
     "text": [
      "shape:  (14098, 5)\n",
      "dbscan eps:  0.15\n",
      "Davies-Bouldin index, silhouette_score:  0.6652454702826112 -0.16120149037310183\n",
      "Classified_samples, classes:  13198 40\n",
      "shape:  (14098, 5)\n",
      "dbscan eps:  0.17222222222222222\n",
      "Davies-Bouldin index, silhouette_score:  0.6197954410900869 0.06424393963011733\n",
      "Classified_samples, classes:  13483 28\n",
      "shape:  (14098, 5)\n",
      "dbscan eps:  0.19444444444444442\n",
      "Davies-Bouldin index, silhouette_score:  0.705049773382125 -0.13528587887694946\n",
      "Classified_samples, classes:  13695 19\n",
      "shape:  (14098, 5)\n",
      "dbscan eps:  0.21666666666666665\n",
      "Davies-Bouldin index, silhouette_score:  0.6884341169927133 0.06071753634638814\n",
      "Classified_samples, classes:  13858 9\n",
      "shape:  (14098, 5)\n",
      "dbscan eps:  0.23888888888888887\n",
      "Davies-Bouldin index, silhouette_score:  0.5547528129426172 0.2945397689887204\n",
      "Classified_samples, classes:  13957 7\n",
      "shape:  (14098, 5)\n",
      "dbscan eps:  0.26111111111111107\n",
      "Davies-Bouldin index, silhouette_score:  0.4999716570674491 0.3654751529866085\n",
      "Classified_samples, classes:  14002 2\n",
      "shape:  (14098, 5)\n",
      "dbscan eps:  0.2833333333333333\n",
      "Davies-Bouldin index, silhouette_score:  0.5033190855081221 0.3588475459002906\n",
      "Classified_samples, classes:  14044 2\n",
      "shape:  (14098, 5)\n",
      "dbscan eps:  0.3277777777777777\n",
      "Davies-Bouldin index, silhouette_score:  0.4989554586358883 0.3606774207371855\n",
      "Classified_samples, classes:  14083 1\n",
      "shape:  (14098, 5)\n",
      "dbscan eps:  0.35\n",
      "Davies-Bouldin index, silhouette_score:  0.49903760207843184 0.3846733626764021\n",
      "Classified_samples, classes:  14087 1\n",
      "\n"
     ]
    }
   ],
   "source": [
    "# performing DBScan Clustering for Isomap\n",
    "\n",
    "all_dbscan_indexes = []\n",
    "dataset = datasets[3]\n",
    "label = paths[3]\n",
    "print(label.split(\"/\")[-1].split(\".\")[0])\n",
    "indexes = []\n",
    "for eps in tqdm.tqdm_notebook(np.linspace(0.15, 0.35, 10)):\n",
    "    dbscan = DBSCAN(eps)\n",
    "    #dbscan.fit(dataset)\n",
    "    pred = dbscan.fit_predict(dataset)\n",
    "    if max(pred) > 0:\n",
    "        centers = cl_centers(dataset, pred)\n",
    "\n",
    "        ind = DB_index(dataset, centers, pred)\n",
    "        print(\"shape: \", dataset.shape)\n",
    "        print(\"dbscan eps: \", eps)\n",
    "        print(\"Davies-Bouldin index, silhouette_score: \", ind, silhouette_score(dataset, pred))\n",
    "        print(\"Classified_samples, classes: \", (pred != -1).sum(), max(pred))\n",
    "        indexes.append(ind)\n",
    "    else:\n",
    "        indexes.append(-1)\n",
    "    \n",
    "all_dbscan_indexes.append(indexes)"
   ]
  },
  {
   "cell_type": "code",
   "execution_count": 6,
   "metadata": {},
   "outputs": [],
   "source": [
    "# Fill the frame below manually from the output above for O level Isomap (DBI, silhouette)\n",
    "\n",
    "DBScan_isomap = pd.DataFrame(data={'40': [0.6652454702826112, -0.16120149037310183], \n",
    "                                         '28': [0.6197954410900869, 0.06424393963011733],\n",
    "                                         '19': [0.705049773382125, -0.13528587887694946],\n",
    "                                         '9': [0.6884341169927133, 0.06071753634638814],\n",
    "                                         '7': [0.5547528129426172, 0.2945397689887204],\n",
    "                                         '2': [0.4999716570674491, 0.3654751529866085],\n",
    "                                         '1': [0.49903760207843184, 0.3846733626764021]\n",
    "                                        })"
   ]
  },
  {
   "cell_type": "code",
   "execution_count": 7,
   "metadata": {},
   "outputs": [],
   "source": [
    "# transpose the indexes matrix\n",
    "\n",
    "DBScan_isomap = DBScan_isomap.T"
   ]
  },
  {
   "cell_type": "code",
   "execution_count": 8,
   "metadata": {},
   "outputs": [],
   "source": [
    "# rename the columns\n",
    "\n",
    "DBScan_isomap.columns = ['Davies-Bouldin index', 'silhouette_score']"
   ]
  },
  {
   "cell_type": "code",
   "execution_count": 9,
   "metadata": {},
   "outputs": [
    {
     "data": {
      "text/html": [
       "<div>\n",
       "<style scoped>\n",
       "    .dataframe tbody tr th:only-of-type {\n",
       "        vertical-align: middle;\n",
       "    }\n",
       "\n",
       "    .dataframe tbody tr th {\n",
       "        vertical-align: top;\n",
       "    }\n",
       "\n",
       "    .dataframe thead th {\n",
       "        text-align: right;\n",
       "    }\n",
       "</style>\n",
       "<table border=\"1\" class=\"dataframe\">\n",
       "  <thead>\n",
       "    <tr style=\"text-align: right;\">\n",
       "      <th></th>\n",
       "      <th>Davies-Bouldin index</th>\n",
       "      <th>silhouette_score</th>\n",
       "    </tr>\n",
       "  </thead>\n",
       "  <tbody>\n",
       "    <tr>\n",
       "      <th>40</th>\n",
       "      <td>0.665245</td>\n",
       "      <td>-0.161201</td>\n",
       "    </tr>\n",
       "    <tr>\n",
       "      <th>28</th>\n",
       "      <td>0.619795</td>\n",
       "      <td>0.064244</td>\n",
       "    </tr>\n",
       "    <tr>\n",
       "      <th>19</th>\n",
       "      <td>0.705050</td>\n",
       "      <td>-0.135286</td>\n",
       "    </tr>\n",
       "    <tr>\n",
       "      <th>9</th>\n",
       "      <td>0.688434</td>\n",
       "      <td>0.060718</td>\n",
       "    </tr>\n",
       "    <tr>\n",
       "      <th>7</th>\n",
       "      <td>0.554753</td>\n",
       "      <td>0.294540</td>\n",
       "    </tr>\n",
       "    <tr>\n",
       "      <th>2</th>\n",
       "      <td>0.499972</td>\n",
       "      <td>0.365475</td>\n",
       "    </tr>\n",
       "    <tr>\n",
       "      <th>1</th>\n",
       "      <td>0.499038</td>\n",
       "      <td>0.384673</td>\n",
       "    </tr>\n",
       "  </tbody>\n",
       "</table>\n",
       "</div>"
      ],
      "text/plain": [
       "    Davies-Bouldin index  silhouette_score\n",
       "40              0.665245         -0.161201\n",
       "28              0.619795          0.064244\n",
       "19              0.705050         -0.135286\n",
       "9               0.688434          0.060718\n",
       "7               0.554753          0.294540\n",
       "2               0.499972          0.365475\n",
       "1               0.499038          0.384673"
      ]
     },
     "execution_count": 9,
     "metadata": {},
     "output_type": "execute_result"
    }
   ],
   "source": [
    "DBScan_isomap"
   ]
  },
  {
   "cell_type": "code",
   "execution_count": 68,
   "metadata": {},
   "outputs": [
    {
     "data": {
      "text/plain": [
       "<matplotlib.axes._subplots.AxesSubplot at 0x7fcace0f5080>"
      ]
     },
     "execution_count": 68,
     "metadata": {},
     "output_type": "execute_result"
    },
    {
     "data": {
      "image/png": "[encoded data removed]",
      "text/plain": [
       "<Figure size 432x288 with 1 Axes>"
      ]
     },
     "metadata": {
      "needs_background": "light"
     },
     "output_type": "display_data"
    }
   ],
   "source": [
    "# plot the double histogram\n",
    "\n",
    "DBScan_isomap.plot.bar()"
   ]
  },
  {
   "cell_type": "code",
   "execution_count": 13,
   "metadata": {},
   "outputs": [
    {
     "name": "stdout",
     "output_type": "stream",
     "text": [
      "isomap_o_dim5\n"
     ]
    },
    {
     "name": "stderr",
     "output_type": "stream",
     "text": [
      "/usr/local/lib/python3.7/dist-packages/ipykernel_launcher.py:6: TqdmDeprecationWarning: This function will be removed in tqdm==5.0.0\n",
      "Please use `tqdm.notebook.tqdm` instead of `tqdm.tqdm_notebook`\n",
      "  \n"
     ]
    },
    {
     "data": {
      "application/vnd.jupyter.widget-view+json": {
       "model_id": "b98f49ce1b1a4b59ae6818b14ac9478f",
       "version_major": 2,
       "version_minor": 0
      },
      "text/plain": [
       "HBox(children=(FloatProgress(value=0.0, max=5.0), HTML(value='')))"
      ]
     },
     "metadata": {},
     "output_type": "display_data"
    },
    {
     "name": "stdout",
     "output_type": "stream",
     "text": [
      "shape:  (14098, 5)\n",
      "n_clusters:  3\n",
      "Davies-Bouldin index, silhouette_score:  1.0755912317306053 0.37962158807768137\n",
      "Classified_samples, classes:  14098 2\n",
      "shape:  (14098, 5)\n",
      "n_clusters:  5\n",
      "Davies-Bouldin index, silhouette_score:  0.846401356061618 0.43587536141438255\n",
      "Classified_samples, classes:  14098 4\n",
      "shape:  (14098, 5)\n",
      "n_clusters:  7\n",
      "Davies-Bouldin index, silhouette_score:  0.8768891716193483 0.38765041744080414\n",
      "Classified_samples, classes:  14098 6\n",
      "shape:  (14098, 5)\n",
      "n_clusters:  9\n",
      "Davies-Bouldin index, silhouette_score:  0.9279348308375186 0.3662763355444997\n",
      "Classified_samples, classes:  14098 8\n",
      "shape:  (14098, 5)\n",
      "n_clusters:  11\n",
      "Davies-Bouldin index, silhouette_score:  0.967134582995433 0.3450890183901615\n",
      "Classified_samples, classes:  14098 10\n",
      "\n"
     ]
    }
   ],
   "source": [
    "# performing K-Means Clustering for Isomap\n",
    "\n",
    "all_kmeans_indexes = []\n",
    "dataset = datasets[3]\n",
    "label = paths[3]\n",
    "print(label.split(\"/\")[-1].split(\".\")[0])\n",
    "indexes = []\n",
    "for n in tqdm.tqdm_notebook(np.arange(3, 12, 2)):\n",
    "    kmeans = KMeans(int(n))\n",
    "    #dbscan.fit(dataset)\n",
    "    pred = kmeans.fit_predict(dataset)\n",
    "    if max(pred) > 0:\n",
    "        centers = cl_centers(dataset, pred)\n",
    "\n",
    "        ind = DB_index(dataset, centers, pred)\n",
    "        print(\"shape: \", dataset.shape)\n",
    "        print(\"n_clusters: \", n)\n",
    "        print(\"Davies-Bouldin index, silhouette_score: \", ind, silhouette_score(dataset, pred))\n",
    "        print(\"Classified_samples, classes: \", (pred != -1).sum(), max(pred))\n",
    "        indexes.append(ind)\n",
    "    else:\n",
    "        indexes.append(-1)\n",
    "    \n",
    "all_kmeans_indexes.append(indexes)"
   ]
  },
  {
   "cell_type": "code",
   "execution_count": 29,
   "metadata": {},
   "outputs": [],
   "source": [
    "# Fill the frame below manually from the output above for O level Isomap (DBI, silhouette)\n",
    "\n",
    "kmeans_isomap = pd.DataFrame(data={'2': [1.0755912317306053, 0.37962158807768137], \n",
    "                                         '4': [0.846401356061618, 0.43587536141438255],\n",
    "                                         '6': [0.8768891716193483, 0.38765041744080414],\n",
    "                                         '8': [0.9279348308375186, 0.3662763355444997],\n",
    "                                         '10': [0.967134582995433, 0.3450890183901615]\n",
    "                                        })"
   ]
  },
  {
   "cell_type": "code",
   "execution_count": 30,
   "metadata": {},
   "outputs": [],
   "source": [
    "# transpose the indexes matrix\n",
    "\n",
    "kmeans_isomap = kmeans_isomap.T"
   ]
  },
  {
   "cell_type": "code",
   "execution_count": 31,
   "metadata": {},
   "outputs": [],
   "source": [
    "# rename the columns\n",
    "\n",
    "kmeans_isomap.columns = ['Davies-Bouldin index', 'silhouette_score']"
   ]
  },
  {
   "cell_type": "code",
   "execution_count": 32,
   "metadata": {},
   "outputs": [
    {
     "data": {
      "text/html": [
       "<div>\n",
       "<style scoped>\n",
       "    .dataframe tbody tr th:only-of-type {\n",
       "        vertical-align: middle;\n",
       "    }\n",
       "\n",
       "    .dataframe tbody tr th {\n",
       "        vertical-align: top;\n",
       "    }\n",
       "\n",
       "    .dataframe thead th {\n",
       "        text-align: right;\n",
       "    }\n",
       "</style>\n",
       "<table border=\"1\" class=\"dataframe\">\n",
       "  <thead>\n",
       "    <tr style=\"text-align: right;\">\n",
       "      <th></th>\n",
       "      <th>Davies-Bouldin index</th>\n",
       "      <th>silhouette_score</th>\n",
       "    </tr>\n",
       "  </thead>\n",
       "  <tbody>\n",
       "    <tr>\n",
       "      <th>2</th>\n",
       "      <td>1.075591</td>\n",
       "      <td>0.379622</td>\n",
       "    </tr>\n",
       "    <tr>\n",
       "      <th>4</th>\n",
       "      <td>0.846401</td>\n",
       "      <td>0.435875</td>\n",
       "    </tr>\n",
       "    <tr>\n",
       "      <th>6</th>\n",
       "      <td>0.876889</td>\n",
       "      <td>0.387650</td>\n",
       "    </tr>\n",
       "    <tr>\n",
       "      <th>8</th>\n",
       "      <td>0.927935</td>\n",
       "      <td>0.366276</td>\n",
       "    </tr>\n",
       "    <tr>\n",
       "      <th>10</th>\n",
       "      <td>0.967135</td>\n",
       "      <td>0.345089</td>\n",
       "    </tr>\n",
       "  </tbody>\n",
       "</table>\n",
       "</div>"
      ],
      "text/plain": [
       "    Davies-Bouldin index  silhouette_score\n",
       "2               1.075591          0.379622\n",
       "4               0.846401          0.435875\n",
       "6               0.876889          0.387650\n",
       "8               0.927935          0.366276\n",
       "10              0.967135          0.345089"
      ]
     },
     "execution_count": 32,
     "metadata": {},
     "output_type": "execute_result"
    }
   ],
   "source": [
    "kmeans_isomap"
   ]
  },
  {
   "cell_type": "code",
   "execution_count": 33,
   "metadata": {},
   "outputs": [
    {
     "data": {
      "text/plain": [
       "<matplotlib.axes._subplots.AxesSubplot at 0x7fcac9252400>"
      ]
     },
     "execution_count": 33,
     "metadata": {},
     "output_type": "execute_result"
    },
    {
     "data": {
      "image/png": "[encoded data removed]",
      "text/plain": [
       "<Figure size 432x288 with 1 Axes>"
      ]
     },
     "metadata": {
      "needs_background": "light"
     },
     "output_type": "display_data"
    }
   ],
   "source": [
    "# plot the double histogram\n",
    "\n",
    "kmeans_isomap.plot.bar()"
   ]
  },
  {
   "cell_type": "code",
   "execution_count": 16,
   "metadata": {},
   "outputs": [],
   "source": [
    "# sample the data via binomial mask\n",
    "\n",
    "def sample_data(data, fraction):\n",
    "    mask = np.random.binomial(1, fraction, data.shape[0]).astype(bool)\n",
    "    return data[mask]"
   ]
  },
  {
   "cell_type": "code",
   "execution_count": 17,
   "metadata": {},
   "outputs": [
    {
     "name": "stdout",
     "output_type": "stream",
     "text": [
      "isomap_o_dim5\n"
     ]
    },
    {
     "name": "stderr",
     "output_type": "stream",
     "text": [
      "/usr/local/lib/python3.7/dist-packages/ipykernel_launcher.py:7: TqdmDeprecationWarning: This function will be removed in tqdm==5.0.0\n",
      "Please use `tqdm.notebook.tqdm` instead of `tqdm.tqdm_notebook`\n",
      "  import sys\n"
     ]
    },
    {
     "data": {
      "application/vnd.jupyter.widget-view+json": {
       "model_id": "ba792832d62d48de95f5dd7d99dbaa02",
       "version_major": 2,
       "version_minor": 0
      },
      "text/plain": [
       "HBox(children=(FloatProgress(value=0.0, max=5.0), HTML(value='')))"
      ]
     },
     "metadata": {},
     "output_type": "display_data"
    },
    {
     "name": "stdout",
     "output_type": "stream",
     "text": [
      "shape:  (4250, 5)\n",
      "n_clusters:  3\n",
      "Davies-Bouldin index, silhouette_score:  0.5516035017334805 0.5597466004441564\n",
      "Classified_samples, classes:  4250 2\n",
      "shape:  (4250, 5)\n",
      "n_clusters:  5\n",
      "Davies-Bouldin index, silhouette_score:  0.8474007262037478 0.3732162992020442\n",
      "Classified_samples, classes:  4250 4\n",
      "shape:  (4250, 5)\n",
      "n_clusters:  7\n",
      "Davies-Bouldin index, silhouette_score:  0.9627899307378939 0.375414209035086\n",
      "Classified_samples, classes:  4250 6\n",
      "shape:  (4250, 5)\n",
      "n_clusters:  9\n",
      "Davies-Bouldin index, silhouette_score:  1.6408166881861965 0.33573495299862394\n",
      "Classified_samples, classes:  4250 8\n",
      "shape:  (4250, 5)\n",
      "n_clusters:  11\n",
      "Davies-Bouldin index, silhouette_score:  1.327452327525305 0.3616299371681999\n",
      "Classified_samples, classes:  4250 10\n",
      "\n"
     ]
    }
   ],
   "source": [
    "# performing Spectral Clustering for Isomap\n",
    "\n",
    "all_spectral_indexes = []\n",
    "dataset = datasets[3]\n",
    "label = paths[3]\n",
    "dataset = sample_data(dataset, 0.3)\n",
    "print(label.split(\"/\")[-1].split(\".\")[0])\n",
    "indexes = []\n",
    "for n in tqdm.tqdm_notebook(np.arange(3, 12, 2)):\n",
    "    sp = SpectralClustering(int(n))\n",
    "    #dbscan.fit(dataset)\n",
    "    pred = sp.fit_predict(dataset)\n",
    "    if max(pred) > 0:\n",
    "        centers = cl_centers(dataset, pred)\n",
    "\n",
    "        ind = DB_index(dataset, centers, pred)\n",
    "        print(\"shape: \", dataset.shape)\n",
    "        print(\"n_clusters: \", n)\n",
    "        print(\"Davies-Bouldin index, silhouette_score: \", ind, silhouette_score(dataset, pred))\n",
    "        print(\"Classified_samples, classes: \", (pred != -1).sum(), max(pred))\n",
    "        indexes.append(ind)\n",
    "    else:\n",
    "        indexes.append(-1)\n",
    "    \n",
    "all_spectral_indexes.append(indexes)"
   ]
  },
  {
   "cell_type": "code",
   "execution_count": 18,
   "metadata": {},
   "outputs": [],
   "source": [
    "# Fill the frame below manually from the output above for O level Isomap (DBI, silhouette)\n",
    "\n",
    "spectral_isomap = pd.DataFrame(data={'2': [0.5516035017334805, 0.5597466004441564], \n",
    "                                         '4': [0.8474007262037478, 0.3732162992020442],\n",
    "                                         '6': [0.9627899307378939, 0.375414209035086],\n",
    "                                         '8': [1.6408166881861965, 0.33573495299862394],\n",
    "                                         '10': [1.327452327525305, 0.3616299371681999]\n",
    "                                        })"
   ]
  },
  {
   "cell_type": "code",
   "execution_count": 19,
   "metadata": {},
   "outputs": [
    {
     "data": {
      "text/html": [
       "<div>\n",
       "<style scoped>\n",
       "    .dataframe tbody tr th:only-of-type {\n",
       "        vertical-align: middle;\n",
       "    }\n",
       "\n",
       "    .dataframe tbody tr th {\n",
       "        vertical-align: top;\n",
       "    }\n",
       "\n",
       "    .dataframe thead th {\n",
       "        text-align: right;\n",
       "    }\n",
       "</style>\n",
       "<table border=\"1\" class=\"dataframe\">\n",
       "  <thead>\n",
       "    <tr style=\"text-align: right;\">\n",
       "      <th></th>\n",
       "      <th>2</th>\n",
       "      <th>4</th>\n",
       "      <th>6</th>\n",
       "      <th>8</th>\n",
       "      <th>10</th>\n",
       "    </tr>\n",
       "  </thead>\n",
       "  <tbody>\n",
       "    <tr>\n",
       "      <th>0</th>\n",
       "      <td>0.551604</td>\n",
       "      <td>0.847401</td>\n",
       "      <td>0.962790</td>\n",
       "      <td>1.640817</td>\n",
       "      <td>1.327452</td>\n",
       "    </tr>\n",
       "    <tr>\n",
       "      <th>1</th>\n",
       "      <td>0.559747</td>\n",
       "      <td>0.373216</td>\n",
       "      <td>0.375414</td>\n",
       "      <td>0.335735</td>\n",
       "      <td>0.361630</td>\n",
       "    </tr>\n",
       "  </tbody>\n",
       "</table>\n",
       "</div>"
      ],
      "text/plain": [
       "          2         4         6         8        10\n",
       "0  0.551604  0.847401  0.962790  1.640817  1.327452\n",
       "1  0.559747  0.373216  0.375414  0.335735  0.361630"
      ]
     },
     "execution_count": 19,
     "metadata": {},
     "output_type": "execute_result"
    }
   ],
   "source": [
    "spectral_isomap"
   ]
  },
  {
   "cell_type": "code",
   "execution_count": 20,
   "metadata": {},
   "outputs": [],
   "source": [
    "# transpose the indexes matrix\n",
    "\n",
    "spectral_isomap = spectral_isomap.T"
   ]
  },
  {
   "cell_type": "code",
   "execution_count": 21,
   "metadata": {},
   "outputs": [],
   "source": [
    "# rename the columns\n",
    "\n",
    "spectral_isomap.columns = ['Davies-Bouldin index', 'silhouette_score']"
   ]
  },
  {
   "cell_type": "code",
   "execution_count": 22,
   "metadata": {},
   "outputs": [
    {
     "data": {
      "text/html": [
       "<div>\n",
       "<style scoped>\n",
       "    .dataframe tbody tr th:only-of-type {\n",
       "        vertical-align: middle;\n",
       "    }\n",
       "\n",
       "    .dataframe tbody tr th {\n",
       "        vertical-align: top;\n",
       "    }\n",
       "\n",
       "    .dataframe thead th {\n",
       "        text-align: right;\n",
       "    }\n",
       "</style>\n",
       "<table border=\"1\" class=\"dataframe\">\n",
       "  <thead>\n",
       "    <tr style=\"text-align: right;\">\n",
       "      <th></th>\n",
       "      <th>Davies-Bouldin index</th>\n",
       "      <th>silhouette_score</th>\n",
       "    </tr>\n",
       "  </thead>\n",
       "  <tbody>\n",
       "    <tr>\n",
       "      <th>2</th>\n",
       "      <td>0.551604</td>\n",
       "      <td>0.559747</td>\n",
       "    </tr>\n",
       "    <tr>\n",
       "      <th>4</th>\n",
       "      <td>0.847401</td>\n",
       "      <td>0.373216</td>\n",
       "    </tr>\n",
       "    <tr>\n",
       "      <th>6</th>\n",
       "      <td>0.962790</td>\n",
       "      <td>0.375414</td>\n",
       "    </tr>\n",
       "    <tr>\n",
       "      <th>8</th>\n",
       "      <td>1.640817</td>\n",
       "      <td>0.335735</td>\n",
       "    </tr>\n",
       "    <tr>\n",
       "      <th>10</th>\n",
       "      <td>1.327452</td>\n",
       "      <td>0.361630</td>\n",
       "    </tr>\n",
       "  </tbody>\n",
       "</table>\n",
       "</div>"
      ],
      "text/plain": [
       "    Davies-Bouldin index  silhouette_score\n",
       "2               0.551604          0.559747\n",
       "4               0.847401          0.373216\n",
       "6               0.962790          0.375414\n",
       "8               1.640817          0.335735\n",
       "10              1.327452          0.361630"
      ]
     },
     "execution_count": 22,
     "metadata": {},
     "output_type": "execute_result"
    }
   ],
   "source": [
    "spectral_isomap"
   ]
  },
  {
   "cell_type": "code",
   "execution_count": 23,
   "metadata": {},
   "outputs": [
    {
     "data": {
      "text/plain": [
       "<matplotlib.axes._subplots.AxesSubplot at 0x7fcaca1e06d8>"
      ]
     },
     "execution_count": 23,
     "metadata": {},
     "output_type": "execute_result"
    },
    {
     "data": {
      "image/png": "[encoded data removed]",
      "text/plain": [
       "<Figure size 432x288 with 1 Axes>"
      ]
     },
     "metadata": {
      "needs_background": "light"
     },
     "output_type": "display_data"
    }
   ],
   "source": [
    "# plot the double histogram\n",
    "\n",
    "spectral_isomap.plot.bar()"
   ]
  },
  {
   "cell_type": "markdown",
   "metadata": {},
   "source": [
    "## The code below should be replaced by the automatic recalculation of the indexes data frames. Data from PCA and Isomap indexes frames should be reorganized to two alternitive frames with DBI and Silhoutte indexes as columns"
   ]
  },
  {
   "cell_type": "code",
   "execution_count": 12,
   "metadata": {},
   "outputs": [],
   "source": [
    "# Fill the frames below with the data from the previous PCA and Isomap frames\n",
    "\n",
    "DBI_spectral_isomap_pca = pd.DataFrame(data={'2': [0.5516035017334805, 1.1662268817735546],\n",
    "                                         '4': [0.8474007262037478, 1.100072229457588],\n",
    "                                         '6': [0.9627899307378939, 1.1106222987519723],\n",
    "                                         '8': [1.6408166881861965, 1.0489991772868632],\n",
    "                                         '10': [1.327452327525305, 0.8210877595661912],\n",
    "                                        })\n",
    "\n",
    "slh_spectral_isomap_pca = pd.DataFrame(data={'2': [0.5597466004441564, 0.36507448646833685], \n",
    "                                         '4': [0.3732162992020442, 0.39035725962363443],\n",
    "                                         '6': [0.375414209035086, 0.3910102519079554],\n",
    "                                         '8': [0.33573495299862394, 0.2774640828725896],\n",
    "                                         '10': [0.3616299371681999, 0.25239588365815774]\n",
    "                                        })"
   ]
  },
  {
   "cell_type": "code",
   "execution_count": 13,
   "metadata": {},
   "outputs": [],
   "source": [
    "# transpose the indexes matrices\n",
    "\n",
    "DBI_spectral_isomap_pca = DBI_spectral_isomap_pca.T\n",
    "slh_spectral_isomap_pca = slh_spectral_isomap_pca.T"
   ]
  },
  {
   "cell_type": "code",
   "execution_count": 16,
   "metadata": {},
   "outputs": [],
   "source": [
    "# rename the columns\n",
    "\n",
    "DBI_spectral_isomap_pca.columns = ['Isomap', 'PCA']\n",
    "slh_spectral_isomap_pca.columns = ['Isomap', 'PCA']"
   ]
  },
  {
   "cell_type": "code",
   "execution_count": 17,
   "metadata": {},
   "outputs": [
    {
     "data": {
      "text/html": [
       "<div>\n",
       "<style scoped>\n",
       "    .dataframe tbody tr th:only-of-type {\n",
       "        vertical-align: middle;\n",
       "    }\n",
       "\n",
       "    .dataframe tbody tr th {\n",
       "        vertical-align: top;\n",
       "    }\n",
       "\n",
       "    .dataframe thead th {\n",
       "        text-align: right;\n",
       "    }\n",
       "</style>\n",
       "<table border=\"1\" class=\"dataframe\">\n",
       "  <thead>\n",
       "    <tr style=\"text-align: right;\">\n",
       "      <th></th>\n",
       "      <th>Isomap</th>\n",
       "      <th>PCA</th>\n",
       "    </tr>\n",
       "  </thead>\n",
       "  <tbody>\n",
       "    <tr>\n",
       "      <th>2</th>\n",
       "      <td>0.559747</td>\n",
       "      <td>0.365074</td>\n",
       "    </tr>\n",
       "    <tr>\n",
       "      <th>4</th>\n",
       "      <td>0.373216</td>\n",
       "      <td>0.390357</td>\n",
       "    </tr>\n",
       "    <tr>\n",
       "      <th>6</th>\n",
       "      <td>0.375414</td>\n",
       "      <td>0.391010</td>\n",
       "    </tr>\n",
       "    <tr>\n",
       "      <th>8</th>\n",
       "      <td>0.335735</td>\n",
       "      <td>0.277464</td>\n",
       "    </tr>\n",
       "    <tr>\n",
       "      <th>10</th>\n",
       "      <td>0.361630</td>\n",
       "      <td>0.252396</td>\n",
       "    </tr>\n",
       "  </tbody>\n",
       "</table>\n",
       "</div>"
      ],
      "text/plain": [
       "      Isomap       PCA\n",
       "2   0.559747  0.365074\n",
       "4   0.373216  0.390357\n",
       "6   0.375414  0.391010\n",
       "8   0.335735  0.277464\n",
       "10  0.361630  0.252396"
      ]
     },
     "execution_count": 17,
     "metadata": {},
     "output_type": "execute_result"
    }
   ],
   "source": [
    "slh_spectral_isomap_pca"
   ]
  },
  {
   "cell_type": "code",
   "execution_count": 18,
   "metadata": {},
   "outputs": [
    {
     "data": {
      "text/html": [
       "<div>\n",
       "<style scoped>\n",
       "    .dataframe tbody tr th:only-of-type {\n",
       "        vertical-align: middle;\n",
       "    }\n",
       "\n",
       "    .dataframe tbody tr th {\n",
       "        vertical-align: top;\n",
       "    }\n",
       "\n",
       "    .dataframe thead th {\n",
       "        text-align: right;\n",
       "    }\n",
       "</style>\n",
       "<table border=\"1\" class=\"dataframe\">\n",
       "  <thead>\n",
       "    <tr style=\"text-align: right;\">\n",
       "      <th></th>\n",
       "      <th>Isomap</th>\n",
       "      <th>PCA</th>\n",
       "    </tr>\n",
       "  </thead>\n",
       "  <tbody>\n",
       "    <tr>\n",
       "      <th>2</th>\n",
       "      <td>0.551604</td>\n",
       "      <td>1.166227</td>\n",
       "    </tr>\n",
       "    <tr>\n",
       "      <th>4</th>\n",
       "      <td>0.847401</td>\n",
       "      <td>1.100072</td>\n",
       "    </tr>\n",
       "    <tr>\n",
       "      <th>6</th>\n",
       "      <td>0.962790</td>\n",
       "      <td>1.110622</td>\n",
       "    </tr>\n",
       "    <tr>\n",
       "      <th>8</th>\n",
       "      <td>1.640817</td>\n",
       "      <td>1.048999</td>\n",
       "    </tr>\n",
       "    <tr>\n",
       "      <th>10</th>\n",
       "      <td>1.327452</td>\n",
       "      <td>0.821088</td>\n",
       "    </tr>\n",
       "  </tbody>\n",
       "</table>\n",
       "</div>"
      ],
      "text/plain": [
       "      Isomap       PCA\n",
       "2   0.551604  1.166227\n",
       "4   0.847401  1.100072\n",
       "6   0.962790  1.110622\n",
       "8   1.640817  1.048999\n",
       "10  1.327452  0.821088"
      ]
     },
     "execution_count": 18,
     "metadata": {},
     "output_type": "execute_result"
    }
   ],
   "source": [
    "DBI_spectral_isomap_pca"
   ]
  },
  {
   "cell_type": "code",
   "execution_count": 19,
   "metadata": {},
   "outputs": [
    {
     "data": {
      "text/plain": [
       "<matplotlib.axes._subplots.AxesSubplot at 0x7f40af166cc0>"
      ]
     },
     "execution_count": 19,
     "metadata": {},
     "output_type": "execute_result"
    },
    {
     "data": {
      "image/png": "[encoded data removed]",
      "text/plain": [
       "<Figure size 432x288 with 1 Axes>"
      ]
     },
     "metadata": {
      "needs_background": "light"
     },
     "output_type": "display_data"
    }
   ],
   "source": [
    "# plot the double histogram\n",
    "\n",
    "slh_spectral_isomap_pca.plot.bar()"
   ]
  },
  {
   "cell_type": "code",
   "execution_count": 20,
   "metadata": {},
   "outputs": [
    {
     "data": {
      "text/plain": [
       "<matplotlib.axes._subplots.AxesSubplot at 0x7f40acc1a048>"
      ]
     },
     "execution_count": 20,
     "metadata": {},
     "output_type": "execute_result"
    },
    {
     "data": {
      "image/png": "[encoded data removed]",
      "text/plain": [
       "<Figure size 432x288 with 1 Axes>"
      ]
     },
     "metadata": {
      "needs_background": "light"
     },
     "output_type": "display_data"
    }
   ],
   "source": [
    "# plot the double histogram\n",
    "\n",
    "DBI_spectral_isomap_pca.plot.bar()"
   ]
  },
  {
   "cell_type": "code",
   "execution_count": 21,
   "metadata": {},
   "outputs": [],
   "source": [
    "# Fill the frames below with the data from the previous PCA and Isomap frames\n",
    "\n",
    "DBI_kmeans_isomap_pca = pd.DataFrame(data={'2': [1.0755912317306053, 1.1699301842870309],\n",
    "                                         '4': [0.846401356061618, 1.208239207816748],\n",
    "                                         '6': [0.8768891716193483, 1.2202171414858125],\n",
    "                                         '8': [0.9279348308375186, 1.4403952127037434],\n",
    "                                         '10': [0.967134582995433, 1.2865848262489616]\n",
    "                                        })\n",
    "\n",
    "slh_kmeans_isomap_pca = pd.DataFrame(data={'2': [0.37962158807768137, 0.3718085844728106], \n",
    "                                         '4': [0.43587536141438255, 0.4091370967679173],\n",
    "                                         '6': [0.38765041744080414, 0.35177527621939825],\n",
    "                                         '8': [0.3662763355444997, 0.31644338160092383],\n",
    "                                         '10': [0.3450890183901615, 0.3267571450524798]\n",
    "                                        })"
   ]
  },
  {
   "cell_type": "code",
   "execution_count": 22,
   "metadata": {},
   "outputs": [],
   "source": [
    "# transpose the indexes matrices\n",
    "\n",
    "DBI_kmeans_isomap_pca = DBI_kmeans_isomap_pca.T\n",
    "slh_kmeans_isomap_pca = slh_kmeans_isomap_pca.T"
   ]
  },
  {
   "cell_type": "code",
   "execution_count": 23,
   "metadata": {},
   "outputs": [],
   "source": [
    "# rename the columns\n",
    "\n",
    "DBI_kmeans_isomap_pca.columns = ['Isomap', 'PCA']\n",
    "slh_kmeans_isomap_pca.columns = ['Isomap', 'PCA']"
   ]
  },
  {
   "cell_type": "code",
   "execution_count": 24,
   "metadata": {},
   "outputs": [
    {
     "data": {
      "text/plain": [
       "<matplotlib.axes._subplots.AxesSubplot at 0x7f40acba6dd8>"
      ]
     },
     "execution_count": 24,
     "metadata": {},
     "output_type": "execute_result"
    },
    {
     "data": {
      "image/png": "[encoded data removed]",
      "text/plain": [
       "<Figure size 432x288 with 1 Axes>"
      ]
     },
     "metadata": {
      "needs_background": "light"
     },
     "output_type": "display_data"
    }
   ],
   "source": [
    "# plot the double histogram\n",
    "\n",
    "DBI_kmeans_isomap_pca.plot.bar()"
   ]
  },
  {
   "cell_type": "code",
   "execution_count": 25,
   "metadata": {},
   "outputs": [
    {
     "data": {
      "text/plain": [
       "<matplotlib.axes._subplots.AxesSubplot at 0x7f40acb20e48>"
      ]
     },
     "execution_count": 25,
     "metadata": {},
     "output_type": "execute_result"
    },
    {
     "data": {
      "image/png": "[encoded data removed]",
      "text/plain": [
       "<Figure size 432x288 with 1 Axes>"
      ]
     },
     "metadata": {
      "needs_background": "light"
     },
     "output_type": "display_data"
    }
   ],
   "source": [
    "# plot the double histogram\n",
    "\n",
    "slh_kmeans_isomap_pca.plot.bar()"
   ]
  },
  {
   "cell_type": "code",
   "execution_count": null,
   "metadata": {},
   "outputs": [],
   "source": []
  }
 ],
 "metadata": {
  "kernelspec": {
   "display_name": "Python 3",
   "language": "python",
   "name": "python3"
  },
  "language_info": {
   "codemirror_mode": {
    "name": "ipython",
    "version": 3
   },
   "file_extension": ".py",
   "mimetype": "text/x-python",
   "name": "python",
   "nbconvert_exporter": "python",
   "pygments_lexer": "ipython3",
   "version": "3.7.3"
  }
 },
 "nbformat": 4,
 "nbformat_minor": 4
}
