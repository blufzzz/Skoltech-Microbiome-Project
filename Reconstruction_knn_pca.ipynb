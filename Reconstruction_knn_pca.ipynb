{
 "cells": [
  {
   "cell_type": "code",
   "execution_count": 1,
   "metadata": {},
   "outputs": [],
   "source": [
    "import pandas as pd\n",
    "from sklearn.decomposition import PCA\n",
    "\n",
    "import numpy as np\n",
    "\n",
    "from numpy import genfromtxt\n",
    "from numpy import linalg as LA\n",
    "\n",
    "import warnings\n",
    "warnings.filterwarnings('ignore')\n",
    "\n",
    "\n",
    "from mpl_toolkits import mplot3d\n",
    "\n",
    "%matplotlib inline\n",
    "import matplotlib.pyplot as plt"
   ]
  },
  {
   "cell_type": "code",
   "execution_count": 2,
   "metadata": {},
   "outputs": [],
   "source": [
    "# read the pivot tables data\n",
    "\n",
    "df_o = pd.read_csv('pivot_o.csv', skipinitialspace=True, sep=';', engine='python')\n",
    "df_f = pd.read_csv('pivot_f.csv', skipinitialspace=True, sep=';', engine='python')\n",
    "df_g = pd.read_csv('pivot_g.csv', skipinitialspace=True, sep=';', engine='python')"
   ]
  },
  {
   "cell_type": "code",
   "execution_count": 3,
   "metadata": {},
   "outputs": [
    {
     "data": {
      "text/html": [
       "<div>\n",
       "<style scoped>\n",
       "    .dataframe tbody tr th:only-of-type {\n",
       "        vertical-align: middle;\n",
       "    }\n",
       "\n",
       "    .dataframe tbody tr th {\n",
       "        vertical-align: top;\n",
       "    }\n",
       "\n",
       "    .dataframe thead th {\n",
       "        text-align: right;\n",
       "    }\n",
       "</style>\n",
       "<table border=\"1\" class=\"dataframe\">\n",
       "  <thead>\n",
       "    <tr style=\"text-align: right;\">\n",
       "      <th></th>\n",
       "      <th>Unnamed: 0</th>\n",
       "      <th>o__</th>\n",
       "      <th>o__Acidimicrobiales</th>\n",
       "      <th>o__Acidobacteriales</th>\n",
       "      <th>o__Actinomycetales</th>\n",
       "      <th>o__Aeromonadales</th>\n",
       "      <th>o__Alteromonadales</th>\n",
       "      <th>o__Anaeroplasmatales</th>\n",
       "      <th>o__Aquificales</th>\n",
       "      <th>o__Bacillales</th>\n",
       "      <th>...</th>\n",
       "      <th>o__SBla14</th>\n",
       "      <th>o__Sphaerochaetales</th>\n",
       "      <th>o__Spirobacillales</th>\n",
       "      <th>o__Sva0725</th>\n",
       "      <th>o__Thermoanaerobacterales</th>\n",
       "      <th>o__Thermogemmatisporales</th>\n",
       "      <th>o__Thiohalorhabdales</th>\n",
       "      <th>o__YLA114</th>\n",
       "      <th>o__Z20</th>\n",
       "      <th>o__mle1-48</th>\n",
       "    </tr>\n",
       "  </thead>\n",
       "  <tbody>\n",
       "    <tr>\n",
       "      <td>0</td>\n",
       "      <td>10317.000052344</td>\n",
       "      <td>0.0</td>\n",
       "      <td>0.0</td>\n",
       "      <td>0.0</td>\n",
       "      <td>0.001334</td>\n",
       "      <td>0.0</td>\n",
       "      <td>0.0</td>\n",
       "      <td>0.0</td>\n",
       "      <td>0.0</td>\n",
       "      <td>0.000140</td>\n",
       "      <td>...</td>\n",
       "      <td>0.0</td>\n",
       "      <td>0.0</td>\n",
       "      <td>0.0</td>\n",
       "      <td>0.0</td>\n",
       "      <td>0.0</td>\n",
       "      <td>0.0</td>\n",
       "      <td>0.0</td>\n",
       "      <td>0.0</td>\n",
       "      <td>0.0</td>\n",
       "      <td>0.0</td>\n",
       "    </tr>\n",
       "    <tr>\n",
       "      <td>1</td>\n",
       "      <td>10317.000052366</td>\n",
       "      <td>0.0</td>\n",
       "      <td>0.0</td>\n",
       "      <td>0.0</td>\n",
       "      <td>0.007542</td>\n",
       "      <td>0.0</td>\n",
       "      <td>0.0</td>\n",
       "      <td>0.0</td>\n",
       "      <td>0.0</td>\n",
       "      <td>0.001019</td>\n",
       "      <td>...</td>\n",
       "      <td>0.0</td>\n",
       "      <td>0.0</td>\n",
       "      <td>0.0</td>\n",
       "      <td>0.0</td>\n",
       "      <td>0.0</td>\n",
       "      <td>0.0</td>\n",
       "      <td>0.0</td>\n",
       "      <td>0.0</td>\n",
       "      <td>0.0</td>\n",
       "      <td>0.0</td>\n",
       "    </tr>\n",
       "    <tr>\n",
       "      <td>2</td>\n",
       "      <td>10317.000052369</td>\n",
       "      <td>0.0</td>\n",
       "      <td>0.0</td>\n",
       "      <td>0.0</td>\n",
       "      <td>0.000838</td>\n",
       "      <td>0.0</td>\n",
       "      <td>0.0</td>\n",
       "      <td>0.0</td>\n",
       "      <td>0.0</td>\n",
       "      <td>0.000000</td>\n",
       "      <td>...</td>\n",
       "      <td>0.0</td>\n",
       "      <td>0.0</td>\n",
       "      <td>0.0</td>\n",
       "      <td>0.0</td>\n",
       "      <td>0.0</td>\n",
       "      <td>0.0</td>\n",
       "      <td>0.0</td>\n",
       "      <td>0.0</td>\n",
       "      <td>0.0</td>\n",
       "      <td>0.0</td>\n",
       "    </tr>\n",
       "    <tr>\n",
       "      <td>3</td>\n",
       "      <td>10317.00005237</td>\n",
       "      <td>0.0</td>\n",
       "      <td>0.0</td>\n",
       "      <td>0.0</td>\n",
       "      <td>0.000000</td>\n",
       "      <td>0.0</td>\n",
       "      <td>0.0</td>\n",
       "      <td>0.0</td>\n",
       "      <td>0.0</td>\n",
       "      <td>0.000000</td>\n",
       "      <td>...</td>\n",
       "      <td>0.0</td>\n",
       "      <td>0.0</td>\n",
       "      <td>0.0</td>\n",
       "      <td>0.0</td>\n",
       "      <td>0.0</td>\n",
       "      <td>0.0</td>\n",
       "      <td>0.0</td>\n",
       "      <td>0.0</td>\n",
       "      <td>0.0</td>\n",
       "      <td>0.0</td>\n",
       "    </tr>\n",
       "    <tr>\n",
       "      <td>4</td>\n",
       "      <td>10317.000052372</td>\n",
       "      <td>0.0</td>\n",
       "      <td>0.0</td>\n",
       "      <td>0.0</td>\n",
       "      <td>0.000693</td>\n",
       "      <td>0.0</td>\n",
       "      <td>0.0</td>\n",
       "      <td>0.0</td>\n",
       "      <td>0.0</td>\n",
       "      <td>0.000000</td>\n",
       "      <td>...</td>\n",
       "      <td>0.0</td>\n",
       "      <td>0.0</td>\n",
       "      <td>0.0</td>\n",
       "      <td>0.0</td>\n",
       "      <td>0.0</td>\n",
       "      <td>0.0</td>\n",
       "      <td>0.0</td>\n",
       "      <td>0.0</td>\n",
       "      <td>0.0</td>\n",
       "      <td>0.0</td>\n",
       "    </tr>\n",
       "    <tr>\n",
       "      <td>...</td>\n",
       "      <td>...</td>\n",
       "      <td>...</td>\n",
       "      <td>...</td>\n",
       "      <td>...</td>\n",
       "      <td>...</td>\n",
       "      <td>...</td>\n",
       "      <td>...</td>\n",
       "      <td>...</td>\n",
       "      <td>...</td>\n",
       "      <td>...</td>\n",
       "      <td>...</td>\n",
       "      <td>...</td>\n",
       "      <td>...</td>\n",
       "      <td>...</td>\n",
       "      <td>...</td>\n",
       "      <td>...</td>\n",
       "      <td>...</td>\n",
       "      <td>...</td>\n",
       "      <td>...</td>\n",
       "      <td>...</td>\n",
       "      <td>...</td>\n",
       "    </tr>\n",
       "    <tr>\n",
       "      <td>14093</td>\n",
       "      <td>MSM5LLIO</td>\n",
       "      <td>0.0</td>\n",
       "      <td>0.0</td>\n",
       "      <td>0.0</td>\n",
       "      <td>0.000000</td>\n",
       "      <td>0.0</td>\n",
       "      <td>0.0</td>\n",
       "      <td>0.0</td>\n",
       "      <td>0.0</td>\n",
       "      <td>0.000000</td>\n",
       "      <td>...</td>\n",
       "      <td>0.0</td>\n",
       "      <td>0.0</td>\n",
       "      <td>0.0</td>\n",
       "      <td>0.0</td>\n",
       "      <td>0.0</td>\n",
       "      <td>0.0</td>\n",
       "      <td>0.0</td>\n",
       "      <td>0.0</td>\n",
       "      <td>0.0</td>\n",
       "      <td>0.0</td>\n",
       "    </tr>\n",
       "    <tr>\n",
       "      <td>14094</td>\n",
       "      <td>MSM5LLIQ</td>\n",
       "      <td>0.0</td>\n",
       "      <td>0.0</td>\n",
       "      <td>0.0</td>\n",
       "      <td>0.000000</td>\n",
       "      <td>0.0</td>\n",
       "      <td>0.0</td>\n",
       "      <td>0.0</td>\n",
       "      <td>0.0</td>\n",
       "      <td>0.000286</td>\n",
       "      <td>...</td>\n",
       "      <td>0.0</td>\n",
       "      <td>0.0</td>\n",
       "      <td>0.0</td>\n",
       "      <td>0.0</td>\n",
       "      <td>0.0</td>\n",
       "      <td>0.0</td>\n",
       "      <td>0.0</td>\n",
       "      <td>0.0</td>\n",
       "      <td>0.0</td>\n",
       "      <td>0.0</td>\n",
       "    </tr>\n",
       "    <tr>\n",
       "      <td>14095</td>\n",
       "      <td>MSM5ZOJY</td>\n",
       "      <td>0.0</td>\n",
       "      <td>0.0</td>\n",
       "      <td>0.0</td>\n",
       "      <td>0.000000</td>\n",
       "      <td>0.0</td>\n",
       "      <td>0.0</td>\n",
       "      <td>0.0</td>\n",
       "      <td>0.0</td>\n",
       "      <td>0.000000</td>\n",
       "      <td>...</td>\n",
       "      <td>0.0</td>\n",
       "      <td>0.0</td>\n",
       "      <td>0.0</td>\n",
       "      <td>0.0</td>\n",
       "      <td>0.0</td>\n",
       "      <td>0.0</td>\n",
       "      <td>0.0</td>\n",
       "      <td>0.0</td>\n",
       "      <td>0.0</td>\n",
       "      <td>0.0</td>\n",
       "    </tr>\n",
       "    <tr>\n",
       "      <td>14096</td>\n",
       "      <td>MSM633FF</td>\n",
       "      <td>0.0</td>\n",
       "      <td>0.0</td>\n",
       "      <td>0.0</td>\n",
       "      <td>0.000930</td>\n",
       "      <td>0.0</td>\n",
       "      <td>0.0</td>\n",
       "      <td>0.0</td>\n",
       "      <td>0.0</td>\n",
       "      <td>0.000000</td>\n",
       "      <td>...</td>\n",
       "      <td>0.0</td>\n",
       "      <td>0.0</td>\n",
       "      <td>0.0</td>\n",
       "      <td>0.0</td>\n",
       "      <td>0.0</td>\n",
       "      <td>0.0</td>\n",
       "      <td>0.0</td>\n",
       "      <td>0.0</td>\n",
       "      <td>0.0</td>\n",
       "      <td>0.0</td>\n",
       "    </tr>\n",
       "    <tr>\n",
       "      <td>14097</td>\n",
       "      <td>otu_table</td>\n",
       "      <td>0.0</td>\n",
       "      <td>0.0</td>\n",
       "      <td>0.0</td>\n",
       "      <td>0.000023</td>\n",
       "      <td>0.0</td>\n",
       "      <td>0.0</td>\n",
       "      <td>0.0</td>\n",
       "      <td>0.0</td>\n",
       "      <td>0.000000</td>\n",
       "      <td>...</td>\n",
       "      <td>0.0</td>\n",
       "      <td>0.0</td>\n",
       "      <td>0.0</td>\n",
       "      <td>0.0</td>\n",
       "      <td>0.0</td>\n",
       "      <td>0.0</td>\n",
       "      <td>0.0</td>\n",
       "      <td>0.0</td>\n",
       "      <td>0.0</td>\n",
       "      <td>0.0</td>\n",
       "    </tr>\n",
       "  </tbody>\n",
       "</table>\n",
       "<p>14098 rows × 180 columns</p>\n",
       "</div>"
      ],
      "text/plain": [
       "            Unnamed: 0  o__  o__Acidimicrobiales  o__Acidobacteriales  \\\n",
       "0      10317.000052344  0.0                  0.0                  0.0   \n",
       "1      10317.000052366  0.0                  0.0                  0.0   \n",
       "2      10317.000052369  0.0                  0.0                  0.0   \n",
       "3       10317.00005237  0.0                  0.0                  0.0   \n",
       "4      10317.000052372  0.0                  0.0                  0.0   \n",
       "...                ...  ...                  ...                  ...   \n",
       "14093         MSM5LLIO  0.0                  0.0                  0.0   \n",
       "14094         MSM5LLIQ  0.0                  0.0                  0.0   \n",
       "14095         MSM5ZOJY  0.0                  0.0                  0.0   \n",
       "14096         MSM633FF  0.0                  0.0                  0.0   \n",
       "14097        otu_table  0.0                  0.0                  0.0   \n",
       "\n",
       "       o__Actinomycetales  o__Aeromonadales  o__Alteromonadales  \\\n",
       "0                0.001334               0.0                 0.0   \n",
       "1                0.007542               0.0                 0.0   \n",
       "2                0.000838               0.0                 0.0   \n",
       "3                0.000000               0.0                 0.0   \n",
       "4                0.000693               0.0                 0.0   \n",
       "...                   ...               ...                 ...   \n",
       "14093            0.000000               0.0                 0.0   \n",
       "14094            0.000000               0.0                 0.0   \n",
       "14095            0.000000               0.0                 0.0   \n",
       "14096            0.000930               0.0                 0.0   \n",
       "14097            0.000023               0.0                 0.0   \n",
       "\n",
       "       o__Anaeroplasmatales  o__Aquificales  o__Bacillales  ...  o__SBla14  \\\n",
       "0                       0.0             0.0       0.000140  ...        0.0   \n",
       "1                       0.0             0.0       0.001019  ...        0.0   \n",
       "2                       0.0             0.0       0.000000  ...        0.0   \n",
       "3                       0.0             0.0       0.000000  ...        0.0   \n",
       "4                       0.0             0.0       0.000000  ...        0.0   \n",
       "...                     ...             ...            ...  ...        ...   \n",
       "14093                   0.0             0.0       0.000000  ...        0.0   \n",
       "14094                   0.0             0.0       0.000286  ...        0.0   \n",
       "14095                   0.0             0.0       0.000000  ...        0.0   \n",
       "14096                   0.0             0.0       0.000000  ...        0.0   \n",
       "14097                   0.0             0.0       0.000000  ...        0.0   \n",
       "\n",
       "       o__Sphaerochaetales  o__Spirobacillales  o__Sva0725  \\\n",
       "0                      0.0                 0.0         0.0   \n",
       "1                      0.0                 0.0         0.0   \n",
       "2                      0.0                 0.0         0.0   \n",
       "3                      0.0                 0.0         0.0   \n",
       "4                      0.0                 0.0         0.0   \n",
       "...                    ...                 ...         ...   \n",
       "14093                  0.0                 0.0         0.0   \n",
       "14094                  0.0                 0.0         0.0   \n",
       "14095                  0.0                 0.0         0.0   \n",
       "14096                  0.0                 0.0         0.0   \n",
       "14097                  0.0                 0.0         0.0   \n",
       "\n",
       "       o__Thermoanaerobacterales  o__Thermogemmatisporales  \\\n",
       "0                            0.0                       0.0   \n",
       "1                            0.0                       0.0   \n",
       "2                            0.0                       0.0   \n",
       "3                            0.0                       0.0   \n",
       "4                            0.0                       0.0   \n",
       "...                          ...                       ...   \n",
       "14093                        0.0                       0.0   \n",
       "14094                        0.0                       0.0   \n",
       "14095                        0.0                       0.0   \n",
       "14096                        0.0                       0.0   \n",
       "14097                        0.0                       0.0   \n",
       "\n",
       "       o__Thiohalorhabdales  o__YLA114  o__Z20  o__mle1-48  \n",
       "0                       0.0        0.0     0.0         0.0  \n",
       "1                       0.0        0.0     0.0         0.0  \n",
       "2                       0.0        0.0     0.0         0.0  \n",
       "3                       0.0        0.0     0.0         0.0  \n",
       "4                       0.0        0.0     0.0         0.0  \n",
       "...                     ...        ...     ...         ...  \n",
       "14093                   0.0        0.0     0.0         0.0  \n",
       "14094                   0.0        0.0     0.0         0.0  \n",
       "14095                   0.0        0.0     0.0         0.0  \n",
       "14096                   0.0        0.0     0.0         0.0  \n",
       "14097                   0.0        0.0     0.0         0.0  \n",
       "\n",
       "[14098 rows x 180 columns]"
      ]
     },
     "execution_count": 3,
     "metadata": {},
     "output_type": "execute_result"
    }
   ],
   "source": [
    "df_o"
   ]
  },
  {
   "cell_type": "code",
   "execution_count": 4,
   "metadata": {},
   "outputs": [],
   "source": [
    "# drop the names of the samples\n",
    "\n",
    "data_o = df_o.drop('Unnamed: 0', axis = 1)\n",
    "data_f = df_f.drop('Unnamed: 0', axis = 1)\n",
    "data_g = df_g.drop('Unnamed: 0', axis = 1)"
   ]
  },
  {
   "cell_type": "code",
   "execution_count": 5,
   "metadata": {},
   "outputs": [
    {
     "data": {
      "text/plain": [
       "(14098, 179)"
      ]
     },
     "execution_count": 5,
     "metadata": {},
     "output_type": "execute_result"
    }
   ],
   "source": [
    "data_o.shape"
   ]
  },
  {
   "cell_type": "code",
   "execution_count": 6,
   "metadata": {},
   "outputs": [],
   "source": [
    "# evaluate PCA - this was already calculated and stored to proj*.csv files, but we need it to calculate the inverse\n",
    "pca = PCA(n_components=20)\n",
    "pca.fit(data_o)\n",
    "\n",
    "eigenvectors_o = pca.components_\n",
    "eigenvalues_o = pca.explained_variance_"
   ]
  },
  {
   "cell_type": "code",
   "execution_count": 9,
   "metadata": {},
   "outputs": [],
   "source": [
    "# perform PCA transformation\n",
    "pca_o = pca.fit_transform(data_o)"
   ]
  },
  {
   "cell_type": "code",
   "execution_count": 10,
   "metadata": {},
   "outputs": [],
   "source": [
    "# paths with the isomap reconstructed data\n",
    "\n",
    "paths = [\n",
    "    \"./proj_o.csv\"\n",
    "]\n",
    "\n",
    "for num in range(1,11) :\n",
    "    name = \"isomap_o_dim\" + str(num) + \"_reconstructed_pca.csv\"\n",
    "    paths.append(name)"
   ]
  },
  {
   "cell_type": "code",
   "execution_count": 11,
   "metadata": {},
   "outputs": [
    {
     "data": {
      "text/plain": [
       "['./proj_o.csv',\n",
       " 'isomap_o_dim1_reconstructed_pca.csv',\n",
       " 'isomap_o_dim2_reconstructed_pca.csv',\n",
       " 'isomap_o_dim3_reconstructed_pca.csv',\n",
       " 'isomap_o_dim4_reconstructed_pca.csv',\n",
       " 'isomap_o_dim5_reconstructed_pca.csv',\n",
       " 'isomap_o_dim6_reconstructed_pca.csv',\n",
       " 'isomap_o_dim7_reconstructed_pca.csv',\n",
       " 'isomap_o_dim8_reconstructed_pca.csv',\n",
       " 'isomap_o_dim9_reconstructed_pca.csv',\n",
       " 'isomap_o_dim10_reconstructed_pca.csv']"
      ]
     },
     "execution_count": 11,
     "metadata": {},
     "output_type": "execute_result"
    }
   ],
   "source": [
    "paths"
   ]
  },
  {
   "cell_type": "code",
   "execution_count": 12,
   "metadata": {},
   "outputs": [],
   "source": [
    "# read the isomap reconstructed data\n",
    "\n",
    "datasets = [np.genfromtxt(path, delimiter=';') for path in paths]"
   ]
  },
  {
   "cell_type": "code",
   "execution_count": 13,
   "metadata": {},
   "outputs": [],
   "source": [
    "PCA_o = datasets[0]"
   ]
  },
  {
   "cell_type": "code",
   "execution_count": 14,
   "metadata": {},
   "outputs": [
    {
     "name": "stdout",
     "output_type": "stream",
     "text": [
      "(14098, 20)\n"
     ]
    }
   ],
   "source": [
    "print(PCA_o.shape)"
   ]
  },
  {
   "cell_type": "markdown",
   "metadata": {},
   "source": [
    "# Repeat the fragment below for all reconstructed isomap datasets"
   ]
  },
  {
   "cell_type": "code",
   "execution_count": 24,
   "metadata": {},
   "outputs": [
    {
     "data": {
      "application/vnd.jupyter.widget-view+json": {
       "model_id": "0d73afbefa684dada6d85af6bd8d8dd5",
       "version_major": 2,
       "version_minor": 0
      },
      "text/plain": [
       "HBox(children=(IntProgress(value=0, max=10), HTML(value='')))"
      ]
     },
     "metadata": {},
     "output_type": "display_data"
    },
    {
     "name": "stdout",
     "output_type": "stream",
     "text": [
      "\n"
     ]
    }
   ],
   "source": [
    "from tqdm import tqdm_notebook\n",
    "errors = []\n",
    "for dataset in tqdm_notebook(datasets[1:]):\n",
    "    # perform the inverse. Change the index at every iteration\n",
    "    inverse = pca.inverse_transform(dataset)\n",
    "    # calculate the mean average error as the differences divided by the sample values (see the report)\n",
    "    diff = data_o.values - inverse\n",
    "    abs_diff = np.apply_along_axis(np.linalg.norm, 1, diff, ord=2)\n",
    "    abs_true = np.apply_along_axis(np.linalg.norm, 1, df_o.values[:, 1:], ord=2)\n",
    "    #max_ = max(abs_true)\n",
    "    #min_ = min(abs_true)\n",
    "    mae = np.mean(abs_diff/abs_true)\n",
    "    # add new error to the list\n",
    "    errors.append(mae)"
   ]
  },
  {
   "cell_type": "code",
   "execution_count": 25,
   "metadata": {},
   "outputs": [
    {
     "data": {
      "text/plain": [
       "[0.3052302744628466,\n",
       " 0.06599741805146314,\n",
       " 0.054121203790859926,\n",
       " 0.044817990743954414,\n",
       " 0.042251666841409026,\n",
       " 0.04057870909054359,\n",
       " 0.03970612513230103,\n",
       " 0.03883152615816031,\n",
       " 0.03823596248976385,\n",
       " 0.038244580445901254]"
      ]
     },
     "execution_count": 25,
     "metadata": {},
     "output_type": "execute_result"
    }
   ],
   "source": [
    "errors"
   ]
  },
  {
   "cell_type": "code",
   "execution_count": 128,
   "metadata": {},
   "outputs": [
    {
     "data": {
      "text/plain": [
       "[0.30523027442050654,\n",
       " 0.06599741346040792,\n",
       " 0.05412119892860435,\n",
       " 0.04481798578445261,\n",
       " 0.04225166166322751,\n",
       " 0.04057870391357813,\n",
       " 0.03970612003168245,\n",
       " 0.03883152120483207,\n",
       " 0.03823595740417444,\n",
       " 0.038244575579438764]"
      ]
     },
     "execution_count": 128,
     "metadata": {},
     "output_type": "execute_result"
    }
   ],
   "source": [
    "errors"
   ]
  },
  {
   "cell_type": "markdown",
   "metadata": {},
   "source": [
    "# Fragment ended"
   ]
  },
  {
   "cell_type": "code",
   "execution_count": 26,
   "metadata": {},
   "outputs": [],
   "source": [
    "x = np.linspace(1, 10, 10,endpoint=True)"
   ]
  },
  {
   "cell_type": "code",
   "execution_count": 27,
   "metadata": {},
   "outputs": [],
   "source": [
    "y = np.take(errors, range(0,10))"
   ]
  },
  {
   "cell_type": "code",
   "execution_count": 28,
   "metadata": {},
   "outputs": [
    {
     "data": {
      "text/plain": [
       "[<matplotlib.lines.Line2D at 0x7f296ba74048>]"
      ]
     },
     "execution_count": 28,
     "metadata": {},
     "output_type": "execute_result"
    },
    {
     "data": {
      "image/png": "[encoded data removed]",
      "text/plain": [
       "<Figure size 432x288 with 1 Axes>"
      ]
     },
     "metadata": {
      "needs_background": "light"
     },
     "output_type": "display_data"
    }
   ],
   "source": [
    "# plotting the errors\n",
    "\n",
    "plt.plot(x, y, '-ok')"
   ]
  },
  {
   "cell_type": "code",
   "execution_count": null,
   "metadata": {},
   "outputs": [],
   "source": []
  }
 ],
 "metadata": {
  "kernelspec": {
   "display_name": "Python 3",
   "language": "python",
   "name": "python3"
  },
  "language_info": {
   "codemirror_mode": {
    "name": "ipython",
    "version": 3
   },
   "file_extension": ".py",
   "mimetype": "text/x-python",
   "name": "python",
   "nbconvert_exporter": "python",
   "pygments_lexer": "ipython3",
   "version": "3.6.9"
  }
 },
 "nbformat": 4,
 "nbformat_minor": 4
}
