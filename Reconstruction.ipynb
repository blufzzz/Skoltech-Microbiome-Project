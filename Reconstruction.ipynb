{
 "cells": [
  {
   "cell_type": "code",
   "execution_count": 1,
   "metadata": {},
   "outputs": [],
   "source": [
    "import numpy as np\n",
    "import pandas as pd  \n",
    "import random as rnd\n",
    "import math\n",
    "import os\n",
    "import glob\n",
    "from sklearn.kernel_ridge import KernelRidge\n",
    "from sklearn.linear_model import LinearRegression\n",
    "from sklearn.neighbors import KNeighborsRegressor\n",
    "from sklearn.base import BaseEstimator\n",
    "from sklearn.metrics import make_scorer, r2_score\n",
    "from sklearn.svm import SVR\n",
    "from sklearn.ensemble import RandomForestRegressor\n",
    "from sklearn.pipeline import make_pipeline\n",
    "from sklearn.preprocessing import StandardScaler\n",
    "from sklearn.multioutput import MultiOutputRegressor\n",
    "from sklearn.model_selection import GridSearchCV\n",
    "from sklearn.manifold import Isomap, LocallyLinearEmbedding, TSNE\n",
    "from sklearn.decomposition import PCA\n",
    "from IPython.display import display, HTML\n",
    "from sklearn.model_selection import cross_val_score, cross_validate, KFold\n",
    "from tqdm import tqdm_notebook\n",
    "from collections import defaultdict\n",
    "%matplotlib inline\n",
    "import matplotlib.pyplot as plt\n",
    "\n",
    "from utils import project"
   ]
  },
  {
   "cell_type": "code",
   "execution_count": 2,
   "metadata": {},
   "outputs": [],
   "source": [
    "def cross_val_score_custom(est, X_mf, X_pca, X_orig, scoring, cv):\n",
    "    scoring_list = []\n",
    "    kfold = KFold(n_splits=cv, shuffle=True, random_state=42)\n",
    "    for train_index, test_index in kfold.split(X_mf):\n",
    "        X_mf_train = X_mf[train_index]\n",
    "        X_pca_train = X_pca[train_index]\n",
    "        \n",
    "        X_mf_test = X_mf[test_index]\n",
    "        X_orig_test = X_orig[test_index]\n",
    "        \n",
    "        est.fit(X_mf_train, X_pca_train)\n",
    "        X_orig_test_pred = est.predict(X_mf_test)\n",
    "        \n",
    "        scoring_list.append(scoring(X_orig_test, X_orig_test_pred))\n",
    "    return np.array(scoring_list)"
   ]
  },
  {
   "cell_type": "code",
   "execution_count": 3,
   "metadata": {},
   "outputs": [],
   "source": [
    "class MF2PCA2ORIG(BaseEstimator):\n",
    "    def __init__(self, pca_module, mo_regressor):\n",
    "        super(MF2PCA2ORIG, self).__init__()\n",
    "        self.pca = pca_module\n",
    "        self.mo_regressor = mo_regressor\n",
    "        \n",
    "    def fit(self, X,y):\n",
    "        self.mo_regressor.fit(X,y)\n",
    "        return self\n",
    "        \n",
    "    def predict(self, X):\n",
    "        y_pred = self.mo_regressor.predict(X)\n",
    "        return self.pca.inverse_transform(y_pred)"
   ]
  },
  {
   "cell_type": "code",
   "execution_count": 4,
   "metadata": {},
   "outputs": [],
   "source": [
    "# paths to the databases containing the PCA and Isomap projections \n",
    "root_pca = './separate_datasets_data'\n",
    "paths = [os.path.join(root_pca,path) for path in os.listdir(root_pca)]\n",
    "paths_pca = list(filter(lambda x: 'err' not in x.split(\"/\")[-1].split(\".\")[0].split('_'), paths))\n",
    "paths_mf_lle = list(filter(lambda x: 'lle' in x.split(\"/\")[-1].split(\".\")[0].split('_'), paths))\n",
    "paths_mf_isomap = list(filter(lambda x: 'isomap' in x.split(\"/\")[-1].split(\".\")[0].split('_'), paths))"
   ]
  },
  {
   "cell_type": "code",
   "execution_count": 5,
   "metadata": {},
   "outputs": [],
   "source": [
    "def mae_score(y, y_pred):\n",
    "    return np.linalg.norm(y_pred - y, axis=1, ord=1).mean() / np.linalg.norm(y, axis=1, ord=1).mean()\n",
    "\n",
    "scorer = make_scorer(r2_score, greater_is_better=True)\n",
    "scorer_mae = make_scorer(mae_score, greater_is_better=False)"
   ]
  },
  {
   "cell_type": "code",
   "execution_count": 6,
   "metadata": {},
   "outputs": [],
   "source": [
    "knn = KNeighborsRegressor(n_neighbors=12, weights='distance')\n",
    "mo_knn = MultiOutputRegressor(knn)"
   ]
  },
  {
   "cell_type": "code",
   "execution_count": null,
   "metadata": {},
   "outputs": [
    {
     "data": {
      "application/vnd.jupyter.widget-view+json": {
       "model_id": "eab6e44615cb487e9294277cd7d555a9",
       "version_major": 2,
       "version_minor": 0
      },
      "text/plain": [
       "HBox(children=(IntProgress(value=0, max=4), HTML(value='')))"
      ]
     },
     "metadata": {},
     "output_type": "display_data"
    },
    {
     "name": "stdout",
     "output_type": "stream",
     "text": [
      "DATASET: AGP, TAX: o\n"
     ]
    },
    {
     "data": {
      "application/vnd.jupyter.widget-view+json": {
       "model_id": "9f2a5ea2908d4b6ebe625282e98d6c82",
       "version_major": 2,
       "version_minor": 0
      },
      "text/plain": [
       "HBox(children=(IntProgress(value=0, max=4), HTML(value='')))"
      ]
     },
     "metadata": {},
     "output_type": "display_data"
    },
    {
     "name": "stdout",
     "output_type": "stream",
     "text": [
      "\n",
      "DATASET: AGP, TAX: f\n"
     ]
    },
    {
     "data": {
      "application/vnd.jupyter.widget-view+json": {
       "model_id": "fb9357964eb34463ba7c83afb6bd4910",
       "version_major": 2,
       "version_minor": 0
      },
      "text/plain": [
       "HBox(children=(IntProgress(value=0, max=9), HTML(value='')))"
      ]
     },
     "metadata": {},
     "output_type": "display_data"
    }
   ],
   "source": [
    "res_mf2pca_r2 = defaultdict(list)\n",
    "res_mf2pca_mae = defaultdict(list)\n",
    "\n",
    "res_inv_pca_mae = {}\n",
    "\n",
    "res_mf2pca2orig_r2 = defaultdict(list)\n",
    "res_mf2pca2orig_mae = defaultdict(list)\n",
    "\n",
    "folders = glob.glob('???')\n",
    "for f in tqdm_notebook(folders):\n",
    "    for t in ['o', 'f', 'g']:\n",
    "        print(f'DATASET: {f}, TAX: {t}')\n",
    "        label = f'{f}_proj_{t}'\n",
    "        dataframe = pd.read_csv(f'{f}/pivot_{t}_normalized.csv', skipinitialspace=True, sep=';', engine='python')\n",
    "        dataframe = dataframe.drop('Unnamed: 0', axis = 1)\n",
    "        data = dataframe.values\n",
    "        data_projected, pca = project(data, plot=False)\n",
    "        data_projected_inverse = pca.inverse_transform(data_projected)\n",
    "        \n",
    "        res_inv_pca_mae[label] = mae_score(data_projected_inverse, data)\n",
    "        est_composed = MF2PCA2ORIG(pca, mo_knn)\n",
    "        \n",
    "        dims = np.arange(2,data_projected.shape[1], 4)\n",
    "        \n",
    "        for n in tqdm_notebook(dims):\n",
    "            transformer = Isomap(n_components=n, n_neighbors=12)\n",
    "            dataset_transformed = transformer.fit_transform(data_projected)\n",
    "            \n",
    "            cv_results_r2_mf2pca = cross_val_score(mo_knn, dataset_transformed, data_projected, scoring=scorer, cv=5, n_jobs=-1)\n",
    "            cv_results_mae_mf2pca = cross_val_score(mo_knn, dataset_transformed, data_projected, scoring=scorer_mae, cv=5, n_jobs=-1)\n",
    "            \n",
    "            cv_results_r2_mf2orig = cross_val_score_custom(est_composed, dataset_transformed, data_projected, data, r2_score, cv=5)\n",
    "            cv_results_mae_mf2orig = cross_val_score_custom(est_composed, dataset_transformed, data_projected, data, mae_score, cv=5)\n",
    "\n",
    "            res_mf2pca_r2[label].append(cv_results_r2_mf2pca.mean())\n",
    "            res_mf2pca_mae[label].append(cv_results_mae_mf2pca.mean())\n",
    "            \n",
    "            res_mf2pca2orig_r2[label].append(cv_results_r2_mf2orig.mean()) \n",
    "            res_mf2pca2orig_mae[label].append(cv_results_mae_mf2orig.mean()) \n"
   ]
  }
 ],
 "metadata": {
  "kernelspec": {
   "display_name": "Python 3",
   "language": "python",
   "name": "python3"
  },
  "language_info": {
   "codemirror_mode": {
    "name": "ipython",
    "version": 3
   },
   "file_extension": ".py",
   "mimetype": "text/x-python",
   "name": "python",
   "nbconvert_exporter": "python",
   "pygments_lexer": "ipython3",
   "version": "3.6.9"
  }
 },
 "nbformat": 4,
 "nbformat_minor": 4
}
