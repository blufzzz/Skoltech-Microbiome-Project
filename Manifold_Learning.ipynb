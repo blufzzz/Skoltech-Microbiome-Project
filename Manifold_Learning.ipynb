{
 "cells": [
  {
   "cell_type": "code",
   "execution_count": 35,
   "metadata": {},
   "outputs": [],
   "source": [
    "import numpy as np\n",
    "from sklearn.preprocessing import KernelCenterer\n",
    "import os\n",
    "from sklearn.manifold import Isomap, LocallyLinearEmbedding, SpectralEmbedding\n",
    "from numpy.linalg import multi_dot\n",
    "from tqdm import tqdm_notebook"
   ]
  },
  {
   "cell_type": "code",
   "execution_count": 36,
   "metadata": {},
   "outputs": [],
   "source": [
    "# paths for the pivot tables\n",
    "root = './separate_datasets_data'\n",
    "paths = [os.path.join(root,path) for path in os.listdir(root)]"
   ]
  },
  {
   "cell_type": "code",
   "execution_count": 37,
   "metadata": {},
   "outputs": [],
   "source": [
    "intrinsic_dims = np.load('./intrinsic_dims.npy',allow_pickle=True).item()"
   ]
  },
  {
   "cell_type": "code",
   "execution_count": 38,
   "metadata": {},
   "outputs": [
    {
     "data": {
      "text/plain": [
       "{'./separate_datasets_data/ptb_proj_f.csv': array([5, 6, 7]),\n",
       " './separate_datasets_data/AGP_proj_o.csv': array([4, 5, 6]),\n",
       " './separate_datasets_data/t2d_proj_f.csv': array([4, 5, 6]),\n",
       " './separate_datasets_data/ibd_proj_o.csv': array([2, 3]),\n",
       " './separate_datasets_data/t2d_proj_g.csv': array([4, 5, 6]),\n",
       " './separate_datasets_data/ptb_proj_g.csv': array([5, 6, 7]),\n",
       " './separate_datasets_data/ptb_proj_o.csv': array([4, 5]),\n",
       " './separate_datasets_data/AGP_proj_f.csv': array([6, 7, 8, 9]),\n",
       " './separate_datasets_data/AGP_proj_g.csv': array([7, 8, 9]),\n",
       " './separate_datasets_data/ibd_proj_f.csv': array([3, 4]),\n",
       " './separate_datasets_data/t2d_proj_o.csv': array([2, 3, 4]),\n",
       " './separate_datasets_data/ibd_proj_g.csv': array([2, 3, 4, 5])}"
      ]
     },
     "execution_count": 38,
     "metadata": {},
     "output_type": "execute_result"
    }
   ],
   "source": [
    "intrinsic_dims"
   ]
  },
  {
   "cell_type": "code",
   "execution_count": 42,
   "metadata": {},
   "outputs": [
    {
     "data": {
      "application/vnd.jupyter.widget-view+json": {
       "model_id": "b1ba2bb62e8a4337a148af2cebdb4cbf",
       "version_major": 2,
       "version_minor": 0
      },
      "text/plain": [
       "HBox(children=(IntProgress(value=0, max=12), HTML(value='')))"
      ]
     },
     "metadata": {},
     "output_type": "display_data"
    },
    {
     "name": "stdout",
     "output_type": "stream",
     "text": [
      "For ptb_proj_f, error=0.16562106705139243 in dim=7\n"
     ]
    },
    {
     "name": "stderr",
     "output_type": "stream",
     "text": [
      "/media/hpc2_storage/ibulygin/miniconda3/envs/mvn/lib/python3.6/site-packages/sklearn/manifold/locally_linear.py:450: RuntimeWarning: invalid value encountered in double_scalars\n",
      "  alpha_i = np.linalg.norm(Vi.sum(0)) / np.sqrt(s_i)\n"
     ]
    },
    {
     "name": "stdout",
     "output_type": "stream",
     "text": [
      "For ptb_proj_f, error=0.0041863376550308334 in dim=7\n",
      "For AGP_proj_o, error=0.024573691546237068 in dim=6\n",
      "For AGP_proj_o, error=0.003170976475598393 in dim=6\n",
      "For t2d_proj_f, error=0.02312341605934981 in dim=6\n",
      "For t2d_proj_f, error=0.018389031837088406 in dim=6\n",
      "For ibd_proj_o, error=0.0555115756132815 in dim=3\n",
      "For ibd_proj_o, error=0.012547181158668055 in dim=3\n",
      "For t2d_proj_g, error=0.019646910813791708 in dim=6\n",
      "For t2d_proj_g, error=0.026466949975904146 in dim=6\n",
      "For ptb_proj_g, error=0.10588733805285427 in dim=7\n"
     ]
    },
    {
     "name": "stderr",
     "output_type": "stream",
     "text": [
      "/media/hpc2_storage/ibulygin/miniconda3/envs/mvn/lib/python3.6/site-packages/sklearn/manifold/locally_linear.py:450: RuntimeWarning: invalid value encountered in double_scalars\n",
      "  alpha_i = np.linalg.norm(Vi.sum(0)) / np.sqrt(s_i)\n"
     ]
    },
    {
     "name": "stdout",
     "output_type": "stream",
     "text": [
      "For ptb_proj_g, error=0.004943457715440745 in dim=7\n",
      "For ptb_proj_o, error=0.13624929448609538 in dim=5\n",
      "For ptb_proj_o, error=0.005526263623023174 in dim=5\n",
      "For AGP_proj_f, error=0.04475978060510081 in dim=9\n"
     ]
    },
    {
     "name": "stderr",
     "output_type": "stream",
     "text": [
      "/media/hpc2_storage/ibulygin/miniconda3/envs/mvn/lib/python3.6/site-packages/sklearn/manifold/locally_linear.py:450: RuntimeWarning: invalid value encountered in double_scalars\n",
      "  alpha_i = np.linalg.norm(Vi.sum(0)) / np.sqrt(s_i)\n",
      "/media/hpc2_storage/ibulygin/miniconda3/envs/mvn/lib/python3.6/site-packages/sklearn/manifold/locally_linear.py:450: RuntimeWarning: invalid value encountered in double_scalars\n",
      "  alpha_i = np.linalg.norm(Vi.sum(0)) / np.sqrt(s_i)\n"
     ]
    },
    {
     "name": "stdout",
     "output_type": "stream",
     "text": [
      "For AGP_proj_f, error=-1.5478913159652612e-13 in dim=9\n",
      "For AGP_proj_g, error=0.0420931467084964 in dim=9\n"
     ]
    },
    {
     "name": "stderr",
     "output_type": "stream",
     "text": [
      "/media/hpc2_storage/ibulygin/miniconda3/envs/mvn/lib/python3.6/site-packages/sklearn/manifold/locally_linear.py:450: RuntimeWarning: invalid value encountered in double_scalars\n",
      "  alpha_i = np.linalg.norm(Vi.sum(0)) / np.sqrt(s_i)\n",
      "/media/hpc2_storage/ibulygin/miniconda3/envs/mvn/lib/python3.6/site-packages/sklearn/manifold/locally_linear.py:450: RuntimeWarning: invalid value encountered in double_scalars\n",
      "  alpha_i = np.linalg.norm(Vi.sum(0)) / np.sqrt(s_i)\n"
     ]
    },
    {
     "name": "stdout",
     "output_type": "stream",
     "text": [
      "For AGP_proj_g, error=-1.8722848233514589e-13 in dim=9\n",
      "For ibd_proj_f, error=0.06639933174767507 in dim=4\n",
      "For ibd_proj_f, error=0.028967864555859812 in dim=4\n",
      "For t2d_proj_o, error=0.00972263565498953 in dim=4\n",
      "For t2d_proj_o, error=0.007330093712709308 in dim=4\n",
      "For ibd_proj_g, error=0.0447947161359915 in dim=5\n",
      "For ibd_proj_g, error=0.02077309541024736 in dim=5\n",
      "\n"
     ]
    }
   ],
   "source": [
    "# calculate isomap projections for the different dimensions for O level and store to the csv files\n",
    "mf_models = {'isomap':{'class':Isomap, 'params':{}},\n",
    "            'lle':{'class':LocallyLinearEmbedding, 'params':{'method':\"modified\",\n",
    "                                                         'n_neighbors':10}}}\n",
    "for path in tqdm_notebook(paths):\n",
    "    \n",
    "    d = np.genfromtxt(path, delimiter=';')\n",
    "    k = path.split(\"/\")[-1].split(\".\")[0]\n",
    "    dims = intrinsic_dims[path]\n",
    "    \n",
    "    for mf_type, model in mf_models.items():\n",
    "        errs = []\n",
    "        datasets_trans = []\n",
    "        # choose better dim\n",
    "        for i in dims:\n",
    "            model_class, model_params = model['class'], model['params']\n",
    "            model_inst = model_class(n_components=i, **model_params)\n",
    "            d_trans = model_inst.fit_transform(d)\n",
    "            re = model_inst.reconstruction_error_ if hasattr(model_inst, 'reconstruction_error_') else model_inst.reconstruction_error()\n",
    "\n",
    "            errs.append(re)\n",
    "            datasets_trans.append(d_trans)\n",
    "        \n",
    "        argmin_err = np.argmin(errs)\n",
    "        min_err = errs[argmin_err]\n",
    "        d_trans = datasets_trans[argmin_err]\n",
    "        dim = dims[argmin_err]\n",
    "        name = f\"./separate_datasets_data/{k}_{mf_type}_dim_{dim}_err_{str(round(min_err, 4)).replace('.','-')}.csv\"\n",
    "        np.savetxt(name, d_trans, delimiter=\";\")\n",
    "        print(f\"For {k}, error={re} in dim={i}\")"
   ]
  }
 ],
 "metadata": {
  "kernelspec": {
   "display_name": "Python 3",
   "language": "python",
   "name": "python3"
  },
  "language_info": {
   "codemirror_mode": {
    "name": "ipython",
    "version": 3
   },
   "file_extension": ".py",
   "mimetype": "text/x-python",
   "name": "python",
   "nbconvert_exporter": "python",
   "pygments_lexer": "ipython3",
   "version": "3.6.9"
  }
 },
 "nbformat": 4,
 "nbformat_minor": 4
}
