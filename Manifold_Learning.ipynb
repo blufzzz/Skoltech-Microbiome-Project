{
 "cells": [
  {
   "cell_type": "code",
   "execution_count": 1,
   "metadata": {},
   "outputs": [],
   "source": [
    "import numpy as np\n",
    "from sklearn.preprocessing import KernelCenterer\n",
    "\n",
    "from sklearn.manifold import Isomap, LocallyLinearEmbedding, SpectralEmbedding\n",
    "\n",
    "from numpy.linalg import multi_dot"
   ]
  },
  {
   "cell_type": "code",
   "execution_count": 2,
   "metadata": {},
   "outputs": [],
   "source": [
    "# paths for the pivot tables\n",
    "\n",
    "paths = [\n",
    "    \"./proj_o.csv\",\n",
    "    \"./proj_f.csv\", \n",
    "    \"./proj_g.csv\"\n",
    "]"
   ]
  },
  {
   "cell_type": "code",
   "execution_count": 3,
   "metadata": {},
   "outputs": [],
   "source": [
    "# load the datasets\n",
    "\n",
    "datasets = [np.genfromtxt(path, delimiter=';') for path in paths]"
   ]
  },
  {
   "cell_type": "code",
   "execution_count": 4,
   "metadata": {},
   "outputs": [],
   "source": [
    "PCA_o = datasets[0]\n",
    "PCA_f = datasets[1]\n",
    "PCA_g = datasets[2]"
   ]
  },
  {
   "cell_type": "code",
   "execution_count": 5,
   "metadata": {},
   "outputs": [
    {
     "name": "stdout",
     "output_type": "stream",
     "text": [
      "(14098, 20)\n",
      "(14098, 42)\n",
      "(14098, 68)\n"
     ]
    }
   ],
   "source": [
    "print(PCA_o.shape)\n",
    "print(PCA_f.shape)\n",
    "print(PCA_g.shape)"
   ]
  },
  {
   "cell_type": "code",
   "execution_count": 9,
   "metadata": {},
   "outputs": [
    {
     "name": "stdout",
     "output_type": "stream",
     "text": [
      "error in dim = 1    0.1647266886815087\n",
      "error in dim = 2    0.11046856205284471\n",
      "error in dim = 10    0.046525075184988135\n"
     ]
    }
   ],
   "source": [
    "# calculate isomap projections for the different dimensions for O level and store to the csv files\n",
    "\n",
    "for i in range(1,11) :\n",
    "    model_o = Isomap(n_components=i)\n",
    "    isomap_o = model_o.fit_transform(PCA_o)\n",
    "    name = \"isomap_o_dim\" + str(i) + \".csv\"\n",
    "    np.savetxt(name, isomap_o, delimiter=\";\")\n",
    "    print(\"error in dim =\",i, \"  \", model_o.reconstruction_error())"
   ]
  },
  {
   "cell_type": "code",
   "execution_count": 46,
   "metadata": {},
   "outputs": [
    {
     "data": {
      "text/plain": [
       "(14098, 5)"
      ]
     },
     "execution_count": 46,
     "metadata": {},
     "output_type": "execute_result"
    }
   ],
   "source": [
    "isomap_o.shape"
   ]
  },
  {
   "cell_type": "code",
   "execution_count": 7,
   "metadata": {},
   "outputs": [],
   "source": [
    "#np.savetxt(\"isomap_o_dim5.csv\", isomap_o, delimiter=\";\")"
   ]
  },
  {
   "cell_type": "code",
   "execution_count": 8,
   "metadata": {},
   "outputs": [
    {
     "data": {
      "text/plain": [
       "0.05981062432585108"
      ]
     },
     "execution_count": 8,
     "metadata": {},
     "output_type": "execute_result"
    }
   ],
   "source": [
    "#model_o.reconstruction_error()"
   ]
  },
  {
   "cell_type": "code",
   "execution_count": 9,
   "metadata": {},
   "outputs": [],
   "source": [
    "# calculate isomap projection for the F level taxonomy (copy the code above for more dimensions)\n",
    "\n",
    "model_f = Isomap(n_components=7)\n",
    "isomap_f = model_f.fit_transform(PCA_f)"
   ]
  },
  {
   "cell_type": "code",
   "execution_count": 10,
   "metadata": {},
   "outputs": [
    {
     "data": {
      "text/plain": [
       "(14098, 7)"
      ]
     },
     "execution_count": 10,
     "metadata": {},
     "output_type": "execute_result"
    }
   ],
   "source": [
    "isomap_f.shape"
   ]
  },
  {
   "cell_type": "code",
   "execution_count": 11,
   "metadata": {},
   "outputs": [],
   "source": [
    "# store the projection to a csv file\n",
    "\n",
    "np.savetxt(\"isomap_f.csv\", isomap_f, delimiter=\";\")"
   ]
  },
  {
   "cell_type": "code",
   "execution_count": 12,
   "metadata": {},
   "outputs": [
    {
     "data": {
      "text/plain": [
       "0.09323061067616202"
      ]
     },
     "execution_count": 12,
     "metadata": {},
     "output_type": "execute_result"
    }
   ],
   "source": [
    "model_f.reconstruction_error()"
   ]
  },
  {
   "cell_type": "code",
   "execution_count": 8,
   "metadata": {},
   "outputs": [],
   "source": [
    "# calculate isomap projection for the G level taxonomy (copy the code above for more dimensions)\n",
    "\n",
    "model_g = Isomap(n_components=8)\n",
    "isomap_g = model_g.fit_transform(PCA_g)"
   ]
  },
  {
   "cell_type": "code",
   "execution_count": 9,
   "metadata": {},
   "outputs": [
    {
     "data": {
      "text/plain": [
       "(14098, 8)"
      ]
     },
     "execution_count": 9,
     "metadata": {},
     "output_type": "execute_result"
    }
   ],
   "source": [
    "isomap_g.shape"
   ]
  },
  {
   "cell_type": "code",
   "execution_count": 10,
   "metadata": {},
   "outputs": [],
   "source": [
    "# store the projection to a csv file\n",
    "\n",
    "np.savetxt(\"isomap_g.csv\", isomap_g, delimiter=\";\")"
   ]
  },
  {
   "cell_type": "code",
   "execution_count": 11,
   "metadata": {},
   "outputs": [
    {
     "data": {
      "text/plain": [
       "0.06942087811379469"
      ]
     },
     "execution_count": 11,
     "metadata": {},
     "output_type": "execute_result"
    }
   ],
   "source": [
    "model_g.reconstruction_error()"
   ]
  },
  {
   "cell_type": "code",
   "execution_count": 23,
   "metadata": {},
   "outputs": [],
   "source": [
    "# calculate lle projection for the O level taxonomy (copy the code above for more dimensions and neigh parameters)\n",
    "\n",
    "model_lle_o = LocallyLinearEmbedding(n_components=5, n_neighbors=10)\n",
    "lle_o = model_lle_o.fit_transform(PCA_o)"
   ]
  },
  {
   "cell_type": "code",
   "execution_count": 25,
   "metadata": {},
   "outputs": [
    {
     "data": {
      "text/plain": [
       "(14098, 5)"
      ]
     },
     "execution_count": 25,
     "metadata": {},
     "output_type": "execute_result"
    }
   ],
   "source": [
    "lle_o.shape"
   ]
  },
  {
   "cell_type": "code",
   "execution_count": 26,
   "metadata": {},
   "outputs": [],
   "source": [
    "# store the projection to a csv file\n",
    "\n",
    "np.savetxt(\"lle_o.csv\", lle_o, delimiter=\";\")"
   ]
  },
  {
   "cell_type": "code",
   "execution_count": 24,
   "metadata": {},
   "outputs": [
    {
     "data": {
      "text/plain": [
       "2.30094610712471e-14"
      ]
     },
     "execution_count": 24,
     "metadata": {},
     "output_type": "execute_result"
    }
   ],
   "source": [
    "model_lle_o.reconstruction_error_"
   ]
  },
  {
   "cell_type": "code",
   "execution_count": 31,
   "metadata": {},
   "outputs": [],
   "source": [
    "# calculate lle projection for the F level taxonomy (copy the code above for more dimensions and neigh parameters)\n",
    "\n",
    "model_lle_f = LocallyLinearEmbedding(n_components=7, n_neighbors=10)\n",
    "lle_f = model_lle_f.fit_transform(PCA_f)"
   ]
  },
  {
   "cell_type": "code",
   "execution_count": 33,
   "metadata": {},
   "outputs": [
    {
     "data": {
      "text/plain": [
       "(14098, 7)"
      ]
     },
     "execution_count": 33,
     "metadata": {},
     "output_type": "execute_result"
    }
   ],
   "source": [
    "lle_f.shape"
   ]
  },
  {
   "cell_type": "code",
   "execution_count": 34,
   "metadata": {},
   "outputs": [],
   "source": [
    "# store the projection to a csv file\n",
    "\n",
    "np.savetxt(\"lle_f.csv\", lle_f, delimiter=\";\")"
   ]
  },
  {
   "cell_type": "code",
   "execution_count": 32,
   "metadata": {},
   "outputs": [
    {
     "data": {
      "text/plain": [
       "2.587936401670705e-10"
      ]
     },
     "execution_count": 32,
     "metadata": {},
     "output_type": "execute_result"
    }
   ],
   "source": [
    "model_lle_f.reconstruction_error_"
   ]
  },
  {
   "cell_type": "code",
   "execution_count": 46,
   "metadata": {},
   "outputs": [],
   "source": [
    "# calculate lle projection for the G level taxonomy (copy the code above for more dimensions and neigh parameters)\n",
    "\n",
    "model_lle_g = LocallyLinearEmbedding(n_components=8, n_neighbors=10)\n",
    "lle_g = model_lle_g.fit_transform(PCA_g)"
   ]
  },
  {
   "cell_type": "code",
   "execution_count": 48,
   "metadata": {},
   "outputs": [
    {
     "data": {
      "text/plain": [
       "(14098, 8)"
      ]
     },
     "execution_count": 48,
     "metadata": {},
     "output_type": "execute_result"
    }
   ],
   "source": [
    "lle_g.shape"
   ]
  },
  {
   "cell_type": "code",
   "execution_count": 49,
   "metadata": {},
   "outputs": [],
   "source": [
    "# store the projection to a csv file\n",
    "\n",
    "np.savetxt(\"lle_g.csv\", lle_g, delimiter=\";\")"
   ]
  },
  {
   "cell_type": "code",
   "execution_count": 47,
   "metadata": {},
   "outputs": [
    {
     "data": {
      "text/plain": [
       "3.0035143321909816e-09"
      ]
     },
     "execution_count": 47,
     "metadata": {},
     "output_type": "execute_result"
    }
   ],
   "source": [
    "model_lle_g.reconstruction_error_"
   ]
  },
  {
   "cell_type": "code",
   "execution_count": null,
   "metadata": {},
   "outputs": [],
   "source": []
  },
  {
   "cell_type": "code",
   "execution_count": 64,
   "metadata": {},
   "outputs": [],
   "source": [
    "# calculate lle projection for the O level taxonomy (copy the code above for more dimensions and neigh parameters)\n",
    "\n",
    "model_lle_modified_o = LocallyLinearEmbedding(n_components=5, n_neighbors=10, method=\"modified\")\n",
    "lle_modified_o = model_lle_modified_o.fit_transform(PCA_o)"
   ]
  },
  {
   "cell_type": "code",
   "execution_count": 66,
   "metadata": {},
   "outputs": [
    {
     "data": {
      "text/plain": [
       "(14098, 5)"
      ]
     },
     "execution_count": 66,
     "metadata": {},
     "output_type": "execute_result"
    }
   ],
   "source": [
    "lle_modified_o.shape"
   ]
  },
  {
   "cell_type": "code",
   "execution_count": 67,
   "metadata": {},
   "outputs": [],
   "source": [
    "# store the projection to a csv file\n",
    "\n",
    "np.savetxt(\"lle_modified_o.csv\", lle_modified_o, delimiter=\";\")"
   ]
  },
  {
   "cell_type": "code",
   "execution_count": 65,
   "metadata": {},
   "outputs": [
    {
     "data": {
      "text/plain": [
       "0.0040768636415215095"
      ]
     },
     "execution_count": 65,
     "metadata": {},
     "output_type": "execute_result"
    }
   ],
   "source": [
    "model_lle_modified_o.reconstruction_error_"
   ]
  },
  {
   "cell_type": "code",
   "execution_count": 71,
   "metadata": {},
   "outputs": [],
   "source": [
    "# calculate lle projection for the F level taxonomy (copy the code above for more dimensions and neigh parameters)\n",
    "\n",
    "model_lle_modified_f = LocallyLinearEmbedding(n_components=7, n_neighbors=10, method=\"modified\")\n",
    "lle_modified_f = model_lle_modified_f.fit_transform(PCA_f)"
   ]
  },
  {
   "cell_type": "code",
   "execution_count": 73,
   "metadata": {},
   "outputs": [
    {
     "data": {
      "text/plain": [
       "(14098, 7)"
      ]
     },
     "execution_count": 73,
     "metadata": {},
     "output_type": "execute_result"
    }
   ],
   "source": [
    "lle_modified_f.shape"
   ]
  },
  {
   "cell_type": "code",
   "execution_count": 74,
   "metadata": {},
   "outputs": [],
   "source": [
    "# store the projection to a csv file\n",
    "\n",
    "np.savetxt(\"lle_modified_f.csv\", lle_modified_f, delimiter=\";\")"
   ]
  },
  {
   "cell_type": "code",
   "execution_count": 72,
   "metadata": {},
   "outputs": [
    {
     "data": {
      "text/plain": [
       "0.00448669113681552"
      ]
     },
     "execution_count": 72,
     "metadata": {},
     "output_type": "execute_result"
    }
   ],
   "source": [
    "model_lle_modified_f.reconstruction_error_"
   ]
  },
  {
   "cell_type": "code",
   "execution_count": 82,
   "metadata": {},
   "outputs": [],
   "source": [
    "# calculate lle projection for the G level taxonomy (copy the code above for more dimensions and neigh parameters)\n",
    "\n",
    "model_lle_modified_g = LocallyLinearEmbedding(n_components=8, n_neighbors=11, method=\"modified\")\n",
    "lle_modified_g = model_lle_modified_g.fit_transform(PCA_g)"
   ]
  },
  {
   "cell_type": "code",
   "execution_count": 84,
   "metadata": {},
   "outputs": [
    {
     "data": {
      "text/plain": [
       "(14098, 8)"
      ]
     },
     "execution_count": 84,
     "metadata": {},
     "output_type": "execute_result"
    }
   ],
   "source": [
    "lle_modified_g.shape"
   ]
  },
  {
   "cell_type": "code",
   "execution_count": 85,
   "metadata": {},
   "outputs": [],
   "source": [
    "# store the projection to a csv file\n",
    "\n",
    "np.savetxt(\"lle_modified_g.csv\", lle_modified_g, delimiter=\";\")"
   ]
  },
  {
   "cell_type": "code",
   "execution_count": 83,
   "metadata": {},
   "outputs": [
    {
     "data": {
      "text/plain": [
       "0.006413265061491005"
      ]
     },
     "execution_count": 83,
     "metadata": {},
     "output_type": "execute_result"
    }
   ],
   "source": [
    "model_lle_modified_g.reconstruction_error_"
   ]
  }
 ],
 "metadata": {
  "kernelspec": {
   "display_name": "Python 3",
   "language": "python",
   "name": "python3"
  },
  "language_info": {
   "codemirror_mode": {
    "name": "ipython",
    "version": 3
   },
   "file_extension": ".py",
   "mimetype": "text/x-python",
   "name": "python",
   "nbconvert_exporter": "python",
   "pygments_lexer": "ipython3",
   "version": "3.7.3"
  }
 },
 "nbformat": 4,
 "nbformat_minor": 4
}
