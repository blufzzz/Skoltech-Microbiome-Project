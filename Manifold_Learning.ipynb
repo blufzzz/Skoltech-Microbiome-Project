{
 "cells": [
  {
   "cell_type": "code",
   "execution_count": 1,
   "metadata": {},
   "outputs": [
    {
     "name": "stderr",
     "output_type": "stream",
     "text": [
      "\n",
      "Bad key \"text.kerning_factor\" on line 4 in\n",
      "/media/hpc2_storage/ibulygin/miniconda3/envs/fresh/lib/python3.7/site-packages/matplotlib/mpl-data/stylelib/_classic_test_patch.mplstyle.\n",
      "You probably need to get an updated matplotlibrc file from\n",
      "https://github.com/matplotlib/matplotlib/blob/v3.1.3/matplotlibrc.template\n",
      "or from the matplotlib source distribution\n"
     ]
    }
   ],
   "source": [
    "import numpy as np\n",
    "import os\n",
    "import pandas as pd\n",
    "from sklearn.manifold import Isomap, LocallyLinearEmbedding, SpectralEmbedding, TSNE\n",
    "from umap import UMAP\n",
    "from tqdm import tqdm_notebook\n",
    "from collections import defaultdict\n",
    "from sklearn.neighbors import KNeighborsRegressor, NearestNeighbors\n",
    "from sklearn.metrics import make_scorer, r2_score\n",
    "from sklearn.multioutput import MultiOutputRegressor, RegressorChain, RegressorMixin\n",
    "from sklearn.model_selection import cross_val_score, cross_validate, ParameterGrid, GridSearchCV\n",
    "from sklearn.datasets import make_swiss_roll\n",
    "from lightgbm import LGBMRegressor\n",
    "import multiprocessing\n",
    "from joblib import Parallel, delayed\n",
    "from utils import mae_score\n",
    "import matplotlib.pyplot as plt\n",
    "from utils import project, NPR, filter_paths, unpack_data \n",
    "from coranking import coranking_matrix\n",
    "from coranking.metrics import continuity, LCMC, trustworthiness\n",
    "from scipy.spatial.distance import jensenshannon, jaccard, braycurtis\n",
    "from IPython.core.debugger import set_trace\n",
    "from IPython.display import clear_output"
   ]
  },
  {
   "cell_type": "code",
   "execution_count": 2,
   "metadata": {},
   "outputs": [],
   "source": [
    "X_swiss,y_swiss = make_swiss_roll(n_samples=1000)"
   ]
  },
  {
   "cell_type": "markdown",
   "metadata": {},
   "source": [
    "# Data PCA"
   ]
  },
  {
   "cell_type": "code",
   "execution_count": 3,
   "metadata": {},
   "outputs": [],
   "source": [
    "root_separate = './separate_datasets_proj/'\n",
    "DATASETS = ['AGP_proj_o', 'AGP_proj_f', 'AGP_proj_g', \\\n",
    "            'HMP_proj_o', 'HMP_proj_f', 'HMP_proj_g'] \n",
    "\n",
    "paths_separate = filter_paths([os.path.join(root_separate,path) for path in os.listdir(root_separate)], keywords=DATASETS)\n",
    "int_dims = np.load('./intrinsic_dims_separate_strict.npy', allow_pickle=True).item()\n",
    "\n",
    "intrinsic_dims = {}\n",
    "data_pca = {}\n",
    "for path in paths_separate:\n",
    "    label = path.split('/')[-1].split('.')[0]\n",
    "    data_pca[label] = np.genfromtxt(path, delimiter=';')\n",
    "    intrinsic_dims[label] = int_dims[path]"
   ]
  },
  {
   "cell_type": "code",
   "execution_count": 4,
   "metadata": {},
   "outputs": [],
   "source": [
    "def cross_validate(X,Z):\n",
    "    knn = KNeighborsRegressor()\n",
    "    mo = MultiOutputRegressor(knn)\n",
    "    mae_scorer = make_scorer(mae_score, greater_is_better=False)\n",
    "    return -cross_val_score(mo, Z, X, scoring=mae_scorer, cv=3, n_jobs=-1).mean()\n",
    "\n",
    "\n",
    "def calculate_Q_mae(X, Z):\n",
    "    \n",
    "    Q = coranking_matrix(X, Z)\n",
    "    \n",
    "    m = X.shape[0]\n",
    "    UL_cumulative = 0 \n",
    "    Q_k = []\n",
    "    LCMC_k = []\n",
    "    for k in range(0, Q.shape[0]):\n",
    "        r = Q[k:k+1,:k+1].sum()\n",
    "        c = Q[:k,k:k+1].sum()\n",
    "        UL_cumulative += (r+c)\n",
    "        Qnk = UL_cumulative/((k+1)*m) # (k+1)\n",
    "        Q_k.append(Qnk)\n",
    "        LCMC_k.append(Qnk - ((k+1)/(m-1)))\n",
    "    \n",
    "    argmax_k = np.argmax(LCMC_k)\n",
    "    k_max = np.arange(1.,m)[argmax_k]\n",
    "    Q_loc = (1./k_max)*np.sum(Q_k[:argmax_k+1])\n",
    "    Q_glob = (1./(m-k_max))*np.sum(Q_k[argmax_k+1:])\n",
    "    \n",
    "    mae = cross_validate(X, Z)\n",
    "    \n",
    "    return Q_loc, Q_glob, mae\n",
    "    "
   ]
  },
  {
   "cell_type": "code",
   "execution_count": 5,
   "metadata": {},
   "outputs": [],
   "source": [
    "def transform(method, X, dim, parameters, scorer):\n",
    "#     try:\n",
    "    model_inst = method(n_components=dim, **parameters, n_jobs=-1)\n",
    "    Z = model_inst.fit_transform(X)\n",
    "    score = scorer(X,Z)\n",
    "#     except:\n",
    "#         score = [None, None, None]\n",
    "    return score"
   ]
  },
  {
   "cell_type": "code",
   "execution_count": 6,
   "metadata": {
    "scrolled": true
   },
   "outputs": [],
   "source": [
    "# %%time\n",
    "# # the problem is with AGP_proj_o, with others seems OK\n",
    "# model_param_grid = {'affinity':['nearest_neighbors', 'rbf'],\n",
    "#                      'n_neighbors':[3,5,10,15,25],\n",
    "#                       'gamma':[1e-4,1e-3,None,1e-1],\n",
    "#                       'random_state':[42]\n",
    "#                       }\n",
    "# isomap_results = Parallel(n_jobs=-1)(delayed(transform)(SpectralEmbedding,\n",
    "#                                                         X=data_pca['AGP_proj_f'], # AGP_proj_o\n",
    "#                                                         dim=5,\n",
    "#                                                         parameters=model_params,\n",
    "#                                                         scorer=calculate_Q_mae) \\\n",
    "#                                                         for model_params in tqdm_notebook(list(ParameterGrid(model_param_grid)))) "
   ]
  },
  {
   "cell_type": "code",
   "execution_count": 7,
   "metadata": {},
   "outputs": [],
   "source": [
    "# %%time\n",
    "# # the problem is with AGP_proj_o, with others seems OK\n",
    "# model_param_grid = {'affinity':['nearest_neighbors', 'rbf'],\n",
    "#                      'n_neighbors':[3,5,10,15,25],\n",
    "#                       'gamma':[1e-4,1e-3,None,1e-1],\n",
    "#                       'random_state':[42]\n",
    "#                       }\n",
    "# isomap_results =[]\n",
    "# for model_params in tqdm_notebook(list(ParameterGrid(model_param_grid))):\n",
    "#     print(model_params)\n",
    "#     print('\\n')\n",
    "#     isomap_results.append(transform(SpectralEmbedding,\n",
    "#                             X=data_pca['AGP_proj_o'], # AGP_proj_o\n",
    "#                             dim=5,\n",
    "#                             parameters=model_params,\n",
    "#                             scorer=calculate_Q_mae))\n"
   ]
  },
  {
   "cell_type": "code",
   "execution_count": 8,
   "metadata": {},
   "outputs": [],
   "source": [
    "# spectral_results_dict = {}\n",
    "# spectral_results_dict['params'] = model_param_grid\n",
    "# spectral_results_dict['results'] = spectral_results"
   ]
  },
  {
   "cell_type": "code",
   "execution_count": 9,
   "metadata": {},
   "outputs": [],
   "source": [
    "# np.save('./manifold_learning_results_separate/AGP_proj_o_spectral_results', spectral_results_dict)"
   ]
  },
  {
   "cell_type": "code",
   "execution_count": 10,
   "metadata": {},
   "outputs": [],
   "source": [
    "# some_params = [2,3,5,10] #['standard', 'hessian', 'modified', 'ltsa']\n",
    "# fig, axes = plt.subplots(ncols=len(some_params), nrows=1, figsize=(len(some_params)*5,5), dpi=300)\n",
    "# for i,prm in enumerate(some_params):\n",
    "#     se = LocallyLinearEmbedding(n_components=2, n_neighbors=prm, method='ltsa', eigen_solver='dense') # modified\n",
    "#     Z = se.fit_transform(X_swiss)\n",
    "#     Q_loc, Q_glob, mae =calculate_Q_mae(X_swiss, Z) \n",
    "#     axes[i].scatter(Z[:,0], Z[:,1],c=y_swiss)\n",
    "#     axes[i].set_title(f'Q_loc: {Q_loc}, \\n Q_glob: {Q_glob}, \\n MAE: {mae}')   \n",
    "# plt.tight_layout()\n",
    "# plt.show() \n",
    "\n",
    "# # 2 * (2 + 3) / 2"
   ]
  },
  {
   "cell_type": "code",
   "execution_count": 11,
   "metadata": {},
   "outputs": [
    {
     "data": {
      "text/plain": [
       "(Isomap(),\n",
       " SpectralEmbedding(),\n",
       " LocallyLinearEmbedding(),\n",
       " UMAP(dens_frac=0.0, dens_lambda=0.0),\n",
       " TSNE())"
      ]
     },
     "execution_count": 11,
     "metadata": {},
     "output_type": "execute_result"
    }
   ],
   "source": [
    "Isomap(), SpectralEmbedding(), LocallyLinearEmbedding(), UMAP(), TSNE()"
   ]
  },
  {
   "cell_type": "code",
   "execution_count": null,
   "metadata": {},
   "outputs": [
    {
     "data": {
      "application/vnd.jupyter.widget-view+json": {
       "model_id": "2d762be976f04e98a4a14dfd93c082b8",
       "version_major": 2,
       "version_minor": 0
      },
      "text/plain": [
       "HBox(children=(FloatProgress(value=0.0, max=6.0), HTML(value='')))"
      ]
     },
     "metadata": {},
     "output_type": "display_data"
    },
    {
     "name": "stdout",
     "output_type": "stream",
     "text": [
      "AGP_proj_o 5 spectral\n",
      "{'affinity': 'nearest_neighbors', 'gamma': 0.0001, 'n_neighbors': 3, 'random_state': 42}\n",
      "{'affinity': 'nearest_neighbors', 'gamma': 0.0001, 'n_neighbors': 5, 'random_state': 42}\n",
      "{'affinity': 'nearest_neighbors', 'gamma': 0.0001, 'n_neighbors': 10, 'random_state': 42}\n",
      "{'affinity': 'nearest_neighbors', 'gamma': 0.0001, 'n_neighbors': 15, 'random_state': 42}\n",
      "{'affinity': 'nearest_neighbors', 'gamma': 0.0001, 'n_neighbors': 25, 'random_state': 42}\n",
      "{'affinity': 'nearest_neighbors', 'gamma': 0.001, 'n_neighbors': 3, 'random_state': 42}\n",
      "{'affinity': 'nearest_neighbors', 'gamma': 0.001, 'n_neighbors': 5, 'random_state': 42}\n",
      "{'affinity': 'nearest_neighbors', 'gamma': 0.001, 'n_neighbors': 10, 'random_state': 42}\n",
      "{'affinity': 'nearest_neighbors', 'gamma': 0.001, 'n_neighbors': 15, 'random_state': 42}\n",
      "{'affinity': 'nearest_neighbors', 'gamma': 0.001, 'n_neighbors': 25, 'random_state': 42}\n",
      "{'affinity': 'nearest_neighbors', 'gamma': None, 'n_neighbors': 3, 'random_state': 42}\n",
      "{'affinity': 'nearest_neighbors', 'gamma': None, 'n_neighbors': 5, 'random_state': 42}\n",
      "{'affinity': 'nearest_neighbors', 'gamma': None, 'n_neighbors': 10, 'random_state': 42}\n",
      "{'affinity': 'nearest_neighbors', 'gamma': None, 'n_neighbors': 15, 'random_state': 42}\n",
      "{'affinity': 'nearest_neighbors', 'gamma': None, 'n_neighbors': 25, 'random_state': 42}\n",
      "{'affinity': 'nearest_neighbors', 'gamma': 0.1, 'n_neighbors': 3, 'random_state': 42}\n",
      "{'affinity': 'nearest_neighbors', 'gamma': 0.1, 'n_neighbors': 5, 'random_state': 42}\n",
      "{'affinity': 'nearest_neighbors', 'gamma': 0.1, 'n_neighbors': 10, 'random_state': 42}\n",
      "{'affinity': 'nearest_neighbors', 'gamma': 0.1, 'n_neighbors': 15, 'random_state': 42}\n",
      "{'affinity': 'nearest_neighbors', 'gamma': 0.1, 'n_neighbors': 25, 'random_state': 42}\n",
      "{'affinity': 'rbf', 'gamma': 0.0001, 'n_neighbors': 3, 'random_state': 42}\n",
      "{'affinity': 'rbf', 'gamma': 0.0001, 'n_neighbors': 5, 'random_state': 42}\n",
      "{'affinity': 'rbf', 'gamma': 0.0001, 'n_neighbors': 10, 'random_state': 42}\n",
      "{'affinity': 'rbf', 'gamma': 0.0001, 'n_neighbors': 15, 'random_state': 42}\n",
      "{'affinity': 'rbf', 'gamma': 0.0001, 'n_neighbors': 25, 'random_state': 42}\n",
      "{'affinity': 'rbf', 'gamma': 0.001, 'n_neighbors': 3, 'random_state': 42}\n",
      "{'affinity': 'rbf', 'gamma': 0.001, 'n_neighbors': 5, 'random_state': 42}\n",
      "{'affinity': 'rbf', 'gamma': 0.001, 'n_neighbors': 10, 'random_state': 42}\n",
      "{'affinity': 'rbf', 'gamma': 0.001, 'n_neighbors': 15, 'random_state': 42}\n"
     ]
    }
   ],
   "source": [
    "mf_models = {#'isomap':{'class':Isomap, 'params_grid':{'n_neighbors':[3,5,10,15,25],\n",
    "#                                                       'p':[1,2],\n",
    "#                                                       'metric':['minkowski']\n",
    "#                                                       }\n",
    "#                       },\n",
    "            'spectral':{'class':SpectralEmbedding,'params_grid':{'affinity':['nearest_neighbors', 'rbf'],\n",
    "                                                                 'n_neighbors':[3,5,10,15,25],\n",
    "                                                                  'gamma':[1e-4,1e-3,None,1e-1],\n",
    "                                                                  'random_state':[42],\n",
    "                                                                  }\n",
    "                        },\n",
    "#             'lle':{'class':LocallyLinearEmbedding, 'params_grid':{'method':['ltsa','modified'],\n",
    "#                                                                    'n_neighbors':[10,15,25,50],\n",
    "#                                                                    'random_state':[42],\n",
    "#                                                                    'eigen_solver':['dense']}\n",
    "#                   },\n",
    "#             'umap':{'class':UMAP, 'params_grid':{'n_neighbors':[3,5,10,15,25],\n",
    "#                                                  'min_dist':[0.1, 0.2, 0.4, 0.6, 0.8],\n",
    "#                                                  'random_state':[42],\n",
    "#                                                  'metric':['euclidean','manhattan']}\n",
    "#                    },\n",
    "#             'tsne':{'class':TSNE, 'params_grid':{'perplexity':[3,5,10,15,25],\n",
    "#                                                  'random_state':[42],\n",
    "#                                                  'early_exaggeration':[1,10,20,50],\n",
    "#                                                  'init':['pca'],\n",
    "#                                                  'metric':['euclidean','manhattan']\n",
    "#                                                  }\n",
    "#                    } \n",
    "            }\n",
    "\n",
    "results = defaultdict(dict)\n",
    "\n",
    "for label, X in tqdm_notebook(data_pca.items()):\n",
    "\n",
    "        dim = intrinsic_dims[label][-1]\n",
    "        \n",
    "        for mf_type, model in mf_models.items():\n",
    "            print(label, dim, mf_type)\n",
    "            if mf_type=='lle':\n",
    "                model['params_grid']['n_neighbors'] = list(filter(lambda x: x>dim+1, model['params_grid']['n_neighbors']))\n",
    "            \n",
    "            model_class = model['class']\n",
    "            model_param_grid = model['params_grid']\n",
    "            results[label][mf_type] = {}\n",
    "            \n",
    "#             scores = Parallel(n_jobs=10)(delayed(transform)(model_class,\n",
    "#                                                             X, \n",
    "#                                                             dim,\n",
    "#                                                             model_params,\n",
    "#                                                             calculate_Q_mae) \\\n",
    "#                                                             for model_params in list(ParameterGrid(model_param_grid))) \n",
    "            scores = []\n",
    "            for model_params in list(ParameterGrid(model_param_grid)):\n",
    "                print(model_params)\n",
    "                scores.append(transform(model_class,\n",
    "                                        X, \n",
    "                                        dim,\n",
    "                                        model_params,\n",
    "                                        calculate_Q_mae))\n",
    "    \n",
    "\n",
    "            results[label][mf_type]['scores'] = scores\n",
    "            results[label][mf_type]['params'] = model_param_grid\n",
    "            clear_output()\n",
    "                \n",
    "np.save('mf_learning_metrics_results', results)"
   ]
  },
  {
   "cell_type": "code",
   "execution_count": null,
   "metadata": {},
   "outputs": [],
   "source": [
    "# scores = np.array(results[label][mf_type]['scores'])\n",
    "# params = list(ParameterGrid(results[label][mf_type]['params']))\n",
    "\n",
    "# plt.figure(figsize=(15,15), dpi=200)\n",
    "# c = plt.scatter(scores[:,0], scores[:,1], c=scores[:,-1])\n",
    "# for txt, xy in zip(np.arange(len(scores)), scores[:,:2]):\n",
    "#     plt.annotate(txt, xy)\n",
    "# plt.xlabel('Q_loc')\n",
    "# plt.ylabel('Q_glob')\n",
    "# plt.colorbar()\n",
    "# plt.show()"
   ]
  },
  {
   "cell_type": "markdown",
   "metadata": {},
   "source": [
    "Isomap: {'metric': 'minkowski', 'n_neighbors': 3, 'p': 1}, AGP_o"
   ]
  },
  {
   "cell_type": "code",
   "execution_count": 19,
   "metadata": {},
   "outputs": [
    {
     "data": {
      "text/plain": [
       "({'method': 'modified', 'n_neighbors': 12, 'random_state': 42},\n",
       " array([0.60696179, 0.86831541, 0.63519375]))"
      ]
     },
     "execution_count": 19,
     "metadata": {},
     "output_type": "execute_result"
    }
   ],
   "source": [
    "best_index = 6\n",
    "best_params = params[best_index]\n",
    "best_params, scores[best_index]"
   ]
  },
  {
   "cell_type": "code",
   "execution_count": 20,
   "metadata": {},
   "outputs": [],
   "source": [
    "lle = LocallyLinearEmbedding(n_components=dim, **best_params)\n",
    "Z = lle.fit_transform(X)"
   ]
  },
  {
   "cell_type": "code",
   "execution_count": 33,
   "metadata": {},
   "outputs": [
    {
     "data": {
      "text/plain": [
       "GridSearchCV(cv=3, estimator=RegressorChain(base_estimator=LGBMRegressor()),\n",
       "             n_jobs=-1,\n",
       "             param_grid={'base_estimator___boosting_type': ['gbdt', 'dart',\n",
       "                                                            'goss', 'rf'],\n",
       "                         'base_estimator___learning_rate': [0.1, 0.001, 0.0001],\n",
       "                         'base_estimator___random_state': [42],\n",
       "                         'base_estimator___reg_alpha': [0.001, 0.1, 1.0, 10.0],\n",
       "                         'base_estimator___reg_lambda': [0.001, 0.1, 1.0, 10]},\n",
       "             refit=False,\n",
       "             scoring=make_scorer(mae_score, greater_is_better=False))"
      ]
     },
     "execution_count": 33,
     "metadata": {},
     "output_type": "execute_result"
    }
   ],
   "source": [
    "knn = LGBMRegressor()\n",
    "# mo = MultiOutputRegressor(knn)\n",
    "mo = RegressorChain(knn)\n",
    "\n",
    "prefix = 'base_estimator___'\n",
    "params={'boosting_type':['gbdt', 'dart', 'goss', 'rf'],\n",
    "       'learning_rate':[0.1, 0.001, 0.0001],\n",
    "       'reg_alpha':[0.001, 0.1, 1., 10.],\n",
    "       'reg_lambda':[0.001, 0.1, 1., 10],\n",
    "       'random_state':[42]}\n",
    "\n",
    "params_ = {}\n",
    "for k,v in params.items():\n",
    "    params_[prefix+k] = v\n",
    "\n",
    "gs = GridSearchCV(mo, params_, cv=3, refit=False, n_jobs=-1, scoring=mae_scorer)\n",
    "gs.fit(Z,X)\n",
    "\n",
    "# mae_scorer = make_scorer(mae_score, greater_is_better=False)\n",
    "# -cross_val_score(mo, Z, X, scoring=mae_scorer, cv=3, n_jobs=-1).mean()"
   ]
  },
  {
   "cell_type": "markdown",
   "metadata": {},
   "source": [
    "### Visualization"
   ]
  },
  {
   "cell_type": "code",
   "execution_count": null,
   "metadata": {},
   "outputs": [],
   "source": [
    "# for label, mf_dict in results.items():\n",
    "    \n",
    "#     m = len(mf_dict)\n",
    "#     fig, axes = plt.subplots(ncols=m, nrows=1, figsize=(m*5,5), dpi=200)\n",
    "#     for i,(mf_type, metrics) in enumerate(mf_dict.items()):\n",
    "        \n",
    "#         if len(metrics) == 0:\n",
    "#             continue\n",
    "        \n",
    "#         scores = np.array(metrics['scores'])\n",
    "#         model_param_grid = metrics['params']\n",
    "#         dim = intrinsic_dims[label][-1]\n",
    "#         mae = scores[:,-1]\n",
    "#         Q_ = scores[:,:2]\n",
    "        \n",
    "#         sc = axes[i].scatter(Q_[:,0], Q_[:,1], c=mae)\n",
    "#         axes[i].set_xlabel('Q_loc')\n",
    "#         axes[i].set_ylabel('Q_glob')\n",
    "#     fig.colorbar(sc, orientation='vertical')\n",
    "#     fig.suptitle(label, fontsize=16, color='blue')\n",
    "    \n",
    "# # plt.colorbar()\n",
    "# plt.tight_layout()\n",
    "# plt.subplots_adjust(top=0.85)\n",
    "# plt.show()"
   ]
  },
  {
   "cell_type": "markdown",
   "metadata": {},
   "source": [
    "### Saving"
   ]
  },
  {
   "cell_type": "code",
   "execution_count": null,
   "metadata": {},
   "outputs": [],
   "source": [
    "# SAVE = True\n",
    "\n",
    "# for label,label_dict in results.items(): \n",
    "#     for method_name, method_dict in label_dict.items(): \n",
    "#         recommended_intrinsic_dims = intrinsic_dims[label2path[label]]\n",
    "        \n",
    "#         d = np.genfromtxt(path, delimiter=';')\n",
    "#         dims = intrinsic_dims[path]\n",
    "#         d1 = min(2, min(dims))\n",
    "#         d2 = min(d.shape[1], max(dims)+6)\n",
    "#         DIM_RANGE = np.arange(d1, d2)\n",
    "\n",
    "#         mae = np.array(method_dict['knn_neg_mae'])\n",
    "\n",
    "#         ind = np.intersect1d(DIM_RANGE, recommended_intrinsic_dims, assume_unique=True, return_indices=True)[1].tolist()\n",
    "#         i = ind[np.array(mae)[ind].argmin()]\n",
    "\n",
    "#         d_trans = method_dict['dataset_transformed'][i]\n",
    "        \n",
    "#         if SAVE:\n",
    "#             if MERGED:\n",
    "#                 name = f\"./merged_datasets_transformed/{label}_{method_name}.csv\"\n",
    "#             else:\n",
    "#                 name = f\"./separate_datasets_transformed/{label}_{method_name}.csv\"\n",
    "#             np.savetxt(name, d_trans, delimiter=\";\")"
   ]
  },
  {
   "cell_type": "code",
   "execution_count": null,
   "metadata": {},
   "outputs": [],
   "source": [
    "# for label,label_dict in results.items(): \n",
    "#     for method_name, method_dict in label_dict.items(): \n",
    "\n",
    "#         d_trans = method_dict['dataset_transformed'][i]\n",
    "# #         print(label, method_name, d_trans.shape)\n",
    "#         name = f\"./separate_datasets_transformed/{label}_{method_name}.csv\"\n",
    "#         np.savetxt(name, d_trans, delimiter=\";\")"
   ]
  },
  {
   "cell_type": "markdown",
   "metadata": {},
   "source": [
    "# Original with precomputed distances"
   ]
  },
  {
   "cell_type": "code",
   "execution_count": null,
   "metadata": {},
   "outputs": [],
   "source": [
    "data_orig = {}\n",
    "distances_orig = defaultdict(dict)\n",
    "\n",
    "for dataset in ['AGP', 'HMP']:\n",
    "    for tax_level in ['o', 'f', 'g']:\n",
    "        dataframe_out = pd.read_csv(f'{dataset}/pivot_{tax_level}_normalized.csv', skipinitialspace=True, sep=';', engine='python')\n",
    "        dataframe_out = dataframe_out.drop('Unnamed: 0', axis = 1).values\n",
    "        \n",
    "        name = '_'.join([dataset, tax_level])\n",
    "        data_orig[name] = dataframe_out\n",
    "        distances_orig['JS'][name] = np.load(f'./distances/orig_JS_{dataset}_{tax_level}.npy')\n",
    "        distances_orig['BC'][name] = np.load(f'./distances/orig_BC_{dataset}_{tax_level}.npy')        "
   ]
  },
  {
   "cell_type": "code",
   "execution_count": null,
   "metadata": {},
   "outputs": [],
   "source": [
    "# mf_models = {'isomap':{'class':Isomap, 'params_grid':{'n_neighbors':[3,5,10,15,25],\n",
    "#                                                       'p':[1,2],\n",
    "#                                                       'metric':['minkowski']\n",
    "#                                                       }\n",
    "#                       },\n",
    "#             'spectral':{'class':SpectralEmbedding,'params_grid':{'affinity':['nearest_neighbors', 'rbf'],\n",
    "#                                                                  'n_neighbors':[3,5,10,15,25],\n",
    "#                                                                   'gamma':[1e-4,1e-3,None,1e-1],\n",
    "#                                                                   'random_state':[42]\n",
    "#                                                                   }\n",
    "#                         },\n",
    "#             'lle':{'class':LocallyLinearEmbedding, 'params_grid':{'method':['ltsa','modified'],\n",
    "#                                                                    'n_neighbors':[10,15,25,50],\n",
    "#                                                                    'random_state':[42],\n",
    "#                                                                    'eigen_solver':['dense']}\n",
    "#                   },\n",
    "#             'umap':{'class':UMAP, 'params_grid':{'n_neighbors':[3,5,10,15,25],\n",
    "#                                                  'min_dist':[0.1, 0.2, 0.4, 0.6, 0.8],\n",
    "#                                                  'random_state':[42],\n",
    "#                                                  'metric':['euclidean','manhattan']}\n",
    "#                    },\n",
    "#             'tsne':{'class':TSNE, 'params_grid':{'perplexity':[3,5,10,15,25],\n",
    "#                                                  'random_state':[42],\n",
    "#                                                  'early_exaggeration':[1,10,20,50],\n",
    "#                                                  'init':['pca'],\n",
    "#                                                  'metric':['euclidean','manhattan']\n",
    "#                                                  }\n",
    "#                    } \n",
    "#             }\n",
    "\n",
    "# results = defaultdict(dict)\n",
    "\n",
    "# for label, X in tqdm_notebook(data_orig.items()):\n",
    "# # for label, X in tqdm_notebook([('AGP_proj_f', data_pca['AGP_proj_f'])]):\n",
    "\n",
    "#         dim = intrinsic_dims[label][-1]\n",
    "        \n",
    "#         for distance_name, S in distances_orig.items():\n",
    "        \n",
    "#         for mf_type, model in mf_models.items():\n",
    "#             print(label, dim, mf_type)\n",
    "#             if mf_type=='lle':\n",
    "#                 model['params_grid']['n_neighbors'] = list(filter(lambda x: x>dim+1, model['params_grid']['n_neighbors']))\n",
    "            \n",
    "#             model_class = model['class']\n",
    "#             model_param_grid = model['params_grid']\n",
    "#             results[label][mf_type] = {}\n",
    "            \n",
    "#             scores = Parallel(n_jobs=10)(delayed(transform)(model_class,\n",
    "#                                                             X, \n",
    "#                                                             dim,\n",
    "#                                                             model_params,\n",
    "#                                                             calculate_Q_mae) \\\n",
    "#                                                             for model_params in list(ParameterGrid(model_param_grid))) \n",
    "\n",
    "#             results[label][mf_type]['scores'] = scores\n",
    "#             results[label][mf_type]['params'] = model_param_grid\n",
    "#             clear_output()\n",
    "                \n",
    "# np.save('mf_learning_metrics_results', results)"
   ]
  },
  {
   "cell_type": "code",
   "execution_count": null,
   "metadata": {},
   "outputs": [],
   "source": []
  },
  {
   "cell_type": "code",
   "execution_count": null,
   "metadata": {},
   "outputs": [],
   "source": []
  }
 ],
 "metadata": {
  "kernelspec": {
   "display_name": "Python 3",
   "language": "python",
   "name": "python3"
  },
  "language_info": {
   "codemirror_mode": {
    "name": "ipython",
    "version": 3
   },
   "file_extension": ".py",
   "mimetype": "text/x-python",
   "name": "python",
   "nbconvert_exporter": "python",
   "pygments_lexer": "ipython3",
   "version": "3.7.7"
  }
 },
 "nbformat": 4,
 "nbformat_minor": 4
}
