{
 "cells": [
  {
   "cell_type": "code",
   "execution_count": 58,
   "metadata": {},
   "outputs": [],
   "source": [
    "import numpy as np\n",
    "import pandas as pd  \n",
    "import random as rnd\n",
    "import math\n",
    "from tqdm import tqdm_notebook\n",
    "from sklearn.metrics import make_scorer, r2_score\n",
    "from sklearn.kernel_ridge import KernelRidge\n",
    "from sklearn.linear_model import LinearRegression\n",
    "from sklearn.neighbors import KNeighborsRegressor\n",
    "from sklearn.svm import SVR\n",
    "from sklearn.manifold import Isomap, LocallyLinearEmbedding, SpectralEmbedding\n",
    "from sklearn.pipeline import make_pipeline\n",
    "from sklearn.preprocessing import StandardScaler\n",
    "from sklearn.multioutput import MultiOutputRegressor\n",
    "from sklearn.model_selection import GridSearchCV\n",
    "from sklearn.model_selection import cross_val_score, cross_validate, KFold\n",
    "\n",
    "from IPython.display import display, HTML\n",
    "\n",
    "%matplotlib inline\n",
    "import matplotlib.pyplot as plt"
   ]
  },
  {
   "cell_type": "code",
   "execution_count": 22,
   "metadata": {},
   "outputs": [],
   "source": [
    "# paths with datasets\n",
    "\n",
    "paths = [\n",
    "    \"./proj_o.csv\"\n",
    "]\n",
    "\n",
    "for num in range(1,11) :\n",
    "    name = \"isomap_o_dim\" + str(num) + \".csv\"\n",
    "    paths.append(name)"
   ]
  },
  {
   "cell_type": "code",
   "execution_count": 33,
   "metadata": {},
   "outputs": [],
   "source": [
    "datasets = [np.genfromtxt(path, delimiter=';') for path in paths]\n",
    "datasets[1] = datasets[1].reshape(-1,1) # for 1-dim isomap"
   ]
  },
  {
   "cell_type": "code",
   "execution_count": 34,
   "metadata": {},
   "outputs": [],
   "source": [
    "orig_data = datasets[0]\n",
    "isomap_data_list = datasets[1:]"
   ]
  },
  {
   "cell_type": "code",
   "execution_count": 52,
   "metadata": {},
   "outputs": [],
   "source": [
    "def mae_score(y, y_pred):\n",
    "    return np.linalg.norm(y_pred - y, axis=1, ord=1).mean() / np.linalg.norm(y, axis=1, ord=1).mean()\n",
    "\n",
    "scorer_mae = make_scorer(mae_score, greater_is_better=False)\n",
    "\n",
    "knn = KNeighborsRegressor(n_neighbors=4, leaf_size=30, p=2, weights='distance')\n",
    "mo_knn = MultiOutputRegressor(knn)"
   ]
  },
  {
   "cell_type": "code",
   "execution_count": 53,
   "metadata": {},
   "outputs": [
    {
     "data": {
      "application/vnd.jupyter.widget-view+json": {
       "model_id": "4747d2612f6c416ab64d61a58708dadf",
       "version_major": 2,
       "version_minor": 0
      },
      "text/plain": [
       "HBox(children=(IntProgress(value=0, max=10), HTML(value='')))"
      ]
     },
     "metadata": {},
     "output_type": "display_data"
    },
    {
     "name": "stdout",
     "output_type": "stream",
     "text": [
      "\n"
     ]
    }
   ],
   "source": [
    "dims = []\n",
    "errs = []\n",
    "for isomap_data in tqdm_notebook(isomap_data_list):\n",
    "    dims.append(isomap_data.shape[1])\n",
    "    errs.append(-cross_val_score(mo_knn, isomap_data, orig_data, scoring=scorer_mae, cv=5, n_jobs=-1).mean())\n",
    "    "
   ]
  },
  {
   "cell_type": "code",
   "execution_count": 54,
   "metadata": {},
   "outputs": [
    {
     "data": {
      "text/plain": [
       "[<matplotlib.lines.Line2D at 0x7fad1b3b9630>]"
      ]
     },
     "execution_count": 54,
     "metadata": {},
     "output_type": "execute_result"
    },
    {
     "data": {
      "image/png": "[encoded data removed]",
      "text/plain": [
       "<Figure size 432x288 with 1 Axes>"
      ]
     },
     "metadata": {
      "needs_background": "light"
     },
     "output_type": "display_data"
    }
   ],
   "source": [
    "plt.plot(dims, errs)"
   ]
  },
  {
   "cell_type": "code",
   "execution_count": null,
   "metadata": {},
   "outputs": [
    {
     "data": {
      "application/vnd.jupyter.widget-view+json": {
       "model_id": "62e5e31458514a4ea4f08abc97d4ef0a",
       "version_major": 2,
       "version_minor": 0
      },
      "text/plain": [
       "HBox(children=(IntProgress(value=0, max=10), HTML(value='')))"
      ]
     },
     "metadata": {},
     "output_type": "display_data"
    }
   ],
   "source": [
    "errs_AGP_g = []\n",
    "data_AGP_g = np.genfromtxt(\"./separate_datasets_data/AGP_proj_g.csv\", delimiter=';')\n",
    "for n in tqdm_notebook(dims):\n",
    "    transformer = Isomap(n_components=n)\n",
    "    dataset_transformed = transformer.fit_transform(data_AGP_g)\n",
    "    errs_AGP_g.append(-cross_val_score(mo_knn, dataset_transformed, data_AGP_g, scoring=scorer_mae, cv=5, n_jobs=-1).mean())\n",
    "    "
   ]
  },
  {
   "cell_type": "code",
   "execution_count": null,
   "metadata": {},
   "outputs": [],
   "source": [
    "plt.plot(dims, errs_AGP_g)"
   ]
  },
  {
   "cell_type": "code",
   "execution_count": null,
   "metadata": {},
   "outputs": [],
   "source": []
  }
 ],
 "metadata": {
  "kernelspec": {
   "display_name": "Python 3",
   "language": "python",
   "name": "python3"
  },
  "language_info": {
   "codemirror_mode": {
    "name": "ipython",
    "version": 3
   },
   "file_extension": ".py",
   "mimetype": "text/x-python",
   "name": "python",
   "nbconvert_exporter": "python",
   "pygments_lexer": "ipython3",
   "version": "3.6.9"
  }
 },
 "nbformat": 4,
 "nbformat_minor": 2
}
