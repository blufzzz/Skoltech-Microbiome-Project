{
 "cells": [
  {
   "cell_type": "code",
   "execution_count": 1,
   "metadata": {},
   "outputs": [],
   "source": [
    "import numpy as np\n",
    "import os\n",
    "from sklearn.manifold import Isomap, LocallyLinearEmbedding, SpectralEmbedding\n",
    "from tqdm import tqdm_notebook\n",
    "from collections import defaultdict\n",
    "from sklearn.neighbors import KNeighborsRegressor, NearestNeighbors\n",
    "from sklearn.metrics import make_scorer, r2_score\n",
    "from sklearn.multioutput import MultiOutputRegressor\n",
    "from sklearn.model_selection import cross_val_score, cross_validate, ParameterGrid\n",
    "\n",
    "import multiprocessing\n",
    "from joblib import Parallel, delayed\n",
    "\n",
    "import matplotlib.pyplot as plt\n",
    "from utils import project, NPR"
   ]
  },
  {
   "cell_type": "code",
   "execution_count": 2,
   "metadata": {},
   "outputs": [],
   "source": [
    "# paths for the pivot tables\n",
    "root = './separate_datasets_proj/'\n",
    "paths = [os.path.join(root,path) for path in os.listdir(root)]\n",
    "intrinsic_dims = np.load('intrinsic_dims_separate.npy',allow_pickle=True).item()"
   ]
  },
  {
   "cell_type": "code",
   "execution_count": 3,
   "metadata": {},
   "outputs": [
    {
     "data": {
      "text/plain": [
       "{'./separate_datasets_proj/ptb_proj_f.csv': array([5, 6, 7]),\n",
       " './separate_datasets_proj/AGP_proj_o.csv': array([4, 5, 6]),\n",
       " './separate_datasets_proj/t2d_proj_f.csv': array([4, 5, 6]),\n",
       " './separate_datasets_proj/ibd_proj_o.csv': array([2, 3]),\n",
       " './separate_datasets_proj/t2d_proj_g.csv': array([4, 5, 6]),\n",
       " './separate_datasets_proj/ptb_proj_g.csv': array([5, 6, 7]),\n",
       " './separate_datasets_proj/ptb_proj_o.csv': array([4, 5]),\n",
       " './separate_datasets_proj/AGP_proj_f.csv': array([6, 7, 8, 9]),\n",
       " './separate_datasets_proj/AGP_proj_g.csv': array([7, 8, 9]),\n",
       " './separate_datasets_proj/ibd_proj_f.csv': array([3, 4]),\n",
       " './separate_datasets_proj/t2d_proj_o.csv': array([2, 3, 4, 5]),\n",
       " './separate_datasets_proj/ibd_proj_g.csv': array([2, 3, 4, 5])}"
      ]
     },
     "execution_count": 3,
     "metadata": {},
     "output_type": "execute_result"
    }
   ],
   "source": [
    "intrinsic_dims"
   ]
  },
  {
   "cell_type": "code",
   "execution_count": 4,
   "metadata": {},
   "outputs": [],
   "source": [
    "label2path = {}\n",
    "for path in paths:\n",
    "    label = path.split(\"/\")[-1].split(\".\")[0] # take dataset name\n",
    "    label2path[label] = path"
   ]
  },
  {
   "cell_type": "code",
   "execution_count": 5,
   "metadata": {},
   "outputs": [],
   "source": [
    "def transform(method, dim, X, parameters):\n",
    "    model_inst = method(n_components=dim, **parameters)\n",
    "    d_trans = model_inst.fit_transform(X)\n",
    "    re = model_inst.reconstruction_error_ if hasattr(model_inst, 'reconstruction_error_') else model_inst.reconstruction_error()\n",
    "    return [re, d_trans]\n",
    "\n",
    "def mae_score(y_pred, y):\n",
    "    return (np.linalg.norm(y_pred - y, axis=1, ord=1)/ np.linalg.norm(y, axis=1, ord=1)).mean()"
   ]
  },
  {
   "cell_type": "code",
   "execution_count": 6,
   "metadata": {},
   "outputs": [
    {
     "data": {
      "application/vnd.jupyter.widget-view+json": {
       "model_id": "2da91e4fd4a845d29b8172a26e8a2a1e",
       "version_major": 2,
       "version_minor": 0
      },
      "text/plain": [
       "HBox(children=(HTML(value=''), FloatProgress(value=1.0, bar_style='info', layout=Layout(width='20px'), max=1.0…"
      ]
     },
     "metadata": {},
     "output_type": "display_data"
    },
    {
     "data": {
      "application/vnd.jupyter.widget-view+json": {
       "model_id": "df1941738871452ca2004cc3dd9ae5d1",
       "version_major": 2,
       "version_minor": 0
      },
      "text/plain": [
       "HBox(children=(HTML(value=''), FloatProgress(value=0.0, max=9.0), HTML(value='')))"
      ]
     },
     "metadata": {},
     "output_type": "display_data"
    },
    {
     "name": "stdout",
     "output_type": "stream",
     "text": [
      "\n",
      "\n"
     ]
    },
    {
     "ename": "TypeError",
     "evalue": "list indices must be integers or slices, not str",
     "output_type": "error",
     "traceback": [
      "\u001b[0;31m---------------------------------------------------------------------------\u001b[0m",
      "\u001b[0;31mTypeError\u001b[0m                                 Traceback (most recent call last)",
      "\u001b[0;32m<ipython-input-6-8c8e3e09c4e2>\u001b[0m in \u001b[0;36m<module>\u001b[0;34m\u001b[0m\n\u001b[1;32m     50\u001b[0m                 \u001b[0mmetric_dict\u001b[0m\u001b[0;34m[\u001b[0m\u001b[0;34m'dataset_transformed'\u001b[0m\u001b[0;34m]\u001b[0m\u001b[0;34m.\u001b[0m\u001b[0mappend\u001b[0m\u001b[0;34m(\u001b[0m\u001b[0md_trans\u001b[0m\u001b[0;34m)\u001b[0m\u001b[0;34m\u001b[0m\u001b[0;34m\u001b[0m\u001b[0m\n\u001b[1;32m     51\u001b[0m \u001b[0;34m\u001b[0m\u001b[0m\n\u001b[0;32m---> 52\u001b[0;31m             \u001b[0mresults\u001b[0m\u001b[0;34m[\u001b[0m\u001b[0mlabel\u001b[0m\u001b[0;34m]\u001b[0m\u001b[0;34m[\u001b[0m\u001b[0mmf_type\u001b[0m\u001b[0;34m]\u001b[0m \u001b[0;34m=\u001b[0m \u001b[0mmetric_dict\u001b[0m\u001b[0;34m\u001b[0m\u001b[0;34m\u001b[0m\u001b[0m\n\u001b[0m",
      "\u001b[0;31mTypeError\u001b[0m: list indices must be integers or slices, not str"
     ]
    }
   ],
   "source": [
    "# calculate isomap projections for the different dimensions for O level and store to the csv files\n",
    "mf_models = {'isomap':{'class':Isomap, 'params_grid':{'n_neighbors':[10,15,25,35,50],\n",
    "                                                      'p':[1,2,3],\n",
    "                                                      'n_jobs':[-1]}},\n",
    "             'lle':{'class':LocallyLinearEmbedding, 'params_grid':{'method':['modified', 'ltsa'],\n",
    "                                                                   'n_neighbors':[10,15,25,35,50],\n",
    "                                                                   'random_state':[42],\n",
    "                                                                   'n_jobs':[-1]}}}\n",
    "\n",
    "\n",
    "\n",
    "scorer_neg_mae = make_scorer(mae_score, greater_is_better=False)\n",
    "scorer_r2 = make_scorer(r2_score, greater_is_better=True)\n",
    "\n",
    "results = defaultdict(dict)\n",
    "for i,dataset_name in tqdm_notebook(enumerate(['ptb', 'AGP', 't2d', 'ibd'])):\n",
    "    for j,tax_name in enumerate(['o', 'f', 'g']):\n",
    "    \n",
    "        label = '_'.join([dataset_name, 'proj', tax_name])\n",
    "        path = label2path[label]\n",
    "        d = np.genfromtxt(path, delimiter=';')\n",
    "        assert not np.isnan(d).any()\n",
    "        dims = intrinsic_dims[path]\n",
    "        \n",
    "        d1 = min(2, min(dims))\n",
    "        d2 = min(d.shape[1], max(dims)+6)\n",
    "        DIM_RANGE = np.arange(d1, d2)\n",
    "\n",
    "        for mf_type, model in mf_models.items():\n",
    "            metric_dict = defaultdict(list)\n",
    "            for dim in tqdm_notebook(DIM_RANGE):\n",
    "                model_class = model['class']\n",
    "                # looking for best params for \n",
    "                results = Parallel(n_jobs=-1)(delayed(transform)(model_class, dim, d, model_params) for model_params in ParameterGrid(model['params_grid']))\n",
    "                re_s = [r[0] for r in results]\n",
    "                d_trans_s = [r[1] for r in results]\n",
    "                min_re_index = np.argmin(re_s)\n",
    "                \n",
    "                d_trans = d_trans_s[min_re_index] \n",
    "                re = re_s[min_re_index]\n",
    "\n",
    "                knn = KNeighborsRegressor(n_neighbors=dim*2, weights='distance', n_jobs=-1)\n",
    "                mo_knn = MultiOutputRegressor(knn)\n",
    "                cv_results_neg_mae= cross_val_score(mo_knn, d_trans, d, scoring=scorer_neg_mae, cv=5, n_jobs=-1)\n",
    "\n",
    "                metric_dict['re'].append(re)\n",
    "                metric_dict['re_s'].append(re_s)\n",
    "                metric_dict['knn_neg_mae'].append(-cv_results_neg_mae.mean())\n",
    "                metric_dict['npr'].append(NPR(d, d_trans, k=5))\n",
    "                metric_dict['dataset_transformed'].append(d_trans)\n",
    "\n",
    "            results[label][mf_type] = metric_dict"
   ]
  },
  {
   "cell_type": "code",
   "execution_count": 8,
   "metadata": {},
   "outputs": [
    {
     "data": {
      "text/plain": [
       "('ptb_proj_o', 'isomap')"
      ]
     },
     "execution_count": 8,
     "metadata": {},
     "output_type": "execute_result"
    }
   ],
   "source": [
    "label, mf_type"
   ]
  },
  {
   "cell_type": "code",
   "execution_count": null,
   "metadata": {},
   "outputs": [],
   "source": [
    "for dataset_name, mf_results_dict in results.items():\n",
    "    fig, axes = plt.subplots(ncols=3, nrows=2, figsize=(15,5))\n",
    "    for i,(mf_method, metrics) in enumerate(mf_results_dict.items()):\n",
    "        path = label2path[dataset_name]\n",
    "        recommended_intrinsic_dims = intrinsic_dims[path]\n",
    "        \n",
    "        re = np.array(metrics['re'])\n",
    "        knn_mae = np.array(metrics['knn_neg_mae'])\n",
    "#         knn_r2 = np.array(metrics['knn_r2'])\n",
    "        npr = np.array(metrics['npr'])\n",
    "        DIM_RANGE = np.array(metrics['range'])\n",
    "        ind = np.intersect1d(DIM_RANGE, recommended_intrinsic_dims, assume_unique=True, return_indices=True)[1].tolist()\n",
    "        \n",
    "        axes[i,0].plot(DIM_RANGE, re)\n",
    "        axes[i,0].set_title(mf_method + ' Reconst. error')\n",
    "        axes[i,0].plot(recommended_intrinsic_dims, re[ind], 'r')\n",
    "        axes[i,0].set_xticks(ticks=DIM_RANGE)\n",
    "        axes[i,0].set_xticklabels(DIM_RANGE)\n",
    "        axes[i,0].set_xlabel('dims')\n",
    "        \n",
    "        axes[i,1].plot(DIM_RANGE, knn_mae)\n",
    "        axes[i,1].set_title(mf_method + ' KNN MAE')\n",
    "        axes[i,1].plot(recommended_intrinsic_dims, knn_mae[ind], 'r')\n",
    "        axes[i,1].set_xticks(ticks=DIM_RANGE)\n",
    "        axes[i,1].set_xticklabels(DIM_RANGE)\n",
    "        axes[i,1].set_xlabel('dims')\n",
    "        \n",
    "#         axes[i,2].plot(DIM_RANGE, knn_r2)\n",
    "#         axes[i,2].set_title(mf_method + '_KNN R2')\n",
    "#         axes[i,2].plot(recommended_intrinsic_dims, knn_r2[ind], 'r')\n",
    "#         axes[i,2].set_xticks(ticks=DIM_RANGE)\n",
    "#         axes[i,2].set_xticklabels(DIM_RANGE)\n",
    "        \n",
    "        axes[i,2].plot(DIM_RANGE, npr)\n",
    "        axes[i,2].set_title(mf_method + ' NPR')\n",
    "        axes[i,2].plot(recommended_intrinsic_dims, npr[ind], 'r')\n",
    "        axes[i,2].set_xticks(ticks=DIM_RANGE)\n",
    "        axes[i,2].set_xticklabels(DIM_RANGE)\n",
    "        axes[i,2].set_xlabel('dims')\n",
    "        \n",
    "    fig.suptitle(dataset_name, fontsize=16, color='blue')\n",
    "    plt.tight_layout()\n",
    "    plt.subplots_adjust(top=0.85)\n",
    "    \n",
    "plt.show()\n",
    "        \n",
    "        \n",
    "        "
   ]
  },
  {
   "cell_type": "code",
   "execution_count": null,
   "metadata": {},
   "outputs": [],
   "source": [
    "for dataset_name, mf_results_dict in results.items():\n",
    "    fig, axes = plt.subplots(ncols=3, nrows=2, figsize=(15,5))\n",
    "    for i,(mf_method, metrics) in enumerate(mf_results_dict.items()):\n",
    "        path = label2path[dataset_name]\n",
    "        recommended_intrinsic_dims = intrinsic_dims[path]\n",
    "        \n",
    "        re = np.array(metrics['re'])\n",
    "        knn_mae = np.array(metrics['knn_neg_mae'])\n",
    "#         knn_r2 = np.array(metrics['knn_r2'])\n",
    "        npr = np.array(metrics['npr'])\n",
    "        DIM_RANGE = np.array(metrics['range'])\n",
    "        ind = np.intersect1d(DIM_RANGE, recommended_intrinsic_dims, assume_unique=True, return_indices=True)[1].tolist()\n",
    "        \n",
    "        axes[i,0].plot(DIM_RANGE, re)\n",
    "        axes[i,0].set_title(mf_method + ' Reconst. error')\n",
    "        axes[i,0].plot(recommended_intrinsic_dims, re[ind], 'r')\n",
    "        axes[i,0].set_xticks(ticks=DIM_RANGE)\n",
    "        axes[i,0].set_xticklabels(DIM_RANGE)\n",
    "        \n",
    "        axes[i,1].plot(DIM_RANGE, knn_mae)\n",
    "        axes[i,1].set_title(mf_method + ' KNN MAE')\n",
    "        axes[i,1].plot(recommended_intrinsic_dims, knn_mae[ind], 'r')\n",
    "        axes[i,1].set_xticks(ticks=DIM_RANGE)\n",
    "        axes[i,1].set_xticklabels(DIM_RANGE)\n",
    "        \n",
    "#         axes[i,2].plot(DIM_RANGE, knn_r2)\n",
    "#         axes[i,2].set_title(mf_method + '_KNN R2')\n",
    "#         axes[i,2].plot(recommended_intrinsic_dims, knn_r2[ind], 'r')\n",
    "#         axes[i,2].set_xticks(ticks=DIM_RANGE)\n",
    "#         axes[i,2].set_xticklabels(DIM_RANGE)\n",
    "        \n",
    "        axes[i,2].plot(DIM_RANGE, npr)\n",
    "        axes[i,2].set_title(mf_method + ' NPR')\n",
    "        axes[i,2].plot(recommended_intrinsic_dims, npr[ind], 'r')\n",
    "        axes[i,2].set_xticks(ticks=DIM_RANGE)\n",
    "        axes[i,2].set_xticklabels(DIM_RANGE)\n",
    "        \n",
    "    fig.suptitle(dataset_name, fontsize=16, color='blue')\n",
    "    plt.tight_layout()\n",
    "    plt.subplots_adjust(top=0.85)\n",
    "    \n",
    "plt.show()"
   ]
  },
  {
   "cell_type": "markdown",
   "metadata": {},
   "source": [
    "# Saving"
   ]
  },
  {
   "cell_type": "code",
   "execution_count": null,
   "metadata": {},
   "outputs": [],
   "source": [
    "# for label,label_dict in results.items(): \n",
    "#     for method_name, method_dict in label_dict.items(): \n",
    "#         recommended_intrinsic_dims = intrinsic_dims[label2path[label]]\n",
    "#         DIM_RANGE = np.array(metrics['range'])\n",
    "#         ind = np.intersect1d(DIM_RANGE, recommended_intrinsic_dims, assume_unique=True, return_indices=True)[1].tolist()\n",
    "#         print(label, method_name, ind[-1])\n",
    "#         d_trans = method_dict['dataset_transformed'][ind[-1]]\n",
    "#         name = f\"./separate_datasets_transformed_data/{label}_{method_name}.csv\"\n",
    "#         np.savetxt(name, d_trans, delimiter=\";\")"
   ]
  }
 ],
 "metadata": {
  "kernelspec": {
   "display_name": "Python 3",
   "language": "python",
   "name": "python3"
  },
  "language_info": {
   "codemirror_mode": {
    "name": "ipython",
    "version": 3
   },
   "file_extension": ".py",
   "mimetype": "text/x-python",
   "name": "python",
   "nbconvert_exporter": "python",
   "pygments_lexer": "ipython3",
   "version": "3.7.7"
  }
 },
 "nbformat": 4,
 "nbformat_minor": 4
}
