{
 "cells": [
  {
   "cell_type": "code",
   "execution_count": 14,
   "metadata": {},
   "outputs": [],
   "source": [
    "import numpy as np\n",
    "import pandas as pd  \n",
    "import random as rnd\n",
    "import math\n",
    "import os\n",
    "import glob\n",
    "from sklearn.kernel_ridge import KernelRidge\n",
    "from sklearn.linear_model import LinearRegression\n",
    "from sklearn.neighbors import KNeighborsRegressor\n",
    "from sklearn.base import BaseEstimator\n",
    "from sklearn.metrics import make_scorer, r2_score\n",
    "from sklearn.svm import SVR\n",
    "from sklearn.ensemble import RandomForestRegressor\n",
    "from sklearn.pipeline import make_pipeline\n",
    "from sklearn.preprocessing import StandardScaler\n",
    "from sklearn.multioutput import MultiOutputRegressor\n",
    "from sklearn.model_selection import GridSearchCV\n",
    "from sklearn.manifold import Isomap, LocallyLinearEmbedding, TSNE\n",
    "from sklearn.decomposition import PCA\n",
    "from IPython.display import display, HTML\n",
    "from sklearn.model_selection import cross_val_score, cross_validate\n",
    "from tqdm import tqdm_notebook\n",
    "from collections import defaultdict\n",
    "%matplotlib inline\n",
    "import matplotlib.pyplot as plt\n",
    "\n",
    "from utils import project"
   ]
  },
  {
   "cell_type": "code",
   "execution_count": null,
   "metadata": {},
   "outputs": [],
   "source": [
    "def MF2PCA2ORIG(BaseEstimator):\n",
    "    def __init__(self, pca_module, mo_regressor):\n",
    "        self.pca = pca_module\n",
    "        self.mo_regressor = mo_regressor\n",
    "        \n",
    "    def fit(X,y):\n",
    "        \n",
    "        self.\n",
    "        \n",
    "    def predict(X):\n",
    "        self.pca"
   ]
  },
  {
   "cell_type": "code",
   "execution_count": 2,
   "metadata": {},
   "outputs": [],
   "source": [
    "# paths to the databases containing the PCA and Isomap projections \n",
    "root_pca = './separate_datasets_data'\n",
    "paths = [os.path.join(root_pca,path) for path in os.listdir(root_pca)]\n",
    "paths_pca = list(filter(lambda x: 'err' not in x.split(\"/\")[-1].split(\".\")[0].split('_'), paths))\n",
    "paths_mf_lle = list(filter(lambda x: 'lle' in x.split(\"/\")[-1].split(\".\")[0].split('_'), paths))\n",
    "paths_mf_isomap = list(filter(lambda x: 'isomap' in x.split(\"/\")[-1].split(\".\")[0].split('_'), paths))"
   ]
  },
  {
   "cell_type": "code",
   "execution_count": 3,
   "metadata": {},
   "outputs": [],
   "source": [
    "def mae_score(y_pred, y):\n",
    "    return np.linalg.norm(y_pred - y, axis=1, ord=1).mean() / np.linalg.norm(y, axis=1, ord=1).mean()\n",
    "\n",
    "scorer = make_scorer(r2_score, greater_is_better=True)\n",
    "scorer_mae = make_scorer(mae_score, greater_is_better=False)"
   ]
  },
  {
   "cell_type": "code",
   "execution_count": 4,
   "metadata": {},
   "outputs": [],
   "source": [
    "knn = KNeighborsRegressor(n_neighbors=12, weights='distance')\n",
    "mo_knn = MultiOutputRegressor(knn)"
   ]
  },
  {
   "cell_type": "code",
   "execution_count": 5,
   "metadata": {},
   "outputs": [
    {
     "data": {
      "application/vnd.jupyter.widget-view+json": {
       "model_id": "e82ab5115cea429fac6e264ce0085d2d",
       "version_major": 2,
       "version_minor": 0
      },
      "text/plain": [
       "HBox(children=(IntProgress(value=0, max=4), HTML(value='')))"
      ]
     },
     "metadata": {},
     "output_type": "display_data"
    },
    {
     "name": "stdout",
     "output_type": "stream",
     "text": [
      "DATASET: AGP, TAX: o\n",
      "DATASET: ptb, TAX: o\n",
      "DATASET: t2d, TAX: o\n",
      "DATASET: ibd, TAX: o\n",
      "\n"
     ]
    }
   ],
   "source": [
    "res_mf2pca_r2 = defaultdict(list)\n",
    "res_mf2pca_mae = defaultdict(list)\n",
    "\n",
    "res_inv_pca_mae = {}\n",
    "\n",
    "res_mf2pca2orig_r2 = defaultdict(list)\n",
    "res_mf2pca2orig_mae = defaultdict(list)\n",
    "\n",
    "folders = glob.glob('???')\n",
    "for f in tqdm_notebook(folders):\n",
    "    for t in ['o', 'f', 'g']:\n",
    "        print(f'DATASET: {f}, TAX: {t}')\n",
    "        label = f'{f}_proj_{t}'\n",
    "        dataframe = pd.read_csv(f'{f}/pivot_{t}_normalized.csv', skipinitialspace=True, sep=';', engine='python')\n",
    "        dataframe = dataframe.drop('Unnamed: 0', axis = 1)\n",
    "        data = dataframe.values\n",
    "        data_projected, pca = project(data, plot=False)\n",
    "        data_projected_inverse = pca.inverse_transform(data_projected)\n",
    "        \n",
    "        res_inv_pca_mae[label] = mae_score(data_projected_inverse, data)\n",
    "        \n",
    "        dims = np.arange(2,data_projected.shape[1], 4)\n",
    "        \n",
    "        for n in tqdm_notebook(dims):\n",
    "            transformer = Isomap(n_components=n, n_neighbors=12)\n",
    "            dataset_transformed = transformer.fit_transform(data_projected)\n",
    "            \n",
    "            cv_results_r2 = cross_val_score(mo_knn, dataset_transformed, data_projected, scoring=scorer, cv=5, n_jobs=-1)\n",
    "            cv_results_mae = cross_val_score(mo_knn, dataset_transformed, data_projected, scoring=scorer_mae, cv=5, n_jobs=-1)\n",
    "\n",
    "            res_mf2pca_r2[label].append(cv_results_r2.mean())\n",
    "            res_mf2pca_mae[label].append(cv_results_mae.mean())\n",
    "            \n",
    "            mo_knn.fit_predict()\n",
    "            \n",
    "            res_mf2pca2orig_r2 = defaultdict(list)\n",
    "            res_mf2pca2orig_mae = defaultdict(list)\n",
    "            \n",
    "            res_mf2pca2orig_r2 = defaultdict(list)\n",
    "            res_mf2pca2orig_mae = defaultdict(list)"
   ]
  },
  {
   "cell_type": "code",
   "execution_count": 6,
   "metadata": {},
   "outputs": [
    {
     "data": {
      "text/plain": [
       "((86, 6), (86, 32))"
      ]
     },
     "execution_count": 6,
     "metadata": {},
     "output_type": "execute_result"
    }
   ],
   "source": [
    "data_projected.shape, dataframe.shape"
   ]
  },
  {
   "cell_type": "code",
   "execution_count": 9,
   "metadata": {},
   "outputs": [
    {
     "data": {
      "text/plain": [
       "0.0016314205380986119"
      ]
     },
     "execution_count": 9,
     "metadata": {},
     "output_type": "execute_result"
    }
   ],
   "source": [
    "np.abs(pca.inverse_transform(data_projected) - dataframe.values).mean()"
   ]
  },
  {
   "cell_type": "code",
   "execution_count": 11,
   "metadata": {},
   "outputs": [
    {
     "data": {
      "text/plain": [
       "6.611231737343013e-17"
      ]
     },
     "execution_count": 11,
     "metadata": {},
     "output_type": "execute_result"
    }
   ],
   "source": [
    "pca_full = PCA()\n",
    "np.abs(pca_full.inverse_transform(pca_full.fit_transform(dataframe.values)) - dataframe.values).mean()"
   ]
  },
  {
   "cell_type": "code",
   "execution_count": 101,
   "metadata": {},
   "outputs": [
    {
     "data": {
      "text/plain": [
       "[<matplotlib.lines.Line2D at 0x7f55accead68>]"
      ]
     },
     "execution_count": 101,
     "metadata": {},
     "output_type": "execute_result"
    },
    {
     "data": {
      "image/png": "[encoded data removed]",
      "text/plain": [
       "<Figure size 432x288 with 1 Axes>"
      ]
     },
     "metadata": {
      "needs_background": "light"
     },
     "output_type": "display_data"
    }
   ],
   "source": [
    "plt.plot(dims, res_mae)"
   ]
  },
  {
   "cell_type": "code",
   "execution_count": 99,
   "metadata": {},
   "outputs": [
    {
     "data": {
      "text/plain": [
       "[<matplotlib.lines.Line2D at 0x7f55ace69048>]"
      ]
     },
     "execution_count": 99,
     "metadata": {},
     "output_type": "execute_result"
    },
    {
     "data": {
      "image/png": "[encoded data removed]",
      "text/plain": [
       "<Figure size 432x288 with 1 Axes>"
      ]
     },
     "metadata": {
      "needs_background": "light"
     },
     "output_type": "display_data"
    }
   ],
   "source": [
    "plt.plot(dims, res)"
   ]
  }
 ],
 "metadata": {
  "kernelspec": {
   "display_name": "Python 3",
   "language": "python",
   "name": "python3"
  },
  "language_info": {
   "codemirror_mode": {
    "name": "ipython",
    "version": 3
   },
   "file_extension": ".py",
   "mimetype": "text/x-python",
   "name": "python",
   "nbconvert_exporter": "python",
   "pygments_lexer": "ipython3",
   "version": "3.6.9"
  }
 },
 "nbformat": 4,
 "nbformat_minor": 4
}
