{
 "cells": [
  {
   "cell_type": "code",
   "execution_count": 17,
   "metadata": {},
   "outputs": [],
   "source": [
    "import numpy as np\n",
    "import pandas as pd  \n",
    "import random as rnd\n",
    "import math\n",
    "import os\n",
    "from sklearn.manifold import Isomap, LocallyLinearEmbedding, TSNE\n",
    "from sklearn.kernel_ridge import KernelRidge\n",
    "from sklearn.linear_model import LinearRegression\n",
    "from sklearn.neighbors import KNeighborsRegressor\n",
    "from sklearn.svm import SVR\n",
    "from sklearn.pipeline import make_pipeline\n",
    "from sklearn.preprocessing import StandardScaler\n",
    "from sklearn.multioutput import MultiOutputRegressor\n",
    "from sklearn.model_selection import GridSearchCV\n",
    "\n",
    "from IPython.display import display, HTML\n",
    "\n",
    "%matplotlib inline\n",
    "import matplotlib.pyplot as plt\n",
    "\n",
    "from utils import project, cross_val_score_custom, create_clustering_pivot_table, clustering, plot_proj_clustering, MF2PCA2ORIG"
   ]
  },
  {
   "cell_type": "code",
   "execution_count": 10,
   "metadata": {},
   "outputs": [],
   "source": [
    "# paths with datasets\n",
    "\n",
    "# paths = [\n",
    "#     \"./proj_o.csv\"\n",
    "# ]\n",
    "\n",
    "# for num in range(1,11) :\n",
    "#     name = \"isomap_o_dim\" + str(num) + \".csv\"\n",
    "#     paths.append(name)\n",
    "\n",
    "root = './separate_datasets_data/'\n",
    "paths = os.listdir(root)"
   ]
  },
  {
   "cell_type": "code",
   "execution_count": 11,
   "metadata": {},
   "outputs": [
    {
     "data": {
      "text/plain": [
       "['ptb_proj_f.csv',\n",
       " 'AGP_proj_o.csv',\n",
       " 't2d_proj_f.csv',\n",
       " 'ibd_proj_o.csv',\n",
       " 't2d_proj_g.csv',\n",
       " 'ptb_proj_g.csv',\n",
       " 'ptb_proj_o.csv',\n",
       " 'AGP_proj_f.csv',\n",
       " 'AGP_proj_g.csv',\n",
       " 'ibd_proj_f.csv',\n",
       " 't2d_proj_o.csv',\n",
       " 'ibd_proj_g.csv']"
      ]
     },
     "execution_count": 11,
     "metadata": {},
     "output_type": "execute_result"
    }
   ],
   "source": [
    "paths"
   ]
  },
  {
   "cell_type": "code",
   "execution_count": 12,
   "metadata": {},
   "outputs": [],
   "source": [
    "# load the datasets\n",
    "datasets = {path.split('.')[0]:np.genfromtxt(os.path.join(root,path), delimiter=';') for path in paths}"
   ]
  },
  {
   "cell_type": "code",
   "execution_count": 14,
   "metadata": {},
   "outputs": [],
   "source": [
    "def mape(y, y_pred):\n",
    "    # Evaluate the mean average prediction error (mean of the differences divided by the initial values)\n",
    "    diff = y - y_pred\n",
    "    abs_diff = np.apply_along_axis(np.linalg.norm, 1, diff, ord=2)\n",
    "    abs_true = np.apply_along_axis(np.linalg.norm, 1, y, ord=2)\n",
    "    mape = np.mean(abs_diff/abs_true)\n",
    "    return mape"
   ]
  },
  {
   "cell_type": "code",
   "execution_count": 9,
   "metadata": {},
   "outputs": [],
   "source": [
    "results = defaultdict(dict)\n",
    "for dataset_name, data in datasets.items():\n",
    "    MAX_DIM = min(10,data.shape[1])\n",
    "    COMPONENTS_RANGE = np.arange(1,MAX_DIM)\n",
    "    results[dataset_name]['range'] = COMPONENTS_RANGE\n",
    "    MAE_mf2pca2orig_list = []\n",
    "    MAE_mf2pca2orig_cv_list = []\n",
    "    for n_components in COMPONENTS_RANGE:\n",
    "        dataset = Isomap(n_components=n_components).fit_transform(data)\n",
    "        cv_results = \n",
    "        MAE_mf2pca2orig_list\n",
    "        MAE_mf2pca2orig_cv_list"
   ]
  },
  {
   "cell_type": "code",
   "execution_count": 11,
   "metadata": {},
   "outputs": [],
   "source": [
    "# Fragment below should be calculated for all the interested dimensions, i.e. from 1 to 10\n",
    "indexes = np.arange(size)\n",
    "# ratio for the training and the testing\n",
    "ratio = 0.8\n",
    "# randomly choosing the training indexes\n",
    "tr_indexes = np.random.choice(range(size), math.floor(size * ratio), replace=False)\n",
    "# check that there are no duplicates\n",
    "u, c = np.unique(tr_indexes, return_counts=True)\n",
    "dup = u[c > 1]\n",
    "assert dup.size == 0\n",
    "# all the other indexes are for testing\n",
    "test_indexes = np.delete(indexes, tr_indexes)\n",
    "# check the sizes\n",
    "assert test_indexes.size + tr_indexes.size - size == 0\n",
    "# randomly shuffle testing indexes\n",
    "np.random.shuffle(test_indexes)\n",
    "# Change the datasets index for every iteration\n",
    "test_in = np.take(dataset, test_indexes, axis = 0)\n",
    "# this are the true values for the testing samples\n",
    "test_true = np.take(PCA_o, test_indexes, axis = 0)\n",
    "# Change the datasets index for every iteration\n",
    "train_in = np.take(dataset, tr_indexes, axis = 0)\n",
    "# values for the training the samples - PCA projected values corresponding to Isomap ones\n",
    "train_out = np.take(PCA_o, tr_indexes, axis = 0)"
   ]
  },
  {
   "cell_type": "code",
   "execution_count": 12,
   "metadata": {},
   "outputs": [
    {
     "data": {
      "text/plain": [
       "MultiOutputRegressor(estimator=KNeighborsRegressor(algorithm='auto',\n",
       "                                                   leaf_size=30,\n",
       "                                                   metric='minkowski',\n",
       "                                                   metric_params=None,\n",
       "                                                   n_jobs=None, n_neighbors=5,\n",
       "                                                   p=2, weights='distance'),\n",
       "                     n_jobs=None)"
      ]
     },
     "execution_count": 12,
     "metadata": {},
     "output_type": "execute_result"
    }
   ],
   "source": [
    "# K-NN regressor\n",
    "knn = MultiOutputRegressor(KNeighborsRegressor(n_neighbors=5, weights='distance'))\n",
    "# Use code below is for 1 dim case only\n",
    "train_in = train_in.reshape(-1,dim)\n",
    "# Use code below is for 1 dim case only\n",
    "test_in = test_in.reshape(-1, dim)\n",
    "\n",
    "# fit K-NN regressor for the training data\n",
    "knn.fit(train_in, train_out)"
   ]
  },
  {
   "cell_type": "code",
   "execution_count": 13,
   "metadata": {},
   "outputs": [],
   "source": [
    "# compute the prediction\n",
    "test_out = knn.predict(test_in)\n",
    "# compute the prediction\n",
    "train_out_pred = knn.predict(train_in)"
   ]
  },
  {
   "cell_type": "code",
   "execution_count": 14,
   "metadata": {},
   "outputs": [],
   "source": [
    "def mape(y, y_pred):\n",
    "    # Evaluate the mean average prediction error (mean of the differences divided by the initial values)\n",
    "    diff = y - y_pred\n",
    "    abs_diff = np.apply_along_axis(np.linalg.norm, 1, diff, ord=2)\n",
    "    abs_true = np.apply_along_axis(np.linalg.norm, 1, y, ord=2)\n",
    "    mape = np.mean(abs_diff/abs_true)\n",
    "    return mape"
   ]
  },
  {
   "cell_type": "code",
   "execution_count": 15,
   "metadata": {},
   "outputs": [
    {
     "data": {
      "text/plain": [
       "0.0"
      ]
     },
     "execution_count": 15,
     "metadata": {},
     "output_type": "execute_result"
    }
   ],
   "source": [
    "# Evaluate the mean average prediction error (mean of the differences divided by the initial values)\n",
    "mape(train_out, train_out_pred)"
   ]
  },
  {
   "cell_type": "code",
   "execution_count": 16,
   "metadata": {},
   "outputs": [
    {
     "data": {
      "text/plain": [
       "0.13066134830124734"
      ]
     },
     "execution_count": 16,
     "metadata": {},
     "output_type": "execute_result"
    }
   ],
   "source": [
    "# Evaluate the mean average prediction error (mean of the differences divided by the initial values)\n",
    "mape(test_true, test_out)"
   ]
  },
  {
   "cell_type": "markdown",
   "metadata": {},
   "source": [
    "# GridSearch"
   ]
  },
  {
   "cell_type": "code",
   "execution_count": null,
   "metadata": {},
   "outputs": [],
   "source": [
    "# K-NN regressor\n",
    "knn = KNeighborsRegressor()\n",
    "\n",
    "# grid parameters\n",
    "parameters = {\n",
    "    'n_neighbors' : [3, 4, 5, 6, 7, 8, 10, 15],\n",
    "    'weights' : ('uniform', 'distance'),\n",
    "    'leaf_size' : [30, 40, 50, 60, 100, 10, 20],\n",
    "    'p' : [2, 3, 1],\n",
    "}\n",
    "\n",
    "# gridsearch cross validation\n",
    "reg = GridSearchCV(knn, parameters)\n",
    "# fitting the regression via cross-validation\n",
    "reg.fit(train_in, train_out)\n",
    "# best estimator parameters\n",
    "reg.best_estimator_\n",
    "# make the prediction\n",
    "test_out = reg.predict(test_in)\n",
    "print('MAPE', mape(test_true, test_out))\n",
    "# regression on the full dataset - this is the inverse mapping to the PCA data\n",
    "# for dimension 1 use the first line, otherwise the second\n",
    "#whole_out = reg.predict(datasets[1].reshape(-1,1))\n",
    "whole_out = reg.predict(dataset)\n",
    "# store reconstructed PCA values to csv files\n",
    "# np.savetxt(f\"isomap_o_dim{dim}_reconstructed_pca.csv\", whole_out, delimiter=\";\")"
   ]
  },
  {
   "cell_type": "code",
   "execution_count": 670,
   "metadata": {},
   "outputs": [],
   "source": []
  },
  {
   "cell_type": "code",
   "execution_count": 671,
   "metadata": {},
   "outputs": [],
   "source": []
  },
  {
   "cell_type": "code",
   "execution_count": null,
   "metadata": {},
   "outputs": [],
   "source": []
  }
 ],
 "metadata": {
  "kernelspec": {
   "display_name": "Python 3",
   "language": "python",
   "name": "python3"
  },
  "language_info": {
   "codemirror_mode": {
    "name": "ipython",
    "version": 3
   },
   "file_extension": ".py",
   "mimetype": "text/x-python",
   "name": "python",
   "nbconvert_exporter": "python",
   "pygments_lexer": "ipython3",
   "version": "3.6.9"
  }
 },
 "nbformat": 4,
 "nbformat_minor": 4
}
