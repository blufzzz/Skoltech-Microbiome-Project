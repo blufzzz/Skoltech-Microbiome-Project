{
 "cells": [
  {
   "cell_type": "code",
   "execution_count": 1,
   "metadata": {},
   "outputs": [],
   "source": [
    "import pandas as pd\n",
    "from sklearn.decomposition import PCA\n",
    "\n",
    "import numpy as np\n",
    "\n",
    "from numpy import genfromtxt\n",
    "from numpy import linalg as LA\n",
    "\n",
    "import warnings\n",
    "warnings.filterwarnings('ignore')\n",
    "\n",
    "\n",
    "from mpl_toolkits import mplot3d\n",
    "\n",
    "%matplotlib inline\n",
    "import matplotlib.pyplot as plt"
   ]
  },
  {
   "cell_type": "code",
   "execution_count": 12,
   "metadata": {},
   "outputs": [],
   "source": [
    "# read the pivot tables data\n",
    "\n",
    "df_o = pd.read_csv('pivot_o.csv', skipinitialspace=True, sep=';', engine='python')\n",
    "df_f = pd.read_csv('pivot_f.csv', skipinitialspace=True, sep=';', engine='python')\n",
    "df_g = pd.read_csv('pivot_g.csv', skipinitialspace=True, sep=';', engine='python')"
   ]
  },
  {
   "cell_type": "code",
   "execution_count": 13,
   "metadata": {},
   "outputs": [
    {
     "data": {
      "text/html": [
       "<div>\n",
       "<style scoped>\n",
       "    .dataframe tbody tr th:only-of-type {\n",
       "        vertical-align: middle;\n",
       "    }\n",
       "\n",
       "    .dataframe tbody tr th {\n",
       "        vertical-align: top;\n",
       "    }\n",
       "\n",
       "    .dataframe thead th {\n",
       "        text-align: right;\n",
       "    }\n",
       "</style>\n",
       "<table border=\"1\" class=\"dataframe\">\n",
       "  <thead>\n",
       "    <tr style=\"text-align: right;\">\n",
       "      <th></th>\n",
       "      <th>Unnamed: 0</th>\n",
       "      <th>o__</th>\n",
       "      <th>o__Acidimicrobiales</th>\n",
       "      <th>o__Acidobacteriales</th>\n",
       "      <th>o__Actinomycetales</th>\n",
       "      <th>o__Aeromonadales</th>\n",
       "      <th>o__Alteromonadales</th>\n",
       "      <th>o__Anaeroplasmatales</th>\n",
       "      <th>o__Aquificales</th>\n",
       "      <th>o__Bacillales</th>\n",
       "      <th>...</th>\n",
       "      <th>o__SBla14</th>\n",
       "      <th>o__Sphaerochaetales</th>\n",
       "      <th>o__Spirobacillales</th>\n",
       "      <th>o__Sva0725</th>\n",
       "      <th>o__Thermoanaerobacterales</th>\n",
       "      <th>o__Thermogemmatisporales</th>\n",
       "      <th>o__Thiohalorhabdales</th>\n",
       "      <th>o__YLA114</th>\n",
       "      <th>o__Z20</th>\n",
       "      <th>o__mle1-48</th>\n",
       "    </tr>\n",
       "  </thead>\n",
       "  <tbody>\n",
       "    <tr>\n",
       "      <th>0</th>\n",
       "      <td>10317.000052344</td>\n",
       "      <td>0.0</td>\n",
       "      <td>0.0</td>\n",
       "      <td>0.0</td>\n",
       "      <td>0.001334</td>\n",
       "      <td>0.0</td>\n",
       "      <td>0.0</td>\n",
       "      <td>0.0</td>\n",
       "      <td>0.0</td>\n",
       "      <td>0.000140</td>\n",
       "      <td>...</td>\n",
       "      <td>0.0</td>\n",
       "      <td>0.0</td>\n",
       "      <td>0.0</td>\n",
       "      <td>0.0</td>\n",
       "      <td>0.0</td>\n",
       "      <td>0.0</td>\n",
       "      <td>0.0</td>\n",
       "      <td>0.0</td>\n",
       "      <td>0.0</td>\n",
       "      <td>0.0</td>\n",
       "    </tr>\n",
       "    <tr>\n",
       "      <th>1</th>\n",
       "      <td>10317.000052366</td>\n",
       "      <td>0.0</td>\n",
       "      <td>0.0</td>\n",
       "      <td>0.0</td>\n",
       "      <td>0.007542</td>\n",
       "      <td>0.0</td>\n",
       "      <td>0.0</td>\n",
       "      <td>0.0</td>\n",
       "      <td>0.0</td>\n",
       "      <td>0.001019</td>\n",
       "      <td>...</td>\n",
       "      <td>0.0</td>\n",
       "      <td>0.0</td>\n",
       "      <td>0.0</td>\n",
       "      <td>0.0</td>\n",
       "      <td>0.0</td>\n",
       "      <td>0.0</td>\n",
       "      <td>0.0</td>\n",
       "      <td>0.0</td>\n",
       "      <td>0.0</td>\n",
       "      <td>0.0</td>\n",
       "    </tr>\n",
       "    <tr>\n",
       "      <th>2</th>\n",
       "      <td>10317.000052369</td>\n",
       "      <td>0.0</td>\n",
       "      <td>0.0</td>\n",
       "      <td>0.0</td>\n",
       "      <td>0.000838</td>\n",
       "      <td>0.0</td>\n",
       "      <td>0.0</td>\n",
       "      <td>0.0</td>\n",
       "      <td>0.0</td>\n",
       "      <td>0.000000</td>\n",
       "      <td>...</td>\n",
       "      <td>0.0</td>\n",
       "      <td>0.0</td>\n",
       "      <td>0.0</td>\n",
       "      <td>0.0</td>\n",
       "      <td>0.0</td>\n",
       "      <td>0.0</td>\n",
       "      <td>0.0</td>\n",
       "      <td>0.0</td>\n",
       "      <td>0.0</td>\n",
       "      <td>0.0</td>\n",
       "    </tr>\n",
       "    <tr>\n",
       "      <th>3</th>\n",
       "      <td>10317.00005237</td>\n",
       "      <td>0.0</td>\n",
       "      <td>0.0</td>\n",
       "      <td>0.0</td>\n",
       "      <td>0.000000</td>\n",
       "      <td>0.0</td>\n",
       "      <td>0.0</td>\n",
       "      <td>0.0</td>\n",
       "      <td>0.0</td>\n",
       "      <td>0.000000</td>\n",
       "      <td>...</td>\n",
       "      <td>0.0</td>\n",
       "      <td>0.0</td>\n",
       "      <td>0.0</td>\n",
       "      <td>0.0</td>\n",
       "      <td>0.0</td>\n",
       "      <td>0.0</td>\n",
       "      <td>0.0</td>\n",
       "      <td>0.0</td>\n",
       "      <td>0.0</td>\n",
       "      <td>0.0</td>\n",
       "    </tr>\n",
       "    <tr>\n",
       "      <th>4</th>\n",
       "      <td>10317.000052372</td>\n",
       "      <td>0.0</td>\n",
       "      <td>0.0</td>\n",
       "      <td>0.0</td>\n",
       "      <td>0.000693</td>\n",
       "      <td>0.0</td>\n",
       "      <td>0.0</td>\n",
       "      <td>0.0</td>\n",
       "      <td>0.0</td>\n",
       "      <td>0.000000</td>\n",
       "      <td>...</td>\n",
       "      <td>0.0</td>\n",
       "      <td>0.0</td>\n",
       "      <td>0.0</td>\n",
       "      <td>0.0</td>\n",
       "      <td>0.0</td>\n",
       "      <td>0.0</td>\n",
       "      <td>0.0</td>\n",
       "      <td>0.0</td>\n",
       "      <td>0.0</td>\n",
       "      <td>0.0</td>\n",
       "    </tr>\n",
       "    <tr>\n",
       "      <th>...</th>\n",
       "      <td>...</td>\n",
       "      <td>...</td>\n",
       "      <td>...</td>\n",
       "      <td>...</td>\n",
       "      <td>...</td>\n",
       "      <td>...</td>\n",
       "      <td>...</td>\n",
       "      <td>...</td>\n",
       "      <td>...</td>\n",
       "      <td>...</td>\n",
       "      <td>...</td>\n",
       "      <td>...</td>\n",
       "      <td>...</td>\n",
       "      <td>...</td>\n",
       "      <td>...</td>\n",
       "      <td>...</td>\n",
       "      <td>...</td>\n",
       "      <td>...</td>\n",
       "      <td>...</td>\n",
       "      <td>...</td>\n",
       "      <td>...</td>\n",
       "    </tr>\n",
       "    <tr>\n",
       "      <th>14093</th>\n",
       "      <td>MSM5LLIO</td>\n",
       "      <td>0.0</td>\n",
       "      <td>0.0</td>\n",
       "      <td>0.0</td>\n",
       "      <td>0.000000</td>\n",
       "      <td>0.0</td>\n",
       "      <td>0.0</td>\n",
       "      <td>0.0</td>\n",
       "      <td>0.0</td>\n",
       "      <td>0.000000</td>\n",
       "      <td>...</td>\n",
       "      <td>0.0</td>\n",
       "      <td>0.0</td>\n",
       "      <td>0.0</td>\n",
       "      <td>0.0</td>\n",
       "      <td>0.0</td>\n",
       "      <td>0.0</td>\n",
       "      <td>0.0</td>\n",
       "      <td>0.0</td>\n",
       "      <td>0.0</td>\n",
       "      <td>0.0</td>\n",
       "    </tr>\n",
       "    <tr>\n",
       "      <th>14094</th>\n",
       "      <td>MSM5LLIQ</td>\n",
       "      <td>0.0</td>\n",
       "      <td>0.0</td>\n",
       "      <td>0.0</td>\n",
       "      <td>0.000000</td>\n",
       "      <td>0.0</td>\n",
       "      <td>0.0</td>\n",
       "      <td>0.0</td>\n",
       "      <td>0.0</td>\n",
       "      <td>0.000286</td>\n",
       "      <td>...</td>\n",
       "      <td>0.0</td>\n",
       "      <td>0.0</td>\n",
       "      <td>0.0</td>\n",
       "      <td>0.0</td>\n",
       "      <td>0.0</td>\n",
       "      <td>0.0</td>\n",
       "      <td>0.0</td>\n",
       "      <td>0.0</td>\n",
       "      <td>0.0</td>\n",
       "      <td>0.0</td>\n",
       "    </tr>\n",
       "    <tr>\n",
       "      <th>14095</th>\n",
       "      <td>MSM5ZOJY</td>\n",
       "      <td>0.0</td>\n",
       "      <td>0.0</td>\n",
       "      <td>0.0</td>\n",
       "      <td>0.000000</td>\n",
       "      <td>0.0</td>\n",
       "      <td>0.0</td>\n",
       "      <td>0.0</td>\n",
       "      <td>0.0</td>\n",
       "      <td>0.000000</td>\n",
       "      <td>...</td>\n",
       "      <td>0.0</td>\n",
       "      <td>0.0</td>\n",
       "      <td>0.0</td>\n",
       "      <td>0.0</td>\n",
       "      <td>0.0</td>\n",
       "      <td>0.0</td>\n",
       "      <td>0.0</td>\n",
       "      <td>0.0</td>\n",
       "      <td>0.0</td>\n",
       "      <td>0.0</td>\n",
       "    </tr>\n",
       "    <tr>\n",
       "      <th>14096</th>\n",
       "      <td>MSM633FF</td>\n",
       "      <td>0.0</td>\n",
       "      <td>0.0</td>\n",
       "      <td>0.0</td>\n",
       "      <td>0.000930</td>\n",
       "      <td>0.0</td>\n",
       "      <td>0.0</td>\n",
       "      <td>0.0</td>\n",
       "      <td>0.0</td>\n",
       "      <td>0.000000</td>\n",
       "      <td>...</td>\n",
       "      <td>0.0</td>\n",
       "      <td>0.0</td>\n",
       "      <td>0.0</td>\n",
       "      <td>0.0</td>\n",
       "      <td>0.0</td>\n",
       "      <td>0.0</td>\n",
       "      <td>0.0</td>\n",
       "      <td>0.0</td>\n",
       "      <td>0.0</td>\n",
       "      <td>0.0</td>\n",
       "    </tr>\n",
       "    <tr>\n",
       "      <th>14097</th>\n",
       "      <td>otu_table</td>\n",
       "      <td>0.0</td>\n",
       "      <td>0.0</td>\n",
       "      <td>0.0</td>\n",
       "      <td>0.000023</td>\n",
       "      <td>0.0</td>\n",
       "      <td>0.0</td>\n",
       "      <td>0.0</td>\n",
       "      <td>0.0</td>\n",
       "      <td>0.000000</td>\n",
       "      <td>...</td>\n",
       "      <td>0.0</td>\n",
       "      <td>0.0</td>\n",
       "      <td>0.0</td>\n",
       "      <td>0.0</td>\n",
       "      <td>0.0</td>\n",
       "      <td>0.0</td>\n",
       "      <td>0.0</td>\n",
       "      <td>0.0</td>\n",
       "      <td>0.0</td>\n",
       "      <td>0.0</td>\n",
       "    </tr>\n",
       "  </tbody>\n",
       "</table>\n",
       "<p>14098 rows × 180 columns</p>\n",
       "</div>"
      ],
      "text/plain": [
       "            Unnamed: 0  o__  o__Acidimicrobiales  o__Acidobacteriales  \\\n",
       "0      10317.000052344  0.0                  0.0                  0.0   \n",
       "1      10317.000052366  0.0                  0.0                  0.0   \n",
       "2      10317.000052369  0.0                  0.0                  0.0   \n",
       "3       10317.00005237  0.0                  0.0                  0.0   \n",
       "4      10317.000052372  0.0                  0.0                  0.0   \n",
       "...                ...  ...                  ...                  ...   \n",
       "14093         MSM5LLIO  0.0                  0.0                  0.0   \n",
       "14094         MSM5LLIQ  0.0                  0.0                  0.0   \n",
       "14095         MSM5ZOJY  0.0                  0.0                  0.0   \n",
       "14096         MSM633FF  0.0                  0.0                  0.0   \n",
       "14097        otu_table  0.0                  0.0                  0.0   \n",
       "\n",
       "       o__Actinomycetales  o__Aeromonadales  o__Alteromonadales  \\\n",
       "0                0.001334               0.0                 0.0   \n",
       "1                0.007542               0.0                 0.0   \n",
       "2                0.000838               0.0                 0.0   \n",
       "3                0.000000               0.0                 0.0   \n",
       "4                0.000693               0.0                 0.0   \n",
       "...                   ...               ...                 ...   \n",
       "14093            0.000000               0.0                 0.0   \n",
       "14094            0.000000               0.0                 0.0   \n",
       "14095            0.000000               0.0                 0.0   \n",
       "14096            0.000930               0.0                 0.0   \n",
       "14097            0.000023               0.0                 0.0   \n",
       "\n",
       "       o__Anaeroplasmatales  o__Aquificales  o__Bacillales  ...  o__SBla14  \\\n",
       "0                       0.0             0.0       0.000140  ...        0.0   \n",
       "1                       0.0             0.0       0.001019  ...        0.0   \n",
       "2                       0.0             0.0       0.000000  ...        0.0   \n",
       "3                       0.0             0.0       0.000000  ...        0.0   \n",
       "4                       0.0             0.0       0.000000  ...        0.0   \n",
       "...                     ...             ...            ...  ...        ...   \n",
       "14093                   0.0             0.0       0.000000  ...        0.0   \n",
       "14094                   0.0             0.0       0.000286  ...        0.0   \n",
       "14095                   0.0             0.0       0.000000  ...        0.0   \n",
       "14096                   0.0             0.0       0.000000  ...        0.0   \n",
       "14097                   0.0             0.0       0.000000  ...        0.0   \n",
       "\n",
       "       o__Sphaerochaetales  o__Spirobacillales  o__Sva0725  \\\n",
       "0                      0.0                 0.0         0.0   \n",
       "1                      0.0                 0.0         0.0   \n",
       "2                      0.0                 0.0         0.0   \n",
       "3                      0.0                 0.0         0.0   \n",
       "4                      0.0                 0.0         0.0   \n",
       "...                    ...                 ...         ...   \n",
       "14093                  0.0                 0.0         0.0   \n",
       "14094                  0.0                 0.0         0.0   \n",
       "14095                  0.0                 0.0         0.0   \n",
       "14096                  0.0                 0.0         0.0   \n",
       "14097                  0.0                 0.0         0.0   \n",
       "\n",
       "       o__Thermoanaerobacterales  o__Thermogemmatisporales  \\\n",
       "0                            0.0                       0.0   \n",
       "1                            0.0                       0.0   \n",
       "2                            0.0                       0.0   \n",
       "3                            0.0                       0.0   \n",
       "4                            0.0                       0.0   \n",
       "...                          ...                       ...   \n",
       "14093                        0.0                       0.0   \n",
       "14094                        0.0                       0.0   \n",
       "14095                        0.0                       0.0   \n",
       "14096                        0.0                       0.0   \n",
       "14097                        0.0                       0.0   \n",
       "\n",
       "       o__Thiohalorhabdales  o__YLA114  o__Z20  o__mle1-48  \n",
       "0                       0.0        0.0     0.0         0.0  \n",
       "1                       0.0        0.0     0.0         0.0  \n",
       "2                       0.0        0.0     0.0         0.0  \n",
       "3                       0.0        0.0     0.0         0.0  \n",
       "4                       0.0        0.0     0.0         0.0  \n",
       "...                     ...        ...     ...         ...  \n",
       "14093                   0.0        0.0     0.0         0.0  \n",
       "14094                   0.0        0.0     0.0         0.0  \n",
       "14095                   0.0        0.0     0.0         0.0  \n",
       "14096                   0.0        0.0     0.0         0.0  \n",
       "14097                   0.0        0.0     0.0         0.0  \n",
       "\n",
       "[14098 rows x 180 columns]"
      ]
     },
     "execution_count": 13,
     "metadata": {},
     "output_type": "execute_result"
    }
   ],
   "source": [
    "df_o"
   ]
  },
  {
   "cell_type": "code",
   "execution_count": 14,
   "metadata": {},
   "outputs": [],
   "source": [
    "# drop the names of the samples\n",
    "\n",
    "data_o = df_o.drop('Unnamed: 0', axis = 1)\n",
    "data_f = df_f.drop('Unnamed: 0', axis = 1)\n",
    "data_g = df_g.drop('Unnamed: 0', axis = 1)"
   ]
  },
  {
   "cell_type": "code",
   "execution_count": 15,
   "metadata": {},
   "outputs": [
    {
     "data": {
      "text/plain": [
       "(14098, 179)"
      ]
     },
     "execution_count": 15,
     "metadata": {},
     "output_type": "execute_result"
    }
   ],
   "source": [
    "data_o.shape"
   ]
  },
  {
   "cell_type": "code",
   "execution_count": 26,
   "metadata": {},
   "outputs": [],
   "source": [
    "# evaluate PCA - this was already calculated and stored to proj*.csv files, but we need it to calculate the inverse\n",
    "\n",
    "pca = PCA(n_components=20)\n",
    "pca.fit(data_o)\n",
    "\n",
    "eigenvectors_o = pca.components_\n",
    "eigenvalues_o = pca.explained_variance_"
   ]
  },
  {
   "cell_type": "code",
   "execution_count": 27,
   "metadata": {},
   "outputs": [],
   "source": [
    "# perform PCA transformation\n",
    "\n",
    "pca_o = pca.fit_transform(data_o)"
   ]
  },
  {
   "cell_type": "code",
   "execution_count": null,
   "metadata": {},
   "outputs": [],
   "source": []
  },
  {
   "cell_type": "code",
   "execution_count": 22,
   "metadata": {},
   "outputs": [],
   "source": [
    "# paths with the isomap reconstructed data\n",
    "\n",
    "paths = [\n",
    "    \"./proj_o.csv\"\n",
    "]\n",
    "\n",
    "for num in range(1,11) :\n",
    "    name = \"isomap_o_dim\" + str(num) + \"_reconstructed_pca.csv\"\n",
    "    paths.append(name)"
   ]
  },
  {
   "cell_type": "code",
   "execution_count": 23,
   "metadata": {},
   "outputs": [
    {
     "data": {
      "text/plain": [
       "['./proj_o.csv',\n",
       " 'isomap_o_dim1_reconstructed_pca.csv',\n",
       " 'isomap_o_dim2_reconstructed_pca.csv',\n",
       " 'isomap_o_dim3_reconstructed_pca.csv',\n",
       " 'isomap_o_dim4_reconstructed_pca.csv',\n",
       " 'isomap_o_dim5_reconstructed_pca.csv',\n",
       " 'isomap_o_dim6_reconstructed_pca.csv',\n",
       " 'isomap_o_dim7_reconstructed_pca.csv',\n",
       " 'isomap_o_dim8_reconstructed_pca.csv',\n",
       " 'isomap_o_dim9_reconstructed_pca.csv',\n",
       " 'isomap_o_dim10_reconstructed_pca.csv']"
      ]
     },
     "execution_count": 23,
     "metadata": {},
     "output_type": "execute_result"
    }
   ],
   "source": [
    "paths"
   ]
  },
  {
   "cell_type": "code",
   "execution_count": 118,
   "metadata": {},
   "outputs": [],
   "source": [
    "# read the isomap reconstructed data\n",
    "\n",
    "datasets = [np.genfromtxt(path, delimiter=';') for path in paths]"
   ]
  },
  {
   "cell_type": "code",
   "execution_count": 10,
   "metadata": {},
   "outputs": [],
   "source": [
    "PCA_o = datasets[0]"
   ]
  },
  {
   "cell_type": "code",
   "execution_count": 11,
   "metadata": {},
   "outputs": [
    {
     "name": "stdout",
     "output_type": "stream",
     "text": [
      "(14098, 20)\n"
     ]
    }
   ],
   "source": [
    "print(PCA_o.shape)"
   ]
  },
  {
   "cell_type": "markdown",
   "metadata": {},
   "source": [
    "# Repeat the fragment below for all reconstructed isomap datasets"
   ]
  },
  {
   "cell_type": "code",
   "execution_count": 124,
   "metadata": {},
   "outputs": [],
   "source": [
    "# perform the inverse. Change the index at every iteration\n",
    "\n",
    "inverse = pca.inverse_transform(datasets[10])"
   ]
  },
  {
   "cell_type": "code",
   "execution_count": 125,
   "metadata": {},
   "outputs": [
    {
     "data": {
      "text/plain": [
       "(14098, 179)"
      ]
     },
     "execution_count": 125,
     "metadata": {},
     "output_type": "execute_result"
    }
   ],
   "source": [
    "inverse.shape"
   ]
  },
  {
   "cell_type": "code",
   "execution_count": 51,
   "metadata": {},
   "outputs": [
    {
     "data": {
      "text/plain": [
       "array([[-0.0012157956155474242, -5.373073047876079e-05,\n",
       "        -1.2848433843262521e-05, ..., 1.270923604714639e-09,\n",
       "        -2.923089985940709e-06, -1.6884755471511273e-09],\n",
       "       [-0.0008058266870344886, -2.73300228976861e-05,\n",
       "        -8.080070591804287e-06, ..., -6.93696996512235e-08,\n",
       "        -3.161515029810563e-06, -5.294452223463514e-08],\n",
       "       [-0.000505100145672072, -2.060950800644633e-05,\n",
       "        -4.348056783218412e-06, ..., -9.817522270403682e-08,\n",
       "        -4.249071401243223e-06, -2.1182912090996773e-08],\n",
       "       ...,\n",
       "       [5.727805201799518e-05, -2.7029919642077004e-06,\n",
       "        5.000586286392986e-06, ..., -1.526487362830568e-07,\n",
       "        -2.1655779976421486e-06, -1.5434453311618068e-08],\n",
       "       [-5.9280539075324515e-05, -6.25375539636377e-07,\n",
       "        -2.906845545239669e-06, ..., -3.9228308011850737e-08,\n",
       "        -2.5307939592509816e-06, -2.0076708108105135e-08],\n",
       "       [-0.0009978241819689196, -3.7189148481551353e-05,\n",
       "        -8.666393378450602e-06, ..., -1.4046820471446682e-07,\n",
       "        -3.6612140363022886e-06, -1.4496245905326823e-07]], dtype=object)"
      ]
     },
     "execution_count": 51,
     "metadata": {},
     "output_type": "execute_result"
    }
   ],
   "source": [
    "#df_o.values[:, 1:] - inverse"
   ]
  },
  {
   "cell_type": "code",
   "execution_count": 126,
   "metadata": {},
   "outputs": [],
   "source": [
    "# calculate the mean average error as the differences divided by the sample values (see the report)\n",
    "\n",
    "diff = df_o.values[:, 1:] - inverse\n",
    "abs_diff = np.apply_along_axis(np.linalg.norm, 1, diff, ord=2)\n",
    "abs_true = np.apply_along_axis(np.linalg.norm, 1, df_o.values[:, 1:], ord=2)\n",
    "#max_ = max(abs_true)\n",
    "#min_ = min(abs_true)\n",
    "mae = np.mean(abs_diff/abs_true)"
   ]
  },
  {
   "cell_type": "code",
   "execution_count": 69,
   "metadata": {},
   "outputs": [],
   "source": [
    "#errors = []"
   ]
  },
  {
   "cell_type": "code",
   "execution_count": 127,
   "metadata": {},
   "outputs": [],
   "source": [
    "# add new error to the list\n",
    "\n",
    "errors.append(mae)"
   ]
  },
  {
   "cell_type": "code",
   "execution_count": 128,
   "metadata": {},
   "outputs": [
    {
     "data": {
      "text/plain": [
       "[0.30523027442050654,\n",
       " 0.06599741346040792,\n",
       " 0.05412119892860435,\n",
       " 0.04481798578445261,\n",
       " 0.04225166166322751,\n",
       " 0.04057870391357813,\n",
       " 0.03970612003168245,\n",
       " 0.03883152120483207,\n",
       " 0.03823595740417444,\n",
       " 0.038244575579438764]"
      ]
     },
     "execution_count": 128,
     "metadata": {},
     "output_type": "execute_result"
    }
   ],
   "source": [
    "errors"
   ]
  },
  {
   "cell_type": "markdown",
   "metadata": {},
   "source": [
    "# Fragment ended"
   ]
  },
  {
   "cell_type": "code",
   "execution_count": 129,
   "metadata": {},
   "outputs": [],
   "source": [
    "x = np.linspace(1, 10, 10,endpoint=True)"
   ]
  },
  {
   "cell_type": "code",
   "execution_count": 130,
   "metadata": {},
   "outputs": [],
   "source": [
    "y = np.take(errors, range(0,10))"
   ]
  },
  {
   "cell_type": "code",
   "execution_count": 131,
   "metadata": {},
   "outputs": [
    {
     "data": {
      "text/plain": [
       "[<matplotlib.lines.Line2D at 0x7ff86eeba5c0>]"
      ]
     },
     "execution_count": 131,
     "metadata": {},
     "output_type": "execute_result"
    },
    {
     "data": {
      "image/png": "[encoded data removed]",
      "text/plain": [
       "<Figure size 432x288 with 1 Axes>"
      ]
     },
     "metadata": {
      "needs_background": "light"
     },
     "output_type": "display_data"
    }
   ],
   "source": [
    "# plotting the errors\n",
    "\n",
    "plt.plot(x, y, '-ok')"
   ]
  },
  {
   "cell_type": "code",
   "execution_count": null,
   "metadata": {},
   "outputs": [],
   "source": []
  }
 ],
 "metadata": {
  "kernelspec": {
   "display_name": "Python 3",
   "language": "python",
   "name": "python3"
  },
  "language_info": {
   "codemirror_mode": {
    "name": "ipython",
    "version": 3
   },
   "file_extension": ".py",
   "mimetype": "text/x-python",
   "name": "python",
   "nbconvert_exporter": "python",
   "pygments_lexer": "ipython3",
   "version": "3.6.9"
  }
 },
 "nbformat": 4,
 "nbformat_minor": 4
}
